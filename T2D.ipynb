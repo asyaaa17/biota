{
 "cells": [
  {
   "cell_type": "markdown",
   "id": "61ab29bf-6a52-46cb-8763-d1ab4f27510f",
   "metadata": {},
   "source": [
    "# Association of the gut microbiome with T2D¶"
   ]
  },
  {
   "cell_type": "markdown",
   "id": "86dc6112-1e80-4de3-92d9-a0b39a21cf8c",
   "metadata": {},
   "source": [
    "### https://docs.google.com/document/d/1Iv-LkPUQRKj3V3kI_Ax2DWC5QKs1xKsyeiAb06XNkP4/edit¶\n",
    "### 1) бактерии, ассоциированные с ожирением из базы данных chocoplan\n",
    "### 2) общее количество последовательностей для выбранной бактерии\n",
    "### 3) фильтрация геномных последовательностей на основе их длины (от 100 до 150 нуклеотидов)\n",
    "### 4) количество отфильтрованных последовательностей\n",
    "### 5) проверка уникальности в BLAST и вывод уникальных последовательностей"
   ]
  },
  {
   "cell_type": "markdown",
   "id": "49c62fc7-ebd3-460e-bb74-f0ecb2c45b85",
   "metadata": {},
   "source": [
    "## Bacteroides intestinalis"
   ]
  },
  {
   "cell_type": "code",
   "execution_count": 2,
   "id": "a185236a-e286-437f-a21d-4b9bcd44454d",
   "metadata": {},
   "outputs": [
    {
     "name": "stdout",
     "output_type": "stream",
     "text": [
      "Количество последовательностей Bacteroides_intestinalis: 9941\n"
     ]
    }
   ],
   "source": [
    "from Bio import SeqIO\n",
    "\n",
    "input_file = \"Bacteroides_intestinalis.ffn\"\n",
    "\n",
    "count = sum(1 for record in SeqIO.parse(input_file, \"fasta\"))\n",
    "print(f\"Количество последовательностей Bacteroides_intestinalis: {count}\")"
   ]
  },
  {
   "cell_type": "code",
   "execution_count": 3,
   "id": "f8ec1eeb-a6fa-4608-832a-48a7a6a771cb",
   "metadata": {},
   "outputs": [
    {
     "name": "stdout",
     "output_type": "stream",
     "text": [
      "Количество последовательностей Bacteroides_intestinalis: 406\n"
     ]
    }
   ],
   "source": [
    "input_file = \"Bacteroides_intestinalis.ffn\"\n",
    "output_file = \"filtered_sequences_intestinalis_100_150.ffn\"\n",
    "\n",
    "with open(input_file, \"r\") as in_handle, open(output_file, \"w\") as out_handle:\n",
    "    for record in SeqIO.parse(in_handle, \"fasta\"):\n",
    "        if 100 <= len(record.seq) <= 150:\n",
    "            SeqIO.write(record, out_handle, \"fasta\")\n",
    "count = sum(1 for record in SeqIO.parse(output_file, \"fasta\"))\n",
    "print(f\"Количество последовательностей Bacteroides_intestinalis: {count}\")"
   ]
  },
  {
   "cell_type": "code",
   "execution_count": 12,
   "id": "7e97fa06-a58a-4ba5-a784-d9ae82b2effa",
   "metadata": {},
   "outputs": [
    {
     "name": "stdout",
     "output_type": "stream",
     "text": [
      "Последовательность номер 3:\n",
      "ID: 329854__B3C5A5__BACINT_00087|k__Bacteria.p__Bacteroidetes.c__Bacteroidia.o__Bacteroidales.f__Bacteroidaceae.g__Bacteroides.s__Bacteroides_intestinalis|UniRef90_B3C5A5|UniRef50_B3C5A5|129\n",
      "Sequence: TTGTATTATTGGGCAGTTGGAGCTAAAGTATATTGTGGGTATTTCTTTGCTGTGATATGTTTTTATGGCTTTTGTATGGAAAAAGAGGAGAATATTTGCATTTACTTTGAAGAGATTGGTTATCTTTGA\n",
      "\n",
      "Последовательность номер 10:\n",
      "ID: 329854__B3C5R7__BACINT_00250|k__Bacteria.p__Bacteroidetes.c__Bacteroidia.o__Bacteroidales.f__Bacteroidaceae.g__Bacteroides.s__Bacteroides_intestinalis|UniRef90_B3C5R7|UniRef50_B3C5R7|141\n",
      "Sequence: ATGAACTTTCCTCCTTACCACAGAAGCCTTTATACCCAAAAGGAAAGTACTTCAACGTTGAGAGGAGAACTTGTGGAAACAGATATTATTTTTCTTCTCCTTCATGGTATAGAAAGGAGAATAGAAGCAGATATACCTTAA\n",
      "\n",
      "Последовательность номер 17:\n",
      "ID: 329854__B3C6N0__BACINT_00566|k__Bacteria.p__Bacteroidetes.c__Bacteroidia.o__Bacteroidales.f__Bacteroidaceae.g__Bacteroides.s__Bacteroides_intestinalis|UniRef90_B3C6N0|UniRef50_B3C6N0|150\n",
      "Sequence: ATGAATTCACCAGCAATCTTTAATTCATTACTGTACCGAAACACTTTACTTCAACCTACGGGTGAAAATAATCCTTTTTTATATAGAACTTTCCGGGAATTAAAAAATATGCCTGAAAATGAAGAGGCATTTTCTTTTTTCTTCTATTGA\n",
      "\n",
      "Последовательность номер 29:\n",
      "ID: 329854__B3C7F2__BACINT_00844|k__Bacteria.p__Bacteroidetes.c__Bacteroidia.o__Bacteroidales.f__Bacteroidaceae.g__Bacteroides.s__Bacteroides_intestinalis|UniRef90_B3C7F2|UniRef50_B3C7F2|141\n",
      "Sequence: ATGCTTAATCGACAGGATAAAAATACCCTTCCACTGTTGATGCAGATAAATAGAGAGGGGCAGAGTGTGGAAAGGGGGAGAGAAATAGAGAAAAGCGTTATTCAACGCCCTTCTCTATTCTTGATATCGTTTAAAACATAA\n",
      "\n",
      "Последовательность номер 31:\n",
      "ID: 329854__B3C7M2__BACINT_00914|k__Bacteria.p__Bacteroidetes.c__Bacteroidia.o__Bacteroidales.f__Bacteroidaceae.g__Bacteroides.s__Bacteroides_intestinalis|UniRef90_B3C7M2|UniRef50_B3C7M2|139\n",
      "Sequence: GGTCGAATCCTTCTGGAACAGGGGGACGAGCCATTGCACAAGAGACTCCGTAAAAGACACACCCGCCCATCACTCCGCCATGCTCTCTGACATAGTGATGACTAAAGAAGTCCTAGACACAGCCTGCGACAAAGGATAG\n",
      "\n",
      "Последовательность номер 55:\n",
      "ID: 329854__A0A3E4L2V9__BACINT_01539|k__Bacteria.p__Bacteroidetes.c__Bacteroidia.o__Bacteroidales.f__Bacteroidaceae.g__Bacteroides.s__Bacteroides_intestinalis|UniRef90_A0A3E4L2V9|UniRef50_A0A3E4L2V9|135\n",
      "Sequence: ATGGATACATATATGGTATTCTGCCATAATGATATCCAAACCTGCAAAATACAGAATGAATACACTAATGGCCAGATTGCATACACTTTCTACCCATTAAAAGAAGAATCACAGGTACAATCATCTCTTCAGTAG\n",
      "\n",
      "Последовательность номер 56:\n",
      "ID: 329854__B3CAM8__BACINT_01543|k__Bacteria.p__Bacteroidetes.c__Bacteroidia.o__Bacteroidales.f__Bacteroidaceae.g__Bacteroides.s__Bacteroides_intestinalis|UniRef90_B3CAM8|UniRef50_B3CAM8|132\n",
      "Sequence: ATGTTGTTTCTACATGCAAAATTAGCGTACAAGCAATATGTATATATACAATATCTCGCCAATATCATGCTCATATCCGCAATGCACAAAGAGAATACAGTTATGGCGAAATTGAATACAACAGTCTTTTAG\n",
      "\n",
      "Последовательность номер 57:\n",
      "ID: 329854__B3C7Q3__BACINT_01594|k__Bacteria.p__Bacteroidetes.c__Bacteroidia.o__Bacteroidales.f__Bacteroidaceae.g__Bacteroides.s__Bacteroides_intestinalis|UniRef90_B3C7Q3|UniRef50_B3C7Q3|150\n",
      "Sequence: TTGTATTTCTTTGCGTATATAACGGGACGTTTTTTGAAATATACTCATTTAGAGGAAGAAATGCAAAAAAAAGATCAGGAACTTATAATAAAAGGAGGGATGAACTTGCAGATATCCGATTTGATAATGAAAAGTTTCGCGTCCGGATAA\n",
      "\n",
      "Последовательность номер 66:\n",
      "ID: 329854__R5MD17__BACINT_01889|k__Bacteria.p__Bacteroidetes.c__Bacteroidia.o__Bacteroidales.f__Bacteroidaceae.g__Bacteroides.s__Bacteroides_intestinalis|UniRef90_R5MD17|UniRef50_R5MD17|126\n",
      "Sequence: ATGGATAAAATAAATTTCCAAAAGCCGGAGTTTTTTTCGGCTTTTGGAATTTATCCAAGTATCACCCCGCTTACAAGGTATCTTTTCTTTTATCAAGAGGCTAAAGAATTAGAATTCATTATTTGA\n",
      "\n",
      "Последовательность номер 87:\n",
      "ID: 329854__B3CFL9__BACINT_02680|k__Bacteria.p__Bacteroidetes.c__Bacteroidia.o__Bacteroidales.f__Bacteroidaceae.g__Bacteroides.s__Bacteroides_intestinalis|UniRef90_B3CFL9|UniRef50_B3CFL9|132\n",
      "Sequence: ATGATGGAGTCTGCAGGAAATGTCTACAAACTATGTTGGGGGTATTTTCTAGAGAGAGTATTTGTAAGTACTATAGGTGGTATTAAGATAATCTCCAAGCCCTTTCAAGTTATTGTCTATAAGGATATGTGA\n",
      "\n",
      "Последовательность номер 89:\n",
      "ID: 329854__B3CG66__BACINT_02770|k__Bacteria.p__Bacteroidetes.c__Bacteroidia.o__Bacteroidales.f__Bacteroidaceae.g__Bacteroides.s__Bacteroides_intestinalis|UniRef90_B3CG66|UniRef50_B3CG66|132\n",
      "Sequence: ATGAATATTAAGTGTGAAAATTACAATTATAATTCGGTTTCAGTATATATTACGATACTTCAGGCTTATTGTACTGTAAATAAAAAGAAAACAGGAGAAAACGTAGGTAAGGAAGACGCCAAAAGGGTGTAG\n",
      "\n",
      "Последовательность номер 107:\n",
      "ID: 329854__B3CAT9__BACINT_03324|k__Bacteria.p__Bacteroidetes.c__Bacteroidia.o__Bacteroidales.f__Bacteroidaceae.g__Bacteroides.s__Bacteroides_intestinalis|UniRef90_B3CAT9|UniRef50_B3CAT9|123\n",
      "Sequence: TTGAATGTGGTACAGGTAAAAATCCAGATAAAGATTGTGGTGGAAGAATATGTATTAATGGATACGCAAGATCTAAAGGTTATTGGCTGCAAACAAAATCATCGGATTCTACTTTCCCTATAG\n",
      "\n",
      "Последовательность номер 111:\n",
      "ID: 329854__B3CB93__BACINT_03480|k__Bacteria.p__Bacteroidetes.c__Bacteroidia.o__Bacteroidales.f__Bacteroidaceae.g__Bacteroides.s__Bacteroides_intestinalis|UniRef90_B3CB93|UniRef50_B3CB93|147\n",
      "Sequence: ATGAAGGAGAATTGCCCTGAGGACAATTCTCTTTCTTTTTTATATACTTTAGAGAACAACTTTCTTTTTTTATATAAAATAAATTTGAAAAAGCCATTTGTTGTTTCTATATTTAGCCCTGAAAACGACAGCAGGTTGATTAAGTAA\n",
      "\n",
      "Последовательность номер 116:\n",
      "ID: 329854__B3CBJ1__BACINT_03578|k__Bacteria.p__Bacteroidetes.c__Bacteroidia.o__Bacteroidales.f__Bacteroidaceae.g__Bacteroides.s__Bacteroides_intestinalis|UniRef90_B3CBJ1|UniRef50_B3CBJ1|147\n",
      "Sequence: GTGAAAGTGCGTTTCAACGGGAAGTACGACAAAGTACCGGGTAACAGCATCGACGGAATAACCTTCCGCAACATCACTTATACGGGAATCGGCGAAAATCCCTCTGTCATCGAAGGACTGGACAAAGAACGAACCGTAAAAACGTGA\n",
      "\n",
      "Последовательность номер 152:\n",
      "ID: 329854__R5MJP4__BACINT_04619|k__Bacteria.p__Bacteroidetes.c__Bacteroidia.o__Bacteroidales.f__Bacteroidaceae.g__Bacteroides.s__Bacteroides_intestinalis|UniRef90_R5MJP4|UniRef50_R5MJP4|129\n",
      "Sequence: TTGATTGTCTATAAGTATAATTCTCTGATTTTATGGCTGTTGTTAGGATTGCCTATCAGTATGATTTCGCTTTCTTTATTTAATAAAAAAAGTAATGCATTACATAATATTAATAATATGAGACTATAA\n",
      "\n",
      "Последовательность номер 185:\n",
      "ID: 329854__A0A139LUD3__HMPREF2531_00382|k__Bacteria.p__Bacteroidetes.c__Bacteroidia.o__Bacteroidales.f__Bacteroidaceae.g__Bacteroides.s__Bacteroides_intestinalis|UniRef90_A0A139LUD3|UniRef50_A0A139LUD3|141\n",
      "Sequence: ATGATATTTGTGTTTAGTTTTAGATTATATAGTCTTAATATAGACAAAGATAGCAATAAATTCTATATAAAAGAACTGCATCAAAATAAAATTGTCAGTTTTATTTTGATGCAGTTTACATCTGTGGTTAAGTTCTCTTAG\n",
      "\n",
      "Последовательность номер 159:\n",
      "ID: 329854__B3CHT6__BACINT_04740|k__Bacteria.p__Bacteroidetes.c__Bacteroidia.o__Bacteroidales.f__Bacteroidaceae.g__Bacteroides.s__Bacteroides_intestinalis|UniRef90_B3CHT6|UniRef50_B3CHT6|129\n",
      "Sequence: TTGACAGGGATAAAGGAAGTTTTTAGCGAACCTGCCATGCAAGCGGCGTTTGACGGATATATAATGAATTCGGCCGATGAAGTTGAAGGAATGATTGAAAAGATAGCAATTTCGGACAACTTCTTATAA\n",
      "\n",
      "Последовательность номер 194:\n",
      "ID: 329854__A0A139LTC2__HMPREF2531_00598|k__Bacteria.p__Bacteroidetes.c__Bacteroidia.o__Bacteroidales.f__Bacteroidaceae.g__Bacteroides.s__Bacteroides_intestinalis|UniRef90_A0A139LTC2|UniRef50_A0A139LTC2|123\n",
      "Sequence: ATGAAAAAGAATAAGATGGTAGCATATCTTCTGACTCCAGAAATCTTAAATCTCAGATTTAGGACTTATTTAATTATATGTATTGTAAATCAGAGATATACAAACGGTGCCAAAAAAATATGA\n",
      "\n",
      "Последовательность номер 209:\n",
      "ID: 329854__A0A139LRT3__HMPREF2531_00952|k__Bacteria.p__Bacteroidetes.c__Bacteroidia.o__Bacteroidales.f__Bacteroidaceae.g__Bacteroides.s__Bacteroides_intestinalis|UniRef90_A0A139LRT3|UniRef50_A0A0P0FLN1|150\n",
      "Sequence: ATGTCAATATATCAGCTTGGTGACGATCGGTTGACTAACTTGAAAATATTGGCTCCGAATATCCTTGGTCGGAAGGTTGATGACGAGCTAATCCATACGTTCTGTTTTATCTCCGTTAAAGAGGAAGTCGGACCAATTTCGGAAATATGA\n",
      "\n",
      "Последовательность номер 251:\n",
      "ID: 329854__A0A139LJ48__HMPREF2531_02014|k__Bacteria.p__Bacteroidetes.c__Bacteroidia.o__Bacteroidales.f__Bacteroidaceae.g__Bacteroides.s__Bacteroides_intestinalis|UniRef90_A0A139LJ48|UniRef50_A0A139LJ48|132\n",
      "Sequence: ATGTTATATGATAAAGGGTTGGATGATTTAACTCTTGAGGAATCTGATTATATTTTGGAAGAGGAATTTAACAAAGTATGGTCGCTATCATTTATTAAAAACGAACAACTATATGGTAAGATACGTGAATGA\n",
      "\n",
      "Последовательность номер 257:\n",
      "ID: 329854__A0A139LIP5__HMPREF2531_02096|k__Bacteria.p__Bacteroidetes.c__Bacteroidia.o__Bacteroidales.f__Bacteroidaceae.g__Bacteroides.s__Bacteroides_intestinalis|UniRef90_A0A139LIP5|UniRef50_A0A139LIP5|120\n",
      "Sequence: TTGATTACTTTACACGTAGGGACAGTAATGATGATTATTTTGCTGAGCGATGTATTCGGTGAAAGAATAGTAAATAAAGCCTTTGTGAGAAATTTTATCCATAAACTAATATTTATATAA\n",
      "\n",
      "Последовательность номер 259:\n",
      "ID: 329854__A0A139LIA6__HMPREF2531_02141|k__Bacteria.p__Bacteroidetes.c__Bacteroidia.o__Bacteroidales.f__Bacteroidaceae.g__Bacteroides.s__Bacteroides_intestinalis|UniRef90_A0A139LIA6|UniRef50_A0A139LIA6|135\n",
      "Sequence: ATGAGTCAAAGAAATACAGATGTGGATGTCTTGAAAGGTATAGGAATTATACTAATGATATTAGGACATTGCTCTCTTACATATGCATTCAAGAAAGGCATATTTCTATTTCACATGCCTTTGTTTTTTTGGTGA\n",
      "\n",
      "Последовательность номер 260:\n",
      "ID: 329854__A0A139LIB6__HMPREF2531_02151|k__Bacteria.p__Bacteroidetes.c__Bacteroidia.o__Bacteroidales.f__Bacteroidaceae.g__Bacteroides.s__Bacteroides_intestinalis|UniRef90_A0A139LIB6|UniRef50_A0A139LIB6|132\n",
      "Sequence: GTGCAAGTGGCGTTGGAAGTCCTGCCTAACAAAGGTGTAGGACGTGCCTATGCAAAAGTCATTGATGACGCTTCTTCTGAATCGTTAAGAACACTGTTCGATGAGCATATCTCAAAGATGCTGAAATCATAA\n",
      "\n",
      "Последовательность номер 261:\n",
      "ID: 329854__A0A139LIB5__HMPREF2531_02152|k__Bacteria.p__Bacteroidetes.c__Bacteroidia.o__Bacteroidales.f__Bacteroidaceae.g__Bacteroides.s__Bacteroides_intestinalis|UniRef90_A0A139LIB5|UniRef50_A0A139LIB5|123\n",
      "Sequence: ATGGTACTCGTCCAAATAGCCTTGAAGTTGTTCTTTGCTATAATGATGGTGTATGCCGCGCAGCCACCCCTTGATATTTATGATGTGTATATGCATATCCGGAAAGTTGCTACCTTTTTCTGA\n",
      "\n",
      "Последовательность номер 270:\n",
      "ID: 329854__A0A139LFX2__HMPREF2531_02435|k__Bacteria.p__Bacteroidetes.c__Bacteroidia.o__Bacteroidales.f__Bacteroidaceae.g__Bacteroides.s__Bacteroides_intestinalis|UniRef90_A0A139LFX2|UniRef50_A0A139LFX2|132\n",
      "Sequence: ATGGATATAAATCATACTGCGCAGCTTGTTCTGTCGAAGAGCACGGATGATGGTAAAACCTGGAAAATGCATAATTATGCCCGTACGAATACAACGGAGGCGCAGGTTGTCGAGGTAGAACCGGGGTGCTGA\n",
      "\n",
      "Последовательность номер 298:\n",
      "ID: 329854__A0A139L3L2__HMPREF2531_03223|k__Bacteria.p__Bacteroidetes.c__Bacteroidia.o__Bacteroidales.f__Bacteroidaceae.g__Bacteroides.s__Bacteroides_intestinalis|UniRef90_A0A139L3L2|UniRef50_A0A139L3L2|129\n",
      "Sequence: ATGGAGGTAAACGAGGGCGGATTTGAAAAAACTCCTGAAATCCGCATGAGAAGAAAAAAGAGACTTGTCTGGAAGCGTGGAATGACAAACCGTATAAAGGATGTATGTCGTCTGTATTTGACTGGCTGA\n",
      "\n",
      "Последовательность номер 299:\n",
      "ID: 329854__A0A139L3Q1__HMPREF2531_03247|k__Bacteria.p__Bacteroidetes.c__Bacteroidia.o__Bacteroidales.f__Bacteroidaceae.g__Bacteroides.s__Bacteroides_intestinalis|UniRef90_A0A139L3Q1|UniRef50_A0A139L3Q1|120\n",
      "Sequence: TTGTATATCTATCTTGTTTCGTATAATGAAATGCAGCTTTTGGGTATATATGATATTCGTTGTTTTTCAGTTTTTTATTTTCCTGTATTGGAAGTTTATAAGTACGATTTTCTTTTCTAA\n",
      "\n",
      "Последовательность номер 300:\n",
      "ID: 329854__A0A139L3M8__HMPREF2531_03250|k__Bacteria.p__Bacteroidetes.c__Bacteroidia.o__Bacteroidales.f__Bacteroidaceae.g__Bacteroides.s__Bacteroides_intestinalis|UniRef90_A0A139L3M8|UniRef50_A0A139L3M8|141\n",
      "Sequence: ATGCGCTTTTCTCAGAAATTGTTTGAAAATGCAATTTTCTATTTTTATATAATTGGTATGAAACGAAGCGGTGTAAATGTGAACTACGGTATCACGAGGCAATGCATTAGGTCACGACAATGGTTTTATCGGCTAGTTTAA\n",
      "\n",
      "Последовательность номер 206:\n",
      "ID: 329854__A0A139LSG5__HMPREF2531_00893|k__Bacteria.p__Bacteroidetes.c__Bacteroidia.o__Bacteroidales.f__Bacteroidaceae.g__Bacteroides.s__Bacteroides_intestinalis|UniRef90_A0A139LSG5|UniRef50_A0A139LSG5|120\n",
      "Sequence: ATGAAGACCGTTACAGTCTTCAATATCTTATTAAATCTCTATGAAACTTCAAAGAAAATCATATTTCTGTTTCTGAGCGCAAAGATAATCAATGAAATATATAGATTCCCAATATTTTAA\n",
      "\n",
      "Последовательность номер 318:\n",
      "ID: 329854__A0A139L1B6__HMPREF2531_03720|k__Bacteria.p__Bacteroidetes.c__Bacteroidia.o__Bacteroidales.f__Bacteroidaceae.g__Bacteroides.s__Bacteroides_intestinalis|UniRef90_A0A139L1B6|UniRef50_A0A139L1B6|126\n",
      "Sequence: ATGGAAAAGAACATTTTTGAATTAACTGTTGAAGAACAAGAAAACATTTATGGTGGTGAAAGAGTTATTGTAGGTTATCAAATACTAAAAGATGGAACTATAATAGCTGTTTATGGAGATCTGTAA\n",
      "\n",
      "Последовательность номер 335:\n",
      "ID: 329854__A0A139KXT4__HMPREF2531_04129|k__Bacteria.p__Bacteroidetes.c__Bacteroidia.o__Bacteroidales.f__Bacteroidaceae.g__Bacteroides.s__Bacteroides_intestinalis|UniRef90_A0A139KXT4|UniRef50_A0A139KXT4|147\n",
      "Sequence: GTGCCTGAAAACTATTTCTGTTCTTGCAAGAAACTAATCGCGGCATCGCAGCAAACTAATATTTTTCTTGCATATTATTATTTTTTTACCACATCTGTGCTTCTTTCTTACAATAACTGTTGTAAGAAAGAAGCACAGATGTGGTAA\n",
      "\n",
      "Последовательность номер 344:\n",
      "ID: 329854__A0A139KWU9__HMPREF2531_04233|k__Bacteria.p__Bacteroidetes.c__Bacteroidia.o__Bacteroidales.f__Bacteroidaceae.g__Bacteroides.s__Bacteroides_intestinalis|UniRef90_A0A139KWU9|UniRef50_A0A139KWU9|144\n",
      "Sequence: ATGACTGATTTGCAGCATAACATGGATATTTCTCGTGTTCCTGAACCGATAGAAAAGGATTATGCGAGAATCAAGCGTTATAAAAAAGAATACAACGTACTTTTGGATATGATTCGGGAGTTGTGCGAATCAGAAAGTAATTGA\n",
      "\n",
      "Последовательность номер 380:\n",
      "ID: 329854__A0A139KPU4__HMPREF2531_05009|k__Bacteria.p__Bacteroidetes.c__Bacteroidia.o__Bacteroidales.f__Bacteroidaceae.g__Bacteroides.s__Bacteroides_intestinalis|UniRef90_A0A139KPU4|UniRef50_A0A139KPU4|126\n",
      "Sequence: ATGTGCACGAAGTACCCATTTAATTCATTACCATGCTTGGAAACAGGAATAAATAAGTATCAGCCGTGGCAGGAAGATAGCAAAATAAGTGTTATCTTTGCTGCCACGGACTTTTATAAGTATTAA\n",
      "\n",
      "Последовательность номер 396:\n",
      "ID: 329854__A0A139KN71__HMPREF2531_05424|k__Bacteria.p__Bacteroidetes.c__Bacteroidia.o__Bacteroidales.f__Bacteroidaceae.g__Bacteroides.s__Bacteroides_intestinalis|UniRef90_A0A139KN71|UniRef50_A0A139KN71|120\n",
      "Sequence: ATGATTAATATTCTTGTTTTATATCGCTTCGCCGCCACCGATCGTGCCGCCGTCGCCCCATCCGGTAACGGAGGCGGCATCAATACAATCTTTTTCATATCACATATATGTGTTATATAA\n",
      "\n",
      "Последовательность номер 405:\n",
      "ID: 329854__A0A139KM70__HMPREF2531_05620|k__Bacteria.p__Bacteroidetes.c__Bacteroidia.o__Bacteroidales.f__Bacteroidaceae.g__Bacteroides.s__Bacteroides_intestinalis|UniRef90_A0A139KM70|UniRef50_A0A139KM70|135\n",
      "Sequence: TTGCCGTTTATAAATATACATAGCCCGTTAGCGGAATTAAAAAAGGTGCGGACGATTGTGAACTGTTACAAGAAGCTGAATAGCAATCTGCATTTTTTACAAATAATGCAGATGCAGGAAATAGTAGCATATTGA\n",
      "\n"
     ]
    }
   ],
   "source": [
    "input_file = \"Bacteroides_intestinalis.ffn\"\n",
    "output_file = \"filtered_sequences_intestinalis_100_150.ffn\"\n",
    "# Номера уникальных последовательностей, проверенных в BLAST\n",
    "sequence_numbers = [3, 10, 17, 29, 31, 55, 56, 57, 66, 87, 89, 107, 111, 116, 152, 185, 159, 194, 209, 251, 257, 259, 260, 261, 270, 298, 299, 300, 206, 318, 335, 344, 380, 396, 405]\n",
    "\n",
    "# Считывание всех последовательностей из файла\n",
    "sequences = list(SeqIO.parse(output_file, \"fasta\"))\n",
    "\n",
    "for num in sequence_numbers:\n",
    "    sequence_index = num - 1 \n",
    "    if sequence_index < len(sequences):\n",
    "        print(f\"Последовательность номер {num}:\")\n",
    "        print(f\"ID: {sequences[sequence_index].id}\")\n",
    "        print(f\"Sequence: {str(sequences[sequence_index].seq)}\\n\")"
   ]
  },
  {
   "cell_type": "markdown",
   "id": "9051778e-9cd1-4a35-9d84-5a8a446b50e5",
   "metadata": {},
   "source": [
    "## Bacteroides vulgatus"
   ]
  },
  {
   "cell_type": "code",
   "execution_count": 4,
   "id": "96f9a895-0487-45f6-a8dc-7a169e4857fb",
   "metadata": {},
   "outputs": [
    {
     "name": "stdout",
     "output_type": "stream",
     "text": [
      "Количество последовательностей Bacteroides_vulgatus: 17726\n"
     ]
    }
   ],
   "source": [
    "from Bio import SeqIO\n",
    "\n",
    "input_file = \"Bacteroides_vulgatus.ffn\"\n",
    "\n",
    "count = sum(1 for record in SeqIO.parse(input_file, \"fasta\"))\n",
    "print(f\"Количество последовательностей Bacteroides_vulgatus: {count}\")"
   ]
  },
  {
   "cell_type": "code",
   "execution_count": 5,
   "id": "2ecc686b-2d59-4404-87fc-e683c650ba8b",
   "metadata": {},
   "outputs": [
    {
     "name": "stdout",
     "output_type": "stream",
     "text": [
      "Количество последовательностей Bacteroides_vulgatus: 796\n"
     ]
    }
   ],
   "source": [
    "input_file = \"Bacteroides_vulgatus.ffn\"\n",
    "output_file = \"filtered_sequences_vulgatus_100_150.ffn\"\n",
    "\n",
    "with open(input_file, \"r\") as in_handle, open(output_file, \"w\") as out_handle:\n",
    "    for record in SeqIO.parse(in_handle, \"fasta\"):\n",
    "        if 100 <= len(record.seq) <= 150:\n",
    "            SeqIO.write(record, out_handle, \"fasta\")\n",
    "count = sum(1 for record in SeqIO.parse(output_file, \"fasta\"))\n",
    "print(f\"Количество последовательностей Bacteroides_vulgatus: {count}\")"
   ]
  },
  {
   "cell_type": "code",
   "execution_count": 13,
   "id": "835a77d0-2480-467d-b869-ca385b0b9955",
   "metadata": {
    "scrolled": true
   },
   "outputs": [
    {
     "name": "stdout",
     "output_type": "stream",
     "text": [
      "Последовательность номер 30:\n",
      "ID: 821__R9HQ68__C800_00097|k__Bacteria.p__Bacteroidetes.c__Bacteroidia.o__Bacteroidales.f__Bacteroidaceae.g__Bacteroides.s__Bacteroides_vulgatus|UniRef90_R9HQ68|UniRef50_R9HQ68|144\n",
      "Sequence: ATGGAAAGTCGCAAAGTAATCATAACTTGGATTGCCGTTACAGTAGCAGTGATGTTCGCATTGCCGTTTGCTGTGGCAGGATTCGCGTCGGAATGTTCGGGAATGGCTTTGTGTATGATATTGTTTCATGACTTCATAAGGTAA\n",
      "\n",
      "Последовательность номер 62:\n",
      "ID: 821__R9HIC6__C800_01903|k__Bacteria.p__Bacteroidetes.c__Bacteroidia.o__Bacteroidales.f__Bacteroidaceae.g__Bacteroides.s__Bacteroides_vulgatus|UniRef90_R9HIC6|UniRef50_G1UMP5|123\n",
      "Sequence: ATGTACCCAATTGTTTTGGGTTGTAAAAACACATTGGTTAACCTTAAAAAAAATTCCATTATTTATGCGACTATTTATTATTATGTTTTTATTTGCCGTCGGAGTAATGAGGGCGGCGGATAG\n",
      "\n",
      "Последовательность номер 71:\n",
      "ID: 821__R9HKN5__C800_02696|k__Bacteria.p__Bacteroidetes.c__Bacteroidia.o__Bacteroidales.f__Bacteroidaceae.g__Bacteroides.s__Bacteroides_vulgatus|UniRef90_R9HKN5|UniRef50_R9HKN5|126\n",
      "Sequence: ATGAAAATAGCTTCATTTAAAGTAAAAAGTAAGATGCTGATGTATAAATGTCAAGACATTGGTTGGACAAATATATGCCACTTTGCACTTGATTTATATGACATTGTAATGTGGATGATTCAGTAA\n",
      "\n",
      "Последовательность номер 81:\n",
      "ID: 821__R9H790__C800_03168|k__Bacteria.p__Bacteroidetes.c__Bacteroidia.o__Bacteroidales.f__Bacteroidaceae.g__Bacteroides.s__Bacteroides_vulgatus|UniRef90_R9H790|UniRef50_R9H790|144\n",
      "Sequence: ATGGAACAAAAAAGCAGCATAAAAACTGTTCCAGATAAAGAAGAAAGTCTGTTGCCTATGAGACAATGGACTTTTTTCATTTATAGAGGATTCACGATAATTCATTACGTTAAAACGGGTTTACAAGGGCAGCAGGATAACTGA\n",
      "\n",
      "Последовательность номер 219:\n",
      "ID: 821__A0A3E4XPM6__DXC02_19420|k__Bacteria.p__Bacteroidetes.c__Bacteroidia.o__Bacteroidales.f__Bacteroidaceae.g__Bacteroides.s__Bacteroides_vulgatus|UniRef90_A0A3E4XPM6|UniRef50_A0A3E4XPM6|126\n",
      "Sequence: ATGGCAAACAATCTTAATCAACTTACCCATCTTTCACACATCTATGGGATATTCCGTACTGAAGAGGATCTAAATAGATTACTTAAACAAATAGATGAGATTATAGTAAAAATTAGCGAACACTAA\n",
      "\n",
      "Последовательность номер 232:\n",
      "ID: 821__A0A174A2W3__ERS852457_00859|k__Bacteria.p__Bacteroidetes.c__Bacteroidia.o__Bacteroidales.f__Bacteroidaceae.g__Bacteroides.s__Bacteroides_vulgatus|UniRef90_A0A174A2W3|UniRef50_A0A174A2W3|144\n",
      "Sequence: ATGCTTCCTGCTTTTCGGATAACAAAGCTGTACGATGAAATATATTGGTTCAGTTCTGTATACCCTGTTAAGTTTGGAATGTACAAACTGAACCAATATCTATTTATTCAAAGAAAACAGCTGGGTAACGTACAATTCCCTTAA\n",
      "\n",
      "Последовательность номер 252:\n",
      "ID: 821__A0A174MLC2__ERS852457_03969|k__Bacteria.p__Bacteroidetes.c__Bacteroidia.o__Bacteroidales.f__Bacteroidaceae.g__Bacteroides.s__Bacteroides_vulgatus|UniRef90_A0A174MLC2|UniRef50_A0A174MLC2|141\n",
      "Sequence: ATGATAAAACATTATGTAAGGAATATAGCTACAGATATCCCTTACATAATGCTTTTCTATTCAGAAGTTTTTTCGAGTACTAATTTACGTCCTAATCAAGACACACTCAATGAAACAGTATTTGCAGAAAGCATCGTATGA\n",
      "\n",
      "Последовательность номер 271:\n",
      "ID: 821__G1UMS6__ERS852509_00960|k__Bacteria.p__Bacteroidetes.c__Bacteroidia.o__Bacteroidales.f__Bacteroidaceae.g__Bacteroides.s__Bacteroides_vulgatus|UniRef90_G1UMS6|UniRef50_A0A1H7RVV1|144\n",
      "Sequence: ATGTACTTCATACTGTATCTTATTAGGGAAGCAGTAAACCTGCCTATGCCTTTCTTGATTCTGCTCAACTCTTTACCATTGACAGAAAAAAACGGTAAAAGTAATCTTTTTATTAAGTATTATTTCCCGTACATTTACTATTAG\n",
      "\n",
      "Последовательность номер 323:\n",
      "ID: 821__A0A174WDM8__ERS852556_03432|k__Bacteria.p__Bacteroidetes.c__Bacteroidia.o__Bacteroidales.f__Bacteroidaceae.g__Bacteroides.s__Bacteroides_vulgatus|UniRef90_A0A174WDM8|UniRef50_A0A174WDM8|132\n",
      "Sequence: ATGCGTGGCAAACTGCAACCGGGTAGTAAACCTCCTGAATATCTTATAGAAACTACCCGTAAGCATATTGAGGAAGATAAAGTACAACAATCTATCAAAAAGATCGTGCTTAAAAAGGATAACTTATATTAG\n",
      "\n",
      "Последовательность номер 324:\n",
      "ID: 821__A0A174WMG3__ERS852556_03436|k__Bacteria.p__Bacteroidetes.c__Bacteroidia.o__Bacteroidales.f__Bacteroidaceae.g__Bacteroides.s__Bacteroides_vulgatus|UniRef90_A0A174WMG3|UniRef50_A0A174WMG3|141\n",
      "Sequence: ATGCCTCTTTCTTCAAATACCTCTTTTATTCTGTTCTTGGTTTTTTCCATTGTTTTGTTTTTATATCATCAATCTGCTTGCGAAGGTATAAAATATTATGCTATTATAAAGAGAAAAGGAGAGGAAAAATTTCCTTCTTAA\n",
      "\n",
      "Последовательность номер 328:\n",
      "ID: 821__A0A174PEP8__ERS852556_04023|k__Bacteria.p__Bacteroidetes.c__Bacteroidia.o__Bacteroidales.f__Bacteroidaceae.g__Bacteroides.s__Bacteroides_vulgatus|UniRef90_A0A174PEP8|UniRef50_A0A174PEP8|141\n",
      "Sequence: ATGTACTTATTGAAATACAAGTCAAATGGTATTAACCATTATATCAATGGTATAAGATCAATATTTTGTGATACATTTTTTATATTGTATTTATGGTTGCTTGTATTCATCAAATTATTAGTAAGATATCCTTGTAGATAA\n",
      "\n",
      "Последовательность номер 333:\n",
      "ID: 821__I9UEQ5__HMPREF1058_01165|k__Bacteria.p__Bacteroidetes.c__Bacteroidia.o__Bacteroidales.f__Bacteroidaceae.g__Bacteroides.s__Bacteroides_vulgatus|UniRef90_I9UEQ5|UniRef50_I9UEQ5|108\n",
      "Sequence: ATGGTATTGCTTTACAGATTGGAAATAACAAGTATAGGACTGATGCTTGCCTGCAAGAAAGTCACAGCACTGACCAAGGAATACGAAAGGAAGTGGTTGCAAAAATAA\n",
      "\n",
      "Последовательность номер 334:\n",
      "ID: 821__I8ZZ07__HMPREF1058_01257|k__Bacteria.p__Bacteroidetes.c__Bacteroidia.o__Bacteroidales.f__Bacteroidaceae.g__Bacteroides.s__Bacteroides_vulgatus|UniRef90_I8ZZ07|UniRef50_I8ZZ07|126\n",
      "Sequence: ATGGCTACACAGACAGAGCAGGCAACCGTTCACGCAACGGAAGTGGAGAGTATTAATAATGGTGTCAACCCTCAGAGAAGGGTTATGCCTGATAGTAACAGTAATGCATTAAAAATAGAATTATGA\n",
      "\n",
      "Последовательность номер 335:\n",
      "ID: 821__I9UE30__HMPREF1058_01258|k__Bacteria.p__Bacteroidetes.c__Bacteroidia.o__Bacteroidales.f__Bacteroidaceae.g__Bacteroides.s__Bacteroides_vulgatus|UniRef90_I9UE30|UniRef50_I9UE30|117\n",
      "Sequence: ATGAAACCGAGAACAGTATTTAAATTTTGGTTTGCTGCTACAGTAATACAAGCAGTAACGACAATTGTTGGATTTGAGTATTTTAAGAAGAACATTAATAAAACTTTTTCATTATGA\n",
      "\n",
      "Последовательность номер 336:\n",
      "ID: 821__I8ZZ14__HMPREF1058_01262|k__Bacteria.p__Bacteroidetes.c__Bacteroidia.o__Bacteroidales.f__Bacteroidaceae.g__Bacteroides.s__Bacteroides_vulgatus|UniRef90_I8ZZ14|UniRef50_A0A174IPR9|108\n",
      "Sequence: ATGGAAAACATAAAAATTTCTATTACAGCCCTTTCTATGCCTCTGAATATCCTTGGCATGGAAGGTAAAGGGCTTGAAGACAAAAGGATAACAATAAGCAAACCTTAA\n",
      "\n",
      "Последовательность номер 406:\n",
      "ID: 821__A0A078RBG1__M097_0882|k__Bacteria.p__Bacteroidetes.c__Bacteroidia.o__Bacteroidales.f__Bacteroidaceae.g__Bacteroides.s__Bacteroides_vulgatus|UniRef90_A0A078RBG1|UniRef50_A0A078RBG1|129\n",
      "Sequence: GTGTCCTTTTATTCGTTATTTCCTATCACAAAGGTACAAATAAAAAACGAAATCAAGAAACAAACAAGAAACAAAAATGCACCTAAAAAGAGCAAAGCAACTGAAAACGTAGAAAACAACCGAAAATAA\n",
      "\n",
      "Последовательность номер 511:\n",
      "ID: 821__A0A078R3F7__M097_3017|k__Bacteria.p__Bacteroidetes.c__Bacteroidia.o__Bacteroidales.f__Bacteroidaceae.g__Bacteroides.s__Bacteroides_vulgatus|UniRef90_A0A078R3F7|UniRef50_A0A078R3F7|126\n",
      "Sequence: GTGATAATATGCTTACCACTTATTGCCGTATATTGCATAGCAGAATGGATTTATAATCAAACACCATGGCAGAAAAAGAAAAAGCTAAAGATGAATGCAGAAATAAATGAGTTAGAAACCGTTTAG\n",
      "\n",
      "Последовательность номер 592:\n",
      "ID: 821__A0A078QKS2__M097_5013|k__Bacteria.p__Bacteroidetes.c__Bacteroidia.o__Bacteroidales.f__Bacteroidaceae.g__Bacteroides.s__Bacteroides_vulgatus|UniRef90_A0A078QKS2|UniRef50_A0A078QKS2|135\n",
      "Sequence: GTGCACATCCTGATCTATCTTCATTGCAACATCTGGAACAGCATGTACCACTTGATGCATTCCTGCAAAAAAGAAAAAGAAGCAAAGAAAGCACATCAAGGCTTGATGCGTATTCCTGCATTGACTTTTAATTAA\n",
      "\n",
      "Последовательность номер 731:\n",
      "ID: 821__A0A069S3I5__M099_4238|k__Bacteria.p__Bacteroidetes.c__Bacteroidia.o__Bacteroidales.f__Bacteroidaceae.g__Bacteroides.s__Bacteroides_vulgatus|UniRef90_A0A069S3I5|UniRef50_A0A069S3I5|147\n",
      "Sequence: ATGGATATGGATACCATAGAAACCTTCAAACCTGTTTACCAGCGTTTTTTAGAGAGTGGAATGACCGTTTGCGATTTTTGTAAGTCATCAAACTTGCTTGAAAGCCGCTTTTACTACTACCCCCTATTGGATGGAGTATTACAATAG\n",
      "\n",
      "Последовательность номер 732:\n",
      "ID: 821__A0A069S3J0__M099_4243|k__Bacteria.p__Bacteroidetes.c__Bacteroidia.o__Bacteroidales.f__Bacteroidaceae.g__Bacteroides.s__Bacteroides_vulgatus|UniRef90_A0A069S3J0|UniRef50_A0A069S3J0|141\n",
      "Sequence: ATGAAACTACAAATATTCATCGCGCTTTCTTCTAAAAATGCTGCTTCCAAAGTAGTCAAAAGAATGAAAAGCATAGGTCATGAGATGGAAACCATCAAGCAGGTGACCGGACTCACGGAAAAAGAAATTGAAACAATCTAA\n",
      "\n",
      "Последовательность номер 733:\n",
      "ID: 821__A0A069S2S1__M099_4284|k__Bacteria.p__Bacteroidetes.c__Bacteroidia.o__Bacteroidales.f__Bacteroidaceae.g__Bacteroides.s__Bacteroides_vulgatus|UniRef90_A0A069S2S1|UniRef50_A0A069S2S1|135\n",
      "Sequence: ATGCCGAAAAAGGGCGGAACAGCCATACCGCTGAAGGGTGGGTGGGAAGAACTGCGTGAACGCAAAGATAAAAACAAGGCTTTGCCTTACTGCTCTCTTCCTTGGGTGGCCGAGTCGGCTCGTTTACCGTGTTGA\n",
      "\n",
      "Последовательность номер 734:\n",
      "ID: 821__A0A069SAW5__M099_4287|k__Bacteria.p__Bacteroidetes.c__Bacteroidia.o__Bacteroidales.f__Bacteroidaceae.g__Bacteroides.s__Bacteroides_vulgatus|UniRef90_A0A069SAW5|UniRef50_A0A069SAW5|114\n",
      "Sequence: ATGTTAAATCATTCGTTTTTTGAGGTAAACTTTGTCGGTGTAACAAAAAAAAACAGTACCTTTGCAATACCAAACAAAAAGTGGAAAAATCTGGAAGCATTTCCAGGCAAATGA\n",
      "\n",
      "Последовательность номер 735:\n",
      "ID: 821__A0A069S2K8__M099_4291|k__Bacteria.p__Bacteroidetes.c__Bacteroidia.o__Bacteroidales.f__Bacteroidaceae.g__Bacteroides.s__Bacteroides_vulgatus|UniRef90_A0A069S2K8|UniRef50_A0A069S2K8|132\n",
      "Sequence: ATGTATGCTTTCTATCAGTACTACCCGATGCAGTTCAAGAAGGTTTCGCAGCGCGACTGGCAGGTACGCAAGCTCATTTGGGACTTCAAAGACGGACGGGCATACAAGGCAGTGGCACCGCAAACGCCATGA\n",
      "\n",
      "Последовательность номер 736:\n",
      "ID: 821__G1UM87__M099_4296|k__Bacteria.p__Bacteroidetes.c__Bacteroidia.o__Bacteroidales.f__Bacteroidaceae.g__Bacteroides.s__Bacteroides_vulgatus|UniRef90_G1UM87|UniRef50_G1UM87|147\n",
      "Sequence: ATGTCCATCTATCTTGTTTATCCGTTGAACAAGATAGATGGACTTCTTATTGTCATGGGTGGCCTGTCTATTTTTGCATTGAGGTATGGTTATGAATGGAAATACAGAAATATTATGTTCTTTCTCCTGTTGATGGAGTTGAGTTGA\n",
      "\n",
      "Последовательность номер 737:\n",
      "ID: 821__G1UM86__M099_4308|k__Bacteria.p__Bacteroidetes.c__Bacteroidia.o__Bacteroidales.f__Bacteroidaceae.g__Bacteroides.s__Bacteroides_vulgatus|UniRef90_G1UM86|UniRef50_G1UM86|150\n",
      "Sequence: ATGAAGATTATTTTTTCTCTGCATAGCTTGATCAATATACTGATACTTGCAAGCATAGAAGCAGTTAGTTGCCAATTGGAAGTCGAGTGGGCTACATTGGGAATATTAGATGATGTTGAAACGTATCGGAGAATCTCAGACAGAATCTAA\n",
      "\n",
      "Последовательность номер 738:\n",
      "ID: 821__A0A069S5A9__M099_4324|k__Bacteria.p__Bacteroidetes.c__Bacteroidia.o__Bacteroidales.f__Bacteroidaceae.g__Bacteroides.s__Bacteroides_vulgatus|UniRef90_A0A069S5A9|UniRef50_A0A069S5A9|117\n",
      "Sequence: GTGGAAACGGAACTGAGACGTAAAGCTTCTGGAGAGCGCAACGAAGTGGAAGCAACGTTCGGTACAGTCAAACGCGTTTACCGGGCCAACGACTCTTGTGGAGAAGGTCATGAATAA\n",
      "\n",
      "Последовательность номер 739:\n",
      "ID: 821__A0A069S2S2__M099_4325|k__Bacteria.p__Bacteroidetes.c__Bacteroidia.o__Bacteroidales.f__Bacteroidaceae.g__Bacteroides.s__Bacteroides_vulgatus|UniRef90_A0A069S2S2|UniRef50_A0A069S2S2|132\n",
      "Sequence: ATGAATAACCTCACGACCGTACAACTCTTGTATGAAAGACAAGCGGAAGGCCAGCCTGTCAAGGATATAGTGATTGAAGACTATCCACGTCTAAAGGATATACTGTTGGATTTGTTGGTAAAAACGGAGTAG\n",
      "\n",
      "Последовательность номер 771:\n",
      "ID: 821__A0A1H7GFT5__SAMN04487923_100395|k__Bacteria.p__Bacteroidetes.c__Bacteroidia.o__Bacteroidales.f__Bacteroidaceae.g__Bacteroides.s__Bacteroides_vulgatus|UniRef90_A0A1H7GFT5|UniRef50_A0A1H7GFT5|135\n",
      "Sequence: ATGGACATGACATTTGATGACACGGGTGGATTGTCGGCTGAACGGGAGCGGACAGGACGGGACAAAACGAGGACAAATCAGAACACGGGTAGGCAGTTGTCCGTGTTGTGTCCTGATTTGTCCGGCTTATGTTAA\n",
      "\n",
      "Последовательность номер 776:\n",
      "ID: 821__A0A1H7JT56__SAMN04487923_101333|k__Bacteria.p__Bacteroidetes.c__Bacteroidia.o__Bacteroidales.f__Bacteroidaceae.g__Bacteroides.s__Bacteroides_vulgatus|UniRef90_A0A1H7JT56|UniRef50_A0A1H7JT56|123\n",
      "Sequence: ATGTCCAAGTTAGTGCCCTTATCACATCGCTTTACATTGTTCTTTATTTACAACTTTAATAATGGAGCTGTATTCATTTGCTCTTTGTCACAGATTTCTGTTGTGGAGAAAACAGGATGTTAG\n",
      "\n",
      "Последовательность номер 777:\n",
      "ID: 821__A0A1H7JUX4__SAMN04487923_101338|k__Bacteria.p__Bacteroidetes.c__Bacteroidia.o__Bacteroidales.f__Bacteroidaceae.g__Bacteroides.s__Bacteroides_vulgatus|UniRef90_A0A1H7JUX4|UniRef50_A0A1H7JUX4|120\n",
      "Sequence: ATGGCTTTGGGGGGACAAAATGCAATGTTGCCGCAGATAATTTCTTTTTATGATGAATGGATTGTGATTCTAAATACGGATTATAAGGAGACTCTGACACAGACTGATTTCCAACTCTGA\n",
      "\n",
      "Последовательность номер 778:\n",
      "ID: 821__A0A1H7KZS3__SAMN04487923_1017117|k__Bacteria.p__Bacteroidetes.c__Bacteroidia.o__Bacteroidales.f__Bacteroidaceae.g__Bacteroides.s__Bacteroides_vulgatus|UniRef90_A0A1H7KZS3|UniRef50_A0A1H7KZS3|117\n",
      "Sequence: ATGGATAATATTAAAACCAATGCTCAAATATTAAGAGATGCAGGCGTTCCATTAGATATTGTTGACAATTTAGAGAATAAAGCAATCGCACATGCGAAAAACAATGGTTTACATTAA\n",
      "\n"
     ]
    }
   ],
   "source": [
    "input_file = \"Bacteroides_vulgatus.ffn\"\n",
    "output_file = \"filtered_sequences_vulgatus_100_150.ffn\"\n",
    "# Номера уникальных последовательностей, проверенных в BLAST\n",
    "sequence_numbers = [30, 62, 71, 81, 219, 232, 252, 271, 323, 324, 328, 333, 334, 335, 336, 406, 511, 592, 731, 732, 733, 734, 735, 736, 737, 738, 739, 771, 776, 777, 778]\n",
    "\n",
    "# Считывание всех последовательностей из файла\n",
    "sequences = list(SeqIO.parse(output_file, \"fasta\"))\n",
    "\n",
    "for num in sequence_numbers:\n",
    "    sequence_index = num - 1 \n",
    "    if sequence_index < len(sequences):\n",
    "        print(f\"Последовательность номер {num}:\")\n",
    "        print(f\"ID: {sequences[sequence_index].id}\")\n",
    "        print(f\"Sequence: {str(sequences[sequence_index].seq)}\\n\")"
   ]
  },
  {
   "cell_type": "markdown",
   "id": "f979ff11-2402-4b65-b565-44844d47f78a",
   "metadata": {},
   "source": [
    "## Bifidobacterium adolescentis"
   ]
  },
  {
   "cell_type": "code",
   "execution_count": 7,
   "id": "dca0cb44-865a-4fde-9fa6-8f8eae110583",
   "metadata": {},
   "outputs": [
    {
     "name": "stdout",
     "output_type": "stream",
     "text": [
      "Количество последовательностей Bifidobacterium_adolescentis: 7524\n"
     ]
    }
   ],
   "source": [
    "input_file = \"Bifidobacterium_adolescentis.ffn\"\n",
    "\n",
    "count = sum(1 for record in SeqIO.parse(input_file, \"fasta\"))\n",
    "print(f\"Количество последовательностей Bifidobacterium_adolescentis: {count}\")"
   ]
  },
  {
   "cell_type": "code",
   "execution_count": 8,
   "id": "287b0eeb-7c70-426a-8dba-0ad03e8e5863",
   "metadata": {},
   "outputs": [
    {
     "name": "stdout",
     "output_type": "stream",
     "text": [
      "Количество последовательностей Bifidobacterium_adolescentis: 381\n"
     ]
    }
   ],
   "source": [
    "input_file = \"Bifidobacterium_adolescentis.ffn\"\n",
    "output_file = \"filtered_sequences_adolescentis_100_150.ffn\"\n",
    "\n",
    "with open(input_file, \"r\") as in_handle, open(output_file, \"w\") as out_handle:\n",
    "    for record in SeqIO.parse(in_handle, \"fasta\"):\n",
    "        if 100 <= len(record.seq) <= 150:\n",
    "            SeqIO.write(record, out_handle, \"fasta\")\n",
    "count = sum(1 for record in SeqIO.parse(output_file, \"fasta\"))\n",
    "print(f\"Количество последовательностей Bifidobacterium_adolescentis: {count}\")"
   ]
  },
  {
   "cell_type": "code",
   "execution_count": 9,
   "id": "0619bbd0-8fad-4315-9d90-f5dcf16e05d9",
   "metadata": {
    "scrolled": true
   },
   "outputs": [
    {
     "name": "stdout",
     "output_type": "stream",
     "text": [
      "Последовательность номер 12:\n",
      "ID: 1680__A0A1X2ZGM5__AD0028_1545|k__Bacteria.p__Actinobacteria.c__Actinobacteria.o__Bifidobacteriales.f__Bifidobacteriaceae.g__Bifidobacterium.s__Bifidobacterium_adolescentis|UniRef90_A0A1X2ZGM5|UniRef50_A0A1X2ZGM5|135\n",
      "Sequence: ATGAGCCGCGACGACCACGAGAAGGACAGGTTCACCGACCCGGAGACGGAGAGGCGCTGGGGGCTCGGCATGGCCGCCGTGTTCGTCGTCGCCGTCGTCGCCGTGCCCATCTGCCGTCTGCTGGGATGGTCATGA\n",
      "\n",
      "Последовательность номер 18:\n",
      "ID: 1680__A0A1X2Z809__AD0028_2006|k__Bacteria.p__Actinobacteria.c__Actinobacteria.o__Bifidobacteriales.f__Bifidobacteriaceae.g__Bifidobacterium.s__Bifidobacterium_adolescentis|UniRef90_A0A1X2Z809|UniRef50_A0A1X2Z809|120\n",
      "Sequence: ATGGATTCGACATCGGACAAGCGGATCGCCGCAATGCGCGGCTCATTGATGGACACCGCGCTGGAGGCGGCGGAATCCCGCGGGCAGAGGCTTGCGGGCTTGACTTCCTCCCCCGCCTGA\n",
      "\n",
      "Последовательность номер 34:\n",
      "ID: 1680__A0A1X3A1Z0__AL0467_1053|k__Bacteria.p__Actinobacteria.c__Actinobacteria.o__Bifidobacteriales.f__Bifidobacteriaceae.g__Bifidobacterium.s__Bifidobacterium_adolescentis|UniRef90_A0A1X3A1Z0|UniRef50_A0A1V8Q3J0|114\n",
      "Sequence: ATGTCCGGCAAGCGGTCCTGGGCCGTAAGCGAGCTGGACCGCATCGCTCCTCTGCTGAATCTTCCAAACGCGCTTTCGATACTCGCCGCCGCGTCGTCATACGACGTGCGCTAA\n",
      "\n",
      "Последовательность номер 60:\n",
      "ID: 1680__A0A1X2Z2Q9__B0487_1595|k__Bacteria.p__Actinobacteria.c__Actinobacteria.o__Bifidobacteriales.f__Bifidobacteriaceae.g__Bifidobacterium.s__Bifidobacterium_adolescentis|UniRef90_A0A1X2Z2Q9|UniRef50_A0A1X2Z2Q9|150\n",
      "Sequence: ATGGGAACCGACATCACCGTAACCCAATTGGGCAGTCCCGCCGACCCCACCTATCTCGTCCGCCGTGGCGACGAATTCTGGAGCGAATGGCATTTAAGCCGTTCCGAAGCCCAACGATTGGCCTCTGAACTAAGGAGCATGGGACTTTGA\n",
      "\n",
      "Последовательность номер 61:\n",
      "ID: 1680__A0A1X2YR21__B0487_2089|k__Bacteria.p__Actinobacteria.c__Actinobacteria.o__Bifidobacteriales.f__Bifidobacteriaceae.g__Bifidobacterium.s__Bifidobacterium_adolescentis|UniRef90_A0A1X2YR21|UniRef50_A0A1X2YR21|129\n",
      "Sequence: ATGCACTCCTTCAACCGTTCTATAGATGTCATTGCCGCCGATACGCACCGGAAGGTGTGCGACGAGGAGAATCGGAAGTGCGACCGTTTGGAGGATGAGCGGGAGAGGGCTTGGAGCGTGGCCCGCTGA\n",
      "\n",
      "Последовательность номер 62:\n",
      "ID: 1680__A0A1X2YRY6__B0487_2098|k__Bacteria.p__Actinobacteria.c__Actinobacteria.o__Bifidobacteriales.f__Bifidobacteriaceae.g__Bifidobacterium.s__Bifidobacterium_adolescentis|UniRef90_A0A1X2YRY6|UniRef50_A0A1X2YRY6|135\n",
      "Sequence: ATGACAGGACACAACAAGCCCAGTGAGGGCGACAAGTTCGCTGAGTTCATCAACAGCAATGGCCCGTTGACCGGTGCGATTATCGCCATCGCGTTCATCGTGTGCTTTGTCATCAGCATCATCTTGAACCTGTGA\n",
      "\n",
      "Последовательность номер 64:\n",
      "ID: 1680__A0A1X2YQX0__B0487_2219|k__Bacteria.p__Actinobacteria.c__Actinobacteria.o__Bifidobacteriales.f__Bifidobacteriaceae.g__Bifidobacterium.s__Bifidobacterium_adolescentis|UniRef90_A0A1X2YQX0|UniRef50_A0A1X2YQX0|117\n",
      "Sequence: ATGGACGCTGACACTCAGTCCACCGACATTCAAGCCACGGAGGTTTGCTTTTTCGCAGAAAGGGGTTACAGGTGGAAAGGCGAGCATCCTTGGATTCTCACCATCCCCGTTTCCTAA\n",
      "\n",
      "Последовательность номер 210:\n",
      "ID: 1680__A7A5C9__BIFADO_01045|k__Bacteria.p__Actinobacteria.c__Actinobacteria.o__Bifidobacteriales.f__Bifidobacteriaceae.g__Bifidobacterium.s__Bifidobacterium_adolescentis|UniRef90_A7A5C9|UniRef50_A7A5C9|147\n",
      "Sequence: GTGCAACTTGATTCTGCACTCATCGGTCGCGAAGTCGCCTCGCATATCAATGCAGTTGCTACCGTTCTCAGCATCGTCAGCATACGCTTCATTACCGCATCCGGCCAGTGGGAAAACCATTGTCACGGCCATAAGCACGGCCATTAG\n",
      "\n",
      "Последовательность номер 216:\n",
      "ID: 1680__A7A5J3__BIFADO_01112|k__Bacteria.p__Actinobacteria.c__Actinobacteria.o__Bifidobacteriales.f__Bifidobacteriaceae.g__Bifidobacterium.s__Bifidobacterium_adolescentis|UniRef90_A7A5J3|UniRef50_A7A5J3|114\n",
      "Sequence: ATGTTGTGGGGTTTCTGCTCGGTCATCAAACACGTGCAGCTCAAGTACCGTTGGAATGGGAAAATCAGCCAGATGAGATCGCATATCAGAATCAGCGCGCGACTACAGTGGTGA\n",
      "\n",
      "Последовательность номер 254:\n",
      "ID: 1680__A7A6N8__BIFADO_01521|k__Bacteria.p__Actinobacteria.c__Actinobacteria.o__Bifidobacteriales.f__Bifidobacteriaceae.g__Bifidobacterium.s__Bifidobacterium_adolescentis|UniRef90_A7A6N8|UniRef50_A7A6N8|108\n",
      "Sequence: ATGCGTGGGGCGGGCGCATCGCGCCCACGTGGATCGAGCTTTCAGATCGGGTCTTTAAAAAAAGGCCTTGTTGCAAACATCAACACTTGCAGCATTTGTATCGTCTAA\n",
      "\n",
      "Последовательность номер 256:\n",
      "ID: 1680__A7A6Q2__BIFADO_01535|k__Bacteria.p__Actinobacteria.c__Actinobacteria.o__Bifidobacteriales.f__Bifidobacteriaceae.g__Bifidobacterium.s__Bifidobacterium_adolescentis|UniRef90_A7A6Q2|UniRef50_A7A6Q2|144\n",
      "Sequence: ATGAAGGGCGCGTCCGCGGCCATCTCGGGCGGGCAGGCCGTGACCAACGAAACACCAAAATCGCGGCATCCAACAATCTATGTGACTTTCTATCCTTTATACACCTCAGAGGGGTGCGCCTTGTTAACCATTGAGGCTACTTAG\n",
      "\n",
      "Последовательность номер 258:\n",
      "ID: 1680__A7A6R3__BIFADO_01546|k__Bacteria.p__Actinobacteria.c__Actinobacteria.o__Bifidobacteriales.f__Bifidobacteriaceae.g__Bifidobacterium.s__Bifidobacterium_adolescentis|UniRef90_A7A6R3|UniRef50_A7A6R3|108\n",
      "Sequence: ATGGTCATCGTCTTTCTTCCTCAAGTATATTCCATGCTTAAAAAGCCGATCATCATTACCAGTTTGTCTAAAACTGTTTATGTTTGGAATAGGCATCATCTCCGATAA\n",
      "\n",
      "Последовательность номер 375:\n",
      "ID: 1680__A0A1X3A244__LMG11579_1441|k__Bacteria.p__Actinobacteria.c__Actinobacteria.o__Bifidobacteriales.f__Bifidobacteriaceae.g__Bifidobacterium.s__Bifidobacterium_adolescentis|UniRef90_A0A1X3A244|UniRef50_A0A1X3A244|123\n",
      "Sequence: ATGATCGGCAATACCGAGCTCTTCAGCGTGCTGCTGGACAGCAGGCTTATCTGGACCGTCACCCACAAAAACAATCATTGCATTGGGCTTGCTGGGAAGTACATCCGCAAGCACATCCACTAG\n",
      "\n",
      "Последовательность номер 376:\n",
      "ID: 1680__A0A1X3A2K7__LMG11579_1536|k__Bacteria.p__Actinobacteria.c__Actinobacteria.o__Bifidobacteriales.f__Bifidobacteriaceae.g__Bifidobacterium.s__Bifidobacterium_adolescentis|UniRef90_A0A1X3A2K7|UniRef50_A0A1X3A2K7|150\n",
      "Sequence: ATGTTAATTATGAAAAAATTTGGATTCAATTATCTGTACACCGACGACAGTAAGGTTCAGGCGCCTTACAGAGAAAGAATTGACAATAGTCCATATATTGATGACGACTCCGCATACAAGGACATCATCGATCTCATCAAAAAAAGATAG\n",
      "\n",
      "Последовательность номер 377:\n",
      "ID: 1680__A0A1X3ACX5__LMG18897_0264|k__Bacteria.p__Actinobacteria.c__Actinobacteria.o__Bifidobacteriales.f__Bifidobacteriaceae.g__Bifidobacterium.s__Bifidobacterium_adolescentis|UniRef90_A0A1X3ACX5|UniRef50_A0A1X3ACX5|129\n",
      "Sequence: ATGCGGTTGAGATGGGATATGGTCTCGGTCATCCTCACGGCGGCGATGTTCCTGCTCCAGCTGATCGATTTCATCATCGACAAGCTCGACAGGCGGCGTAAACCGAAACATCGACGCTCCAAGAAGTAG\n",
      "\n"
     ]
    }
   ],
   "source": [
    "input_file = \"Bifidobacterium_adolescentis.ffn\"\n",
    "output_file = \"filtered_sequences_adolescentis_100_150.ffn\"\n",
    "# Номера уникальных последовательностей, проверенных в BLAST\n",
    "sequence_numbers = [12, 18, 34, 60, 61, 62, 64, 210, 216, 254, 256, 258, 375, 376, 377]\n",
    "\n",
    "sequences = list(SeqIO.parse(output_file, \"fasta\"))\n",
    "\n",
    "for num in sequence_numbers:\n",
    "    sequence_index = num - 1 \n",
    "    if sequence_index < len(sequences):\n",
    "        print(f\"Последовательность номер {num}:\")\n",
    "        print(f\"ID: {sequences[sequence_index].id}\")\n",
    "        print(f\"Sequence: {str(sequences[sequence_index].seq)}\\n\")"
   ]
  },
  {
   "cell_type": "markdown",
   "id": "fa29387c-7526-4c3e-8a98-b60b97ef5826",
   "metadata": {},
   "source": [
    "## Bifidobacterium bifidum"
   ]
  },
  {
   "cell_type": "code",
   "execution_count": 15,
   "id": "c5ab9a2b-cc2e-4268-a4b0-598b167fe64a",
   "metadata": {},
   "outputs": [
    {
     "name": "stdout",
     "output_type": "stream",
     "text": [
      "Количество последовательностей Bifidobacterium_bifidum: 7610\n"
     ]
    }
   ],
   "source": [
    "input_file = \"Bifidobacterium_bifidum.ffn\"\n",
    "\n",
    "count = sum(1 for record in SeqIO.parse(input_file, \"fasta\"))\n",
    "print(f\"Количество последовательностей Bifidobacterium_bifidum: {count}\")"
   ]
  },
  {
   "cell_type": "code",
   "execution_count": 16,
   "id": "b5a395a5-dc8b-4316-8664-b3f6dddb2c6c",
   "metadata": {},
   "outputs": [
    {
     "name": "stdout",
     "output_type": "stream",
     "text": [
      "Количество последовательностей Bifidobacterium_bifidum: 481\n"
     ]
    }
   ],
   "source": [
    "input_file = \"Bifidobacterium_bifidum.ffn\"\n",
    "output_file = \"filtered_sequences_bifidum_100_150.ffn\"\n",
    "\n",
    "with open(input_file, \"r\") as in_handle, open(output_file, \"w\") as out_handle:\n",
    "    for record in SeqIO.parse(in_handle, \"fasta\"):\n",
    "        if 100 <= len(record.seq) <= 150:\n",
    "            SeqIO.write(record, out_handle, \"fasta\")\n",
    "count = sum(1 for record in SeqIO.parse(output_file, \"fasta\"))\n",
    "print(f\"Количество последовательностей Bifidobacterium_bifidum: {count}\")"
   ]
  },
  {
   "cell_type": "code",
   "execution_count": 17,
   "id": "37e02e10-1233-4bf7-a8b4-008277ec74f8",
   "metadata": {},
   "outputs": [
    {
     "name": "stdout",
     "output_type": "stream",
     "text": [
      "Последовательность номер 17:\n",
      "ID: 1681__A0A0H2PLD8__B0085_1756|k__Bacteria.p__Actinobacteria.c__Actinobacteria.o__Bifidobacteriales.f__Bifidobacteriaceae.g__Bifidobacterium.s__Bifidobacterium_bifidum|UniRef90_A0A0H2PLD8|UniRef50_A0A0H2PLD8|126\n",
      "Sequence: ATGATTCACGAAGACAGATGGAAGAGCACCAGCGAGGCGCTGGATGGATTGGCTGACGAGCGGCACGGAAAGCTGCGCGAGCGCCTTGATGGCGCGACGGCGGATTGCGACGCCGAGGAGGGCTGA\n",
      "\n"
     ]
    }
   ],
   "source": [
    "input_file = \"Bifidobacterium_bifidum.ffn\"\n",
    "output_file = \"filtered_sequences_bifidum_100_150.ffn\"\n",
    "# Номера уникальных последовательностей, проверенных в BLAST\n",
    "sequence_numbers = [17]\n",
    "\n",
    "sequences = list(SeqIO.parse(output_file, \"fasta\"))\n",
    "\n",
    "for num in sequence_numbers:\n",
    "    sequence_index = num - 1 \n",
    "    if sequence_index < len(sequences):\n",
    "        print(f\"Последовательность номер {num}:\")\n",
    "        print(f\"ID: {sequences[sequence_index].id}\")\n",
    "        print(f\"Sequence: {str(sequences[sequence_index].seq)}\\n\")"
   ]
  },
  {
   "cell_type": "markdown",
   "id": "916be448-66ea-47c4-adca-c3146973fe55",
   "metadata": {},
   "source": [
    "## Bifidobacterium pseudocatenulatum"
   ]
  },
  {
   "cell_type": "code",
   "execution_count": 21,
   "id": "b46886e5-a993-4b5d-8d3b-138fc9c3e19e",
   "metadata": {},
   "outputs": [
    {
     "name": "stdout",
     "output_type": "stream",
     "text": [
      "Количество последовательностей Bifidobacterium_pseudocatenulatum: 4766\n"
     ]
    }
   ],
   "source": [
    "input_file = \"Bifidobacterium_pseudocatenulatum.ffn\"\n",
    "\n",
    "count = sum(1 for record in SeqIO.parse(input_file, \"fasta\"))\n",
    "print(f\"Количество последовательностей Bifidobacterium_pseudocatenulatum: {count}\")"
   ]
  },
  {
   "cell_type": "code",
   "execution_count": 22,
   "id": "bcfff73d-d106-41a1-aa88-de141ebc7376",
   "metadata": {},
   "outputs": [
    {
     "name": "stdout",
     "output_type": "stream",
     "text": [
      "Количество последовательностей Bifidobacterium_pseudocatenulatum: 201\n"
     ]
    }
   ],
   "source": [
    "input_file = \"Bifidobacterium_pseudocatenulatum.ffn\"\n",
    "output_file = \"filtered_sequences_pseudocatenulatum_100_150.ffn\"\n",
    "\n",
    "with open(input_file, \"r\") as in_handle, open(output_file, \"w\") as out_handle:\n",
    "    for record in SeqIO.parse(in_handle, \"fasta\"):\n",
    "        if 100 <= len(record.seq) <= 150:\n",
    "            SeqIO.write(record, out_handle, \"fasta\")\n",
    "count = sum(1 for record in SeqIO.parse(output_file, \"fasta\"))\n",
    "print(f\"Количество последовательностей Bifidobacterium_pseudocatenulatum: {count}\")"
   ]
  },
  {
   "cell_type": "code",
   "execution_count": 20,
   "id": "db6e9722-9349-42f0-8eb4-bc8c8ad5ac43",
   "metadata": {},
   "outputs": [
    {
     "name": "stdout",
     "output_type": "stream",
     "text": [
      "Последовательность номер 168:\n",
      "ID: 28026__A8SI74__BIFPSEUDO_04517|k__Bacteria.p__Actinobacteria.c__Actinobacteria.o__Bifidobacteriales.f__Bifidobacteriaceae.g__Bifidobacterium.s__Bifidobacterium_pseudocatenulatum|UniRef90_A8SI74|UniRef50_A8SI74|144\n",
      "Sequence: ATGAAAGAACTCTATCAAAAAATGATGGAAGCAGGATATTCTTTCCACGACATTGACGAATCTGACTATTTCGGTGCTTTAGAAATGTTATCTTCTACACCTCGAAAAGTCATGTCCGCAGAAGATTTCTTCGATAGTATCTAA\n",
      "\n"
     ]
    }
   ],
   "source": [
    "input_file = \"Bifidobacterium_pseudocatenulatum.ffn\"\n",
    "output_file = \"filtered_sequences_pseudocatenulatum_100_150.ffn\"\n",
    "# Номера уникальных последовательностей, проверенных в BLAST\n",
    "sequence_numbers = [168]\n",
    "\n",
    "sequences = list(SeqIO.parse(output_file, \"fasta\"))\n",
    "\n",
    "for num in sequence_numbers:\n",
    "    sequence_index = num - 1 \n",
    "    if sequence_index < len(sequences):\n",
    "        print(f\"Последовательность номер {num}:\")\n",
    "        print(f\"ID: {sequences[sequence_index].id}\")\n",
    "        print(f\"Sequence: {str(sequences[sequence_index].seq)}\\n\")"
   ]
  },
  {
   "cell_type": "markdown",
   "id": "337a5a55-5e22-4601-ab18-1127d7687a80",
   "metadata": {},
   "source": [
    "## Bifidobacterium longum"
   ]
  },
  {
   "cell_type": "code",
   "execution_count": 23,
   "id": "64a2d4ac-ebab-4ab0-a03f-d6584d834be4",
   "metadata": {},
   "outputs": [
    {
     "name": "stdout",
     "output_type": "stream",
     "text": [
      "Количество последовательностей Bifidobacterium_longum: 12638\n"
     ]
    }
   ],
   "source": [
    "input_file = \"Bifidobacterium_longum.ffn\"\n",
    "\n",
    "count = sum(1 for record in SeqIO.parse(input_file, \"fasta\"))\n",
    "print(f\"Количество последовательностей Bifidobacterium_longum: {count}\")"
   ]
  },
  {
   "cell_type": "code",
   "execution_count": 24,
   "id": "495f7814-4995-422f-91d8-feca1186a16f",
   "metadata": {},
   "outputs": [
    {
     "name": "stdout",
     "output_type": "stream",
     "text": [
      "Количество последовательностей Bifidobacterium_longum: 604\n"
     ]
    }
   ],
   "source": [
    "input_file = \"Bifidobacterium_longum.ffn\"\n",
    "output_file = \"filtered_sequences_longum_100_150.ffn\"\n",
    "\n",
    "with open(input_file, \"r\") as in_handle, open(output_file, \"w\") as out_handle:\n",
    "    for record in SeqIO.parse(in_handle, \"fasta\"):\n",
    "        if 100 <= len(record.seq) <= 150:\n",
    "            SeqIO.write(record, out_handle, \"fasta\")\n",
    "count = sum(1 for record in SeqIO.parse(output_file, \"fasta\"))\n",
    "print(f\"Количество последовательностей Bifidobacterium_longum: {count}\")"
   ]
  },
  {
   "cell_type": "code",
   "execution_count": 25,
   "id": "4302f6ca-33f3-4f87-8a72-4a8307115503",
   "metadata": {
    "scrolled": true
   },
   "outputs": [
    {
     "name": "stdout",
     "output_type": "stream",
     "text": [
      "Последовательность номер 48:\n",
      "ID: 216816__A0A2N0T4I9__APC1465_1922|k__Bacteria.p__Actinobacteria.c__Actinobacteria.o__Bifidobacteriales.f__Bifidobacteriaceae.g__Bifidobacterium.s__Bifidobacterium_longum|UniRef90_A0A2N0T4I9|UniRef50_A0A2N0T4I9|141\n",
      "Sequence: ATGCTCAGTGTCACCGGCGACATCATGGGTGACAACAACCAGCAAGTGTCCTGTAAGGTGATTGTCGACGGACAGGAGAAAGTCTCGAAGGATGCCTCCGGTTCCGCTGGTACGGCCACTTGCAACGTCCCGTTGTTCTAG\n",
      "\n",
      "Последовательность номер 106:\n",
      "ID: 216816__A0A1V8QI33__B5780_0397|k__Bacteria.p__Actinobacteria.c__Actinobacteria.o__Bifidobacteriales.f__Bifidobacteriaceae.g__Bifidobacterium.s__Bifidobacterium_longum|UniRef90_A0A1V8QI33|UniRef50_A0A1V8QI33|141\n",
      "Sequence: ATGTCTTCCGCCATTCACAATTCGCTCATGGGAGGTCTGCCGTTGCCGGACAGCAGAACATTGGGACTTCTTGAGGATTACGTCAACGGTCTTATCGGGGCTTCTGAACTGATGGAGCGTGGTCTCAATAGTTGCGTTTGA\n",
      "\n",
      "Последовательность номер 115:\n",
      "ID: 216816__A0A1V8QE10__B5780_2001|k__Bacteria.p__Actinobacteria.c__Actinobacteria.o__Bifidobacteriales.f__Bifidobacteriaceae.g__Bifidobacterium.s__Bifidobacterium_longum|UniRef90_A0A1V8QE10|UniRef50_A0A1V8QE10|123\n",
      "Sequence: ATGAAGTTGACTCGCAAATTTATCGCCGCTGGACTTGCAGTTGCGACCATGATCGGTGTTGCTGGCTGTGGTAGCAGCGATGAAGTCGCACAGGAGGAGAACCCCACCTCCATCAAGATCTAG\n",
      "\n"
     ]
    }
   ],
   "source": [
    "input_file = \"Bifidobacterium_longum.ffn\"\n",
    "output_file = \"filtered_sequences_longum_100_150.ffn\"\n",
    "# Номера уникальных последовательностей, проверенных в BLAST\n",
    "sequence_numbers = [48, 106, 115]\n",
    "\n",
    "sequences = list(SeqIO.parse(output_file, \"fasta\"))\n",
    "\n",
    "for num in sequence_numbers:\n",
    "    sequence_index = num - 1 \n",
    "    if sequence_index < len(sequences):\n",
    "        print(f\"Последовательность номер {num}:\")\n",
    "        print(f\"ID: {sequences[sequence_index].id}\")\n",
    "        print(f\"Sequence: {str(sequences[sequence_index].seq)}\\n\")"
   ]
  },
  {
   "cell_type": "markdown",
   "id": "165ceea7-1387-4c28-86a4-b85614db30d9",
   "metadata": {},
   "source": [
    "## Clostridium symbiosum"
   ]
  },
  {
   "cell_type": "code",
   "execution_count": 27,
   "id": "df557103-f4e1-4f6f-8d06-629e5aa852c6",
   "metadata": {
    "scrolled": true
   },
   "outputs": [
    {
     "name": "stdout",
     "output_type": "stream",
     "text": [
      "Количество последовательностей Clostridium_symbiosum: 7021\n"
     ]
    }
   ],
   "source": [
    "input_file = \"Clostridium_symbiosum.ffn\"\n",
    "\n",
    "count = sum(1 for record in SeqIO.parse(input_file, \"fasta\"))\n",
    "print(f\"Количество последовательностей Clostridium_symbiosum: {count}\")"
   ]
  },
  {
   "cell_type": "code",
   "execution_count": 28,
   "id": "5058b56e-708f-4474-a993-c21b4d4d05dd",
   "metadata": {},
   "outputs": [
    {
     "name": "stdout",
     "output_type": "stream",
     "text": [
      "Количество последовательностей Clostridium_symbiosum: 398\n"
     ]
    }
   ],
   "source": [
    "input_file = \"Clostridium_symbiosum.ffn\"\n",
    "output_file = \"filtered_sequences_symbiosum_100_150.ffn\"\n",
    "\n",
    "with open(input_file, \"r\") as in_handle, open(output_file, \"w\") as out_handle:\n",
    "    for record in SeqIO.parse(in_handle, \"fasta\"):\n",
    "        if 100 <= len(record.seq) <= 150:\n",
    "            SeqIO.write(record, out_handle, \"fasta\")\n",
    "count = sum(1 for record in SeqIO.parse(output_file, \"fasta\"))\n",
    "print(f\"Количество последовательностей Clostridium_symbiosum: {count}\")"
   ]
  },
  {
   "cell_type": "code",
   "execution_count": 29,
   "id": "7244f5e4-6cc7-49bf-8662-a69d9aadb027",
   "metadata": {
    "scrolled": true
   },
   "outputs": [
    {
     "name": "stdout",
     "output_type": "stream",
     "text": [
      "Последовательность номер 6:\n",
      "ID: 1512__U2BR77__CLOSYM_00103|k__Bacteria.p__Firmicutes.c__Clostridia.o__Clostridiales.f__Lachnospiraceae.g__Lachnoclostridium.s__Clostridium_symbiosum|UniRef90_U2BR77|UniRef50_U2BR77|135\n",
      "Sequence: GTGATAGAGATGACCAAAACACAACAGAGCCTGATTGCAGATAGAAACATTTTTAATAATGAATTGATGATTCCAGCAGACGATCTGTATATTTTACATAATGATTTTTTTTTCATGCTTTCAAACTGGCATTAA\n",
      "\n",
      "Последовательность номер 32:\n",
      "ID: 1512__U2DEU7__CLOSYM_00547|k__Bacteria.p__Firmicutes.c__Clostridia.o__Clostridiales.f__Lachnospiraceae.g__Lachnoclostridium.s__Clostridium_symbiosum|UniRef90_U2DEU7|UniRef50_U2DEU7|141\n",
      "Sequence: GTGGAGTTTATATTTATTTTTGCCGTAAACCTCTTTGAGGTCTTCTTTATCTACCTTTTTCAGGTTATGAAGGTAGTAGGGGCATTTGGGGTTGACGCACTTGTGGATGATGAAGTGCTTGCGGTCTTTCTTGGGGACTAG\n",
      "\n",
      "Последовательность номер 63:\n",
      "ID: 1512__U2DC80__CLOSYM_01142|k__Bacteria.p__Firmicutes.c__Clostridia.o__Clostridiales.f__Lachnospiraceae.g__Lachnoclostridium.s__Clostridium_symbiosum|UniRef90_U2DC80|UniRef50_U2DC80|132\n",
      "Sequence: GTGATCATCATCACGGCCGACGATGACCTTGTCAGGAAAATTGAGCCGTGTGTGGTCTGCTCCTCCAAACGGTTCCAGATGATTGAGGAATTGAGCAGCCGTGGCAGATATGTAATCAAATGGCATCTATAA\n",
      "\n",
      "Последовательность номер 145:\n",
      "ID: 1512__U2BWX0__CLOSYM_02460|k__Bacteria.p__Firmicutes.c__Clostridia.o__Clostridiales.f__Lachnospiraceae.g__Lachnoclostridium.s__Clostridium_symbiosum|UniRef90_U2BWX0|UniRef50_U2BWX0|126\n",
      "Sequence: ATGGAGGATGGCAACGCAAGGCACTCATTCTCCATGTTTTTTTGGTGCGCCGCGGAAGCTGAGCTGCAAATCTCTGCGCCTGAGGGTCCGTTCAAGGGAAGAAATATGGAAAAAAGTACCGGTTAA\n",
      "\n",
      "Последовательность номер 151:\n",
      "ID: 1512__U2DAG6__CLOSYM_02569|k__Bacteria.p__Firmicutes.c__Clostridia.o__Clostridiales.f__Lachnospiraceae.g__Lachnoclostridium.s__Clostridium_symbiosum|UniRef90_U2DAG6|UniRef50_U2DAG6|150\n",
      "Sequence: ATGTACCGGGAGGTGTCCTTGGGGATTCGATGGATAAAAACGTGGAATTCCCGAGGGCATTTGTCAGTGAAATTCATTCTGGATGAGGTTGAAAAATTAAAAGGGAAATCTAGAAAGCAGGATGAGCATAAAGAAAAATATATGTCATAG\n",
      "\n",
      "Последовательность номер 152:\n",
      "ID: 1512__U2BXJ4__CLOSYM_02581|k__Bacteria.p__Firmicutes.c__Clostridia.o__Clostridiales.f__Lachnospiraceae.g__Lachnoclostridium.s__Clostridium_symbiosum|UniRef90_U2BXJ4|UniRef50_U2BXJ4|120\n",
      "Sequence: GTGGAGACTATTGCGTATTTATGTGTATTTTCAACTCCTGTTGCGGTGAAGGAGATTATTCTGGAAGATATTTGGCACTGGGGAAAGTGTGCAAAGCGAGTCGAAAAAAAAGCAATTTGA\n",
      "\n",
      "Последовательность номер 173:\n",
      "ID: 1512__U2BVI4__CLOSYM_02736|k__Bacteria.p__Firmicutes.c__Clostridia.o__Clostridiales.f__Lachnospiraceae.g__Lachnoclostridium.s__Clostridium_symbiosum|UniRef90_U2BVI4|UniRef50_U2BVI4|120\n",
      "Sequence: GTGCTTTATCTTTTGTATTTTGAAAATGTTATCTTTTGTCGTCGTTTCTTTTGTATTTCTGTTGTTCTTTTGTGGATGCCGTCTTTTGTACTTTTGTGTACATTCTTTTGTACTTCGTAA\n",
      "\n",
      "Последовательность номер 192:\n",
      "ID: 1512__U2D8W7__CLOSYM_02907|k__Bacteria.p__Firmicutes.c__Clostridia.o__Clostridiales.f__Lachnospiraceae.g__Lachnoclostridium.s__Clostridium_symbiosum|UniRef90_U2D8W7|UniRef50_U2D8W7|147\n",
      "Sequence: TTGTTTTGTCAGGAGGTGGGAAAATCGAATGTATATGAAGCGGTAAAACAGTCTGTCACTATCCGGCAGGCTGTGGAGCATTATGGAATCCGGGTAGGAAGAAACGGGATGCCTGTCCCTTTCACAAGGACAGGCATCCCAGCATGA\n",
      "\n",
      "Последовательность номер 216:\n",
      "ID: 1512__U2BBK3__CLOSYM_03203|k__Bacteria.p__Firmicutes.c__Clostridia.o__Clostridiales.f__Lachnospiraceae.g__Lachnoclostridium.s__Clostridium_symbiosum|UniRef90_U2BBK3|UniRef50_D4JQH0|133\n",
      "Sequence: ATGGAGAAGAAGGAAATAGAAGCACCAAAAACAGTACATGGGTTTAAAATATTTAAACATGATTGGACTTGCATGGGGAAACAGTACACTTGCCCTGGAAGGTTTATAGAAGAAGGGAAACTTGAAGTTTGTG\n",
      "\n",
      "Последовательность номер 217:\n",
      "ID: 1512__U2BT99__CLOSYM_03205|k__Bacteria.p__Firmicutes.c__Clostridia.o__Clostridiales.f__Lachnospiraceae.g__Lachnoclostridium.s__Clostridium_symbiosum|UniRef90_U2BT99|UniRef50_U2BT99|138\n",
      "Sequence: GTGGAGAGCATGAGACGAATGAATAAGAGCCGAAAAAGAAAAAGGCCCAGCACCCTGACAAGCACTGAGCCGAGCTGTATACACAGCAATCACCTGCTTAAAGTATACGGCAGCCGATGGAAAAAGTCAAGAAAATAG\n",
      "\n",
      "Последовательность номер 218:\n",
      "ID: 1512__U2D1W4__CLOSYM_03207|k__Bacteria.p__Firmicutes.c__Clostridia.o__Clostridiales.f__Lachnospiraceae.g__Lachnoclostridium.s__Clostridium_symbiosum|UniRef90_U2D1W4|UniRef50_U2D1W4|123\n",
      "Sequence: TTGGACGCCAGGATTGCCCTGGAAAAAGCAATCAATATAAAAGGAATCGGAAGTATCAGGAGGGCAGAGATAAGGGAGAAATATAAAAAAGAATTGGAGGAAAAGGAGAATGAAGAAACCTGA\n",
      "\n",
      "Последовательность номер 219:\n",
      "ID: 1512__U2D7H0__CLOSYM_03211|k__Bacteria.p__Firmicutes.c__Clostridia.o__Clostridiales.f__Lachnospiraceae.g__Lachnoclostridium.s__Clostridium_symbiosum|UniRef90_U2D7H0|UniRef50_U2D7H0|144\n",
      "Sequence: ATGAATAGGACATGCATGAATTGCAACAGAGAATATAGCTGTGACTGGCATGCGGCCGGAGATAGGGCCTGCTGCGAGAACTGGGAGCCGGACATCGAGGCAAAACGCCAGGAAGAACACCGGGAAGCAGGAAAAGAATTTTAA\n",
      "\n",
      "Последовательность номер 225:\n",
      "ID: 1512__U2BUD7__CLOSYM_03256|k__Bacteria.p__Firmicutes.c__Clostridia.o__Clostridiales.f__Lachnospiraceae.g__Lachnoclostridium.s__Clostridium_symbiosum|UniRef90_U2BUD7|UniRef50_U2BUD7|135\n",
      "Sequence: ATGAAAACAGGTCCGATGGATACTTCATATTGTGGAAAAAACTGGAAAACCAATTCAAATTTTATTAAGAAAAATATTTTTCTAAAAATTTCTAAAAAATTAGAAAAACGGGTTGACAAAAGGAAGGTGAAGTAA\n",
      "\n",
      "Последовательность номер 244:\n",
      "ID: 1512__U2B9W4__CLOSYM_03566|k__Bacteria.p__Firmicutes.c__Clostridia.o__Clostridiales.f__Lachnospiraceae.g__Lachnoclostridium.s__Clostridium_symbiosum|UniRef90_U2B9W4|UniRef50_U2B9W4|141\n",
      "Sequence: TTGGCAAAGATAGATACAACTTATGCTGGAGATACGGCCTGGTTGTCAATTGATCAGATGACAGAGCTGTTCCAGAGAGATAGAAGTGTAATAGGCAAGCATATCAGGAATGTTTTTTTAGATGGAGAATTGTCTAAATAA\n",
      "\n",
      "Последовательность номер 301:\n",
      "ID: 1512__U2D3J2__CLOSYM_04364|k__Bacteria.p__Firmicutes.c__Clostridia.o__Clostridiales.f__Lachnospiraceae.g__Lachnoclostridium.s__Clostridium_symbiosum|UniRef90_U2D3J2|UniRef50_U2D3J2|132\n",
      "Sequence: TTGCCTTCAGAATTTTTTAATGAACAGATTGATTCCATACTGAAAAACTATGGGTATCAGCACCCGAAATATGGTAGTCATGAAATAAACGCTGAAGCGGAACCCAGCAGTCAGCAGATAGCGGAAATGTGA\n",
      "\n",
      "Последовательность номер 302:\n",
      "ID: 1512__U2CY24__CLOSYM_04375|k__Bacteria.p__Firmicutes.c__Clostridia.o__Clostridiales.f__Lachnospiraceae.g__Lachnoclostridium.s__Clostridium_symbiosum|UniRef90_U2CY24|UniRef50_U2CY24|135\n",
      "Sequence: TTGCAGTGTTCAATCATTGTAAATAACCTTTGTTCCGGCAGTGTGCCGGGAGTAAAAACATTAGGCTTAGGCCTTATTTATCTGGAAGAAAGACGTCAAAAGTGGAATATATTTTGGCGTCTTTTTTTATTTTAA\n",
      "\n",
      "Последовательность номер 303:\n",
      "ID: 1512__N9ZZR0__CLOSYM_04383|k__Bacteria.p__Firmicutes.c__Clostridia.o__Clostridiales.f__Lachnospiraceae.g__Lachnoclostridium.s__Clostridium_symbiosum|UniRef90_N9ZZR0|UniRef50_N9ZZR0|144\n",
      "Sequence: ATGAATCGTTATGAAGAGAAAAAACAGGCTAGGATTAACCGGTATCGGGAACATGCGGAACATGCAGAGCGCGAGTCGGTTGCCCGTTATCAGCGGTCAAATGAGATTGCAAAAGCAATTGAGGGTGGCAGCCAATCCTCGTAG\n",
      "\n",
      "Последовательность номер 324:\n",
      "ID: 1512__U2BPL2__CLOSYM_04642|k__Bacteria.p__Firmicutes.c__Clostridia.o__Clostridiales.f__Lachnospiraceae.g__Lachnoclostridium.s__Clostridium_symbiosum|UniRef90_U2BPL2|UniRef50_U2BPL2|144\n",
      "Sequence: TTGCATGTTAACACCTCCCTTCTGCTGGGAGTGCCGACAGCAATTTTATTATACTTTTATCTTTCTGTTATGTCTATTAAATTTAATGTATCTCACGCTTCGCCGCATTCGTCTCCGGCCGGGAACCGCTGCATAAAAAATTGA\n",
      "\n",
      "Последовательность номер 343:\n",
      "ID: 1512__U2D1U0__CLOSYM_04850|k__Bacteria.p__Firmicutes.c__Clostridia.o__Clostridiales.f__Lachnospiraceae.g__Lachnoclostridium.s__Clostridium_symbiosum|UniRef90_U2D1U0|UniRef50_U2D1U0|132\n",
      "Sequence: ATGCAGGCGATTAGGAGTGATCCGGATGTCCAATATTATTTAGTCCTTTATATAAGGAAGCAAAAGGAGCATAATTTAAAAACGGACAAAATACGGACAGAGCTTACCAAAACTTATAAAACCGCATTTTAA\n",
      "\n",
      "Последовательность номер 364:\n",
      "ID: 1512__A0A174C229__ERS852479_00669|k__Bacteria.p__Firmicutes.c__Clostridia.o__Clostridiales.f__Lachnospiraceae.g__Lachnoclostridium.s__Clostridium_symbiosum|UniRef90_A0A174C229|UniRef50_A0A174C229|135\n",
      "Sequence: ATGATGGAAAGAAAAAAATTGATGGCGCTTGACGGGCTGGCTCCTACCAGTGAGATGTTTCGGCTCGCTGAACAGGATATTCTGAAAAAAGAACAGAATTTGGCCCGGATACATACCAGTATGAGATTTATATAA\n",
      "\n",
      "Последовательность номер 380:\n",
      "ID: 1512__A0A174H2S6__ERS852479_02370|k__Bacteria.p__Firmicutes.c__Clostridia.o__Clostridiales.f__Lachnospiraceae.g__Lachnoclostridium.s__Clostridium_symbiosum|UniRef90_A0A174H2S6|UniRef50_N9Z4E8|114\n",
      "Sequence: ATGGCTAGATTTTACGGGATTAAGATTCAGGCCAGAGAGCGGAAGTTGGAGGATGTGCCACCTTTGTGGCGGGCGCAGACCGAGAAGTGGCTGGAAGACCACCCGACAGAATAG\n",
      "\n",
      "Последовательность номер 384:\n",
      "ID: 1512__A0A174J2C6__ERS852479_03186|k__Bacteria.p__Firmicutes.c__Clostridia.o__Clostridiales.f__Lachnospiraceae.g__Lachnoclostridium.s__Clostridium_symbiosum|UniRef90_A0A174J2C6|UniRef50_A0A174J2C6|120\n",
      "Sequence: ATGACAATACCGGAGAAAGCCAGGAAGACGGTGGGAACGAAGACACCGGAGGAAGCTAGGAAGAAGACGGAACCGGGGATACCGATACCGGAGGGAACCGGGAGGAAGATGAAAACGTAG\n",
      "\n",
      "Последовательность номер 388:\n",
      "ID: 1512__G5FGI5__ERS852479_03501|k__Bacteria.p__Firmicutes.c__Clostridia.o__Clostridiales.f__Lachnospiraceae.g__Lachnoclostridium.s__Clostridium_symbiosum|UniRef90_G5FGI5|UniRef50_G5FGI5|135\n",
      "Sequence: ATGGGAAAGAAGGAAACCGGTGAAAAAATAGTGTATGAGGTAAAGGACATTCAAAATCTCCTGGGAATCGGAAGAAATACAGCCTACGAATTCATACGCCAGGCTTATAAGGAGAAAGGCCCTTCCGCGTTATAA\n",
      "\n",
      "Последовательность номер 389:\n",
      "ID: 1512__A0A174K7N9__ERS852479_03514|k__Bacteria.p__Firmicutes.c__Clostridia.o__Clostridiales.f__Lachnospiraceae.g__Lachnoclostridium.s__Clostridium_symbiosum|UniRef90_A0A174K7N9|UniRef50_A0A174K7N9|102\n",
      "Sequence: ATGGCCGCCGTCCAGTTTTTGCTTGGCACATGGATATATTTTGATCCGGATGAAGGCGCATTCGTAATATACGCGGGAACCATGATTGCACCGTGGCTCTGA\n",
      "\n",
      "Последовательность номер 392:\n",
      "ID: 1512__A0A174MBU5__ERS852479_04171|k__Bacteria.p__Firmicutes.c__Clostridia.o__Clostridiales.f__Lachnospiraceae.g__Lachnoclostridium.s__Clostridium_symbiosum|UniRef90_A0A174MBU5|UniRef50_A0A174MBU5|150\n",
      "Sequence: ATGCAGGAATTTATTGATTTTGTTTTAGTTGACGGTAATGTTTATTCGATGGCTAACTTAATATCGTTTTTTGGCTTTTGTATTGCTTTGGGTGCTATCGTTATGATTGCTCAGGCATTGCTGTCTGCAGGTGGTACGGTTCGGAGGTGA\n",
      "\n",
      "Последовательность номер 396:\n",
      "ID: 1512__E7GMN7__HMPREF9474_02182|k__Bacteria.p__Firmicutes.c__Clostridia.o__Clostridiales.f__Lachnospiraceae.g__Lachnoclostridium.s__Clostridium_symbiosum|UniRef90_E7GMN7|UniRef50_E7GMN7|132\n",
      "Sequence: ATGGGATTTGTACCGGGCACGAGAATGAGAGTGGTAACCGTACATAACGGCAATGTGATTGTAAATTTGAGAGAAACCCGCGTTGCGATAGGAAAAGAGATAGCGGATAAGATTATTGTGTCTTCGAAGTAA\n",
      "\n"
     ]
    }
   ],
   "source": [
    "input_file = \"Clostridium_symbiosum.ffn\"\n",
    "output_file = \"filtered_sequences_symbiosum_100_150.ffn\"\n",
    "# Номера уникальных последовательностей, проверенных в BLAST\n",
    "sequence_numbers = [6, 32, 63, 145, 151, 152, 173, 192, 216, 217, 218, 219, 225, 244, 301, 302, 303, 324, 343, 364, 380, 384, 388, 389, 392, 396]\n",
    "\n",
    "sequences = list(SeqIO.parse(output_file, \"fasta\"))\n",
    "\n",
    "for num in sequence_numbers:\n",
    "    sequence_index = num - 1 \n",
    "    if sequence_index < len(sequences):\n",
    "        print(f\"Последовательность номер {num}:\")\n",
    "        print(f\"ID: {sequences[sequence_index].id}\")\n",
    "        print(f\"Sequence: {str(sequences[sequence_index].seq)}\\n\")"
   ]
  },
  {
   "cell_type": "markdown",
   "id": "3562aa09-506b-4be1-974d-56bc42321ee5",
   "metadata": {},
   "source": [
    "## Bacteroides stercoris"
   ]
  },
  {
   "cell_type": "code",
   "execution_count": 30,
   "id": "b9ffcc0b-15ae-49aa-b1b2-05d0a4493da0",
   "metadata": {},
   "outputs": [
    {
     "name": "stdout",
     "output_type": "stream",
     "text": [
      "Количество последовательностей Bacteroides_stercoris: 7149\n"
     ]
    }
   ],
   "source": [
    "input_file = \"Bacteroides_stercoris.ffn\"\n",
    "\n",
    "count = sum(1 for record in SeqIO.parse(input_file, \"fasta\"))\n",
    "print(f\"Количество последовательностей Bacteroides_stercoris: {count}\")"
   ]
  },
  {
   "cell_type": "code",
   "execution_count": 31,
   "id": "821a2b85-7061-4899-915f-061cab15c829",
   "metadata": {},
   "outputs": [
    {
     "name": "stdout",
     "output_type": "stream",
     "text": [
      "Количество последовательностей Bacteroides_stercoris: 324\n"
     ]
    }
   ],
   "source": [
    "input_file = \"Bacteroides_stercoris.ffn\"\n",
    "output_file = \"filtered_sequences_stercoris_100_150.ffn\"\n",
    "\n",
    "with open(input_file, \"r\") as in_handle, open(output_file, \"w\") as out_handle:\n",
    "    for record in SeqIO.parse(in_handle, \"fasta\"):\n",
    "        if 100 <= len(record.seq) <= 150:\n",
    "            SeqIO.write(record, out_handle, \"fasta\")\n",
    "count = sum(1 for record in SeqIO.parse(output_file, \"fasta\"))\n",
    "print(f\"Количество последовательностей Bacteroides_stercoris: {count}\")"
   ]
  },
  {
   "cell_type": "code",
   "execution_count": 32,
   "id": "388011ac-9b64-46c1-88b0-122391841450",
   "metadata": {
    "scrolled": true
   },
   "outputs": [
    {
     "name": "stdout",
     "output_type": "stream",
     "text": [
      "Последовательность номер 262:\n",
      "ID: 46506__S3YUJ2__HMPREF1181_00850|k__Bacteria.p__Bacteroidetes.c__Bacteroidia.o__Bacteroidales.f__Bacteroidaceae.g__Bacteroides.s__Bacteroides_stercoris|UniRef90_S3YUJ2|UniRef50_S3YUJ2|105\n",
      "Sequence: ATGGATCTCATCCTTTTGACTGATGAGCTTTTCAAGAAACTTGAGCATACACAGTGCTTGAGCATCCTTATCTTTGAAGCCTTCCTTTTTCGTTTCTTGCAGTAA\n",
      "\n",
      "Последовательность номер 276:\n",
      "ID: 46506__S3ZHC3__HMPREF1181_02063|k__Bacteria.p__Bacteroidetes.c__Bacteroidia.o__Bacteroidales.f__Bacteroidaceae.g__Bacteroides.s__Bacteroides_stercoris|UniRef90_S3ZHC3|UniRef50_S3ZHC3|150\n",
      "Sequence: ATGAAATCCACATTCTTCCCGTTAAGTAATATCACAACTGTGTTTTCTGATAATTTATATTTGCAATATTCTGATTATTGCAATAAGGCAAAATTTATCGGTAGTAGTATTTTTTTATTAAAAAATCAAAACAAAACAGCTTTATATTGA\n",
      "\n",
      "Последовательность номер 277:\n",
      "ID: 46506__S3YER2__HMPREF1181_02085|k__Bacteria.p__Bacteroidetes.c__Bacteroidia.o__Bacteroidales.f__Bacteroidaceae.g__Bacteroides.s__Bacteroides_stercoris|UniRef90_S3YER2|UniRef50_S3YER2|150\n",
      "Sequence: ATGAATATCTTTTTTTTATCTTTTGTGTTTTGGGAAATCCGTGTGAGTCTCACCAAACTGCTCCTTGTCATGTTTCGTGAAATAAGACGGTGGCGAAAAAACTACTTCATAAATAATTTTGGTTTCAGTCATATCAGAAGCGGCAATTAA\n",
      "\n",
      "Последовательность номер 283:\n",
      "ID: 46506__S3YPR0__HMPREF1181_02334|k__Bacteria.p__Bacteroidetes.c__Bacteroidia.o__Bacteroidales.f__Bacteroidaceae.g__Bacteroides.s__Bacteroides_stercoris|UniRef90_S3YPR0|UniRef50_S3YPR0|105\n",
      "Sequence: ATGGTAGACAGACTGACACATAAAGCTCATCTTATCAATATGACAGGACAATCGTACAGACTAAAAGAAACGCAGAAATTGAAAGAGAAAAAGTTAATTTCTTAA\n",
      "\n",
      "Последовательность номер 290:\n",
      "ID: 46506__S3ZEP0__HMPREF1181_02562|k__Bacteria.p__Bacteroidetes.c__Bacteroidia.o__Bacteroidales.f__Bacteroidaceae.g__Bacteroides.s__Bacteroides_stercoris|UniRef90_S3ZEP0|UniRef50_S3ZEP0|135\n",
      "Sequence: ATGCCGGTAGTGATGCGGCATCACAGAATCTGTTCTTTTGTTCTTATGTCCGAAAAATTCCGTTATCTGAAAAACTCCGTAAACTCTCTTTGTGTCCCCTGCGGTGAAGCAAATTTCCAATCATCATTCCCATGA\n",
      "\n",
      "Последовательность номер 293:\n",
      "ID: 46506__S3ZDV5__HMPREF1181_02656|k__Bacteria.p__Bacteroidetes.c__Bacteroidia.o__Bacteroidales.f__Bacteroidaceae.g__Bacteroides.s__Bacteroides_stercoris|UniRef90_S3ZDV5|UniRef50_S3ZDV5|117\n",
      "Sequence: ATGACATATGAAGTGGGTATACTCTGTCATCTTCATATGTCATTTTATTATAGGGGACATTTACTGAATATCCCTACTTTATGTATGAAGGTACTGTTCTCAATTTTGTGTAAATGA\n",
      "\n",
      "Последовательность номер 298:\n",
      "ID: 46506__S3Y9Z7__HMPREF1181_02767|k__Bacteria.p__Bacteroidetes.c__Bacteroidia.o__Bacteroidales.f__Bacteroidaceae.g__Bacteroides.s__Bacteroides_stercoris|UniRef90_S3Y9Z7|UniRef50_S3Y9Z7|120\n",
      "Sequence: ATGGTACTTAATGAAAATTTTGGAGGAGAATCTGCTCTGCGACCCAAAAGCTCAGGGATAACGAACAATATCGGAAAAATATTGTACCTTTGTACAGGCTTAAGCAATGAGCCAAAATAG\n",
      "\n"
     ]
    }
   ],
   "source": [
    "input_file = \"Bacteroides_stercoris.ffn\"\n",
    "output_file = \"filtered_sequences_stercoris_100_150.ffn\"\n",
    "# Номера уникальных последовательностей, проверенных в BLAST\n",
    "sequence_numbers = [262, 276, 277, 283, 290, 293, 298]\n",
    "\n",
    "sequences = list(SeqIO.parse(output_file, \"fasta\"))\n",
    "\n",
    "for num in sequence_numbers:\n",
    "    sequence_index = num - 1 \n",
    "    if sequence_index < len(sequences):\n",
    "        print(f\"Последовательность номер {num}:\")\n",
    "        print(f\"ID: {sequences[sequence_index].id}\")\n",
    "        print(f\"Sequence: {str(sequences[sequence_index].seq)}\\n\")"
   ]
  },
  {
   "cell_type": "markdown",
   "id": "d7cd7317-5ca5-44b1-9b16-e47629c72c1a",
   "metadata": {},
   "source": [
    "## Faecalibacterium prausnitzii"
   ]
  },
  {
   "cell_type": "code",
   "execution_count": 33,
   "id": "3185292d-dfca-4c4a-8c93-857e118ae723",
   "metadata": {},
   "outputs": [
    {
     "name": "stdout",
     "output_type": "stream",
     "text": [
      "Количество последовательностей Faecalibacterium_prausnitzii: 24458\n"
     ]
    }
   ],
   "source": [
    "input_file = \"Faecalibacterium_prausnitzii.ffn\"\n",
    "\n",
    "count = sum(1 for record in SeqIO.parse(input_file, \"fasta\"))\n",
    "print(f\"Количество последовательностей Faecalibacterium_prausnitzii: {count}\")"
   ]
  },
  {
   "cell_type": "code",
   "execution_count": 34,
   "id": "b4607176-c878-41fa-bc94-476b342138c9",
   "metadata": {},
   "outputs": [
    {
     "name": "stdout",
     "output_type": "stream",
     "text": [
      "Количество последовательностей Faecalibacterium_prausnitzii: 1010\n"
     ]
    }
   ],
   "source": [
    "input_file = \"Faecalibacterium_prausnitzii.ffn\"\n",
    "output_file = \"filtered_sequences_prausnitzii_100_150.ffn\"\n",
    "\n",
    "with open(input_file, \"r\") as in_handle, open(output_file, \"w\") as out_handle:\n",
    "    for record in SeqIO.parse(in_handle, \"fasta\"):\n",
    "        if 100 <= len(record.seq) <= 150:\n",
    "            SeqIO.write(record, out_handle, \"fasta\")\n",
    "count = sum(1 for record in SeqIO.parse(output_file, \"fasta\"))\n",
    "print(f\"Количество последовательностей Faecalibacterium_prausnitzii: {count}\")"
   ]
  },
  {
   "cell_type": "code",
   "execution_count": 35,
   "id": "b419a9f0-77a8-4eef-9ae6-83e36207ccbc",
   "metadata": {
    "scrolled": true
   },
   "outputs": [
    {
     "name": "stdout",
     "output_type": "stream",
     "text": [
      "Последовательность номер 14:\n",
      "ID: 853__R6Q0T7__C4N22_11060|k__Bacteria.p__Firmicutes.c__Clostridia.o__Clostridiales.f__Ruminococcaceae.g__Faecalibacterium.s__Faecalibacterium_prausnitzii|UniRef90_R6Q0T7|UniRef50_R7FXY9|123\n",
      "Sequence: ATGCTGCATTTACTTTCGTGGGAGACCACGCTGCCCATCCTGCTCATCGGGATGCTGGGCATCTTCCTGGTCATCGGCGTTATTGTGCTGGCGGTGACCCTGCTGGGGAAGTTTACAAAGTAA\n",
      "\n",
      "Последовательность номер 16:\n",
      "ID: 853__A0A329UHF5__C4N23_06620|k__Bacteria.p__Firmicutes.c__Clostridia.o__Clostridiales.f__Ruminococcaceae.g__Faecalibacterium.s__Faecalibacterium_prausnitzii|UniRef90_A0A329UHF5|UniRef50_A0A174U2Z8|132\n",
      "Sequence: ATGGAATTTTTCAATCAGGCGGTTACTGTACTGCAAACCCTCGTTATCGCGCTCGGTGCTGGTCTTGGTATCTGGGGCGTGATTAACTTGCTCGAAGGGTACGGGAACGATAACCGTGCGATGCGTTCCTGA\n",
      "\n",
      "Последовательность номер 19:\n",
      "ID: 853__A0A329UIK5__C4N24_02235|k__Bacteria.p__Firmicutes.c__Clostridia.o__Clostridiales.f__Ruminococcaceae.g__Faecalibacterium.s__Faecalibacterium_prausnitzii|UniRef90_A0A329UIK5|UniRef50_A0A329UIK5|144\n",
      "Sequence: ATGCTTGTTACGGGTATTATCGTTTTGGGAGTAGCGGTCTATGCGGTATGGGCTGTTCGGAAAATCCGAAAGGATCGCAAGAACGGCTCCTGCTGCGGCGGTAGCTGCTCCGGCTGTGTAGGCAAGGAATATTGCAGCAAATAA\n",
      "\n",
      "Последовательность номер 24:\n",
      "ID: 853__A0A329TP13__C4N25_04515|k__Bacteria.p__Firmicutes.c__Clostridia.o__Clostridiales.f__Ruminococcaceae.g__Faecalibacterium.s__Faecalibacterium_prausnitzii|UniRef90_A0A329TP13|UniRef50_A0A329TP13|150\n",
      "Sequence: GTGAAAAAAAACGGAACGGATTTCCCGGTTATCGAAGATGATGTTGTTATCAATCCTTATAGCATTATTATCGGTAATGTTCGGATTGGAAAAGGATCAGTTATTGGAGCAGGGAGTATAGTGACAAAGAGTACCCCCCCCATTGTGTAA\n",
      "\n",
      "Последовательность номер 75:\n",
      "ID: 853__A0A2A7B2S5__CHR60_14315|k__Bacteria.p__Firmicutes.c__Clostridia.o__Clostridiales.f__Ruminococcaceae.g__Faecalibacterium.s__Faecalibacterium_prausnitzii|UniRef90_A0A2A7B2S5|UniRef50_A0A2A7B2S5|132\n",
      "Sequence: ATTGTGCTAGTACCAAAGTATCGTAGAGAAACAATCTATGGAAAACTGAGAAAAGATATCGGTAAGATATTGAGAATGCATTGCGATTATAAGCATGTAGAAATCATAAGAGCGACGTCAGTATGCGGTTGA\n",
      "\n",
      "Последовательность номер 97:\n",
      "ID: 853__A0A173X691__ERS852426_00519|k__Bacteria.p__Firmicutes.c__Clostridia.o__Clostridiales.f__Ruminococcaceae.g__Faecalibacterium.s__Faecalibacterium_prausnitzii|UniRef90_A0A173X691|UniRef50_A0A173X691|126\n",
      "Sequence: ATGGCGAAAAAGGCGGTAGACCTCCCAAAGAAAACCAAGTGGGTTCTTTTCAAAACCCAGTCGGTTATATACAGAAACCCGCTGGGTTTTCTGAAACCGTCCATGACGCTGGAACAGAGGCTCTAA\n",
      "\n",
      "Последовательность номер 99:\n",
      "ID: 853__A0A173YCQ6__ERS852426_00914|k__Bacteria.p__Firmicutes.c__Clostridia.o__Clostridiales.f__Ruminococcaceae.g__Faecalibacterium.s__Faecalibacterium_prausnitzii|UniRef90_A0A173YCQ6|UniRef50_A0A173YCQ6|129\n",
      "Sequence: ATGCTGACAGATGAAGAGTTCTGCGAACAGCTTCTGAAAGACTACCAAAATGACCCTGACCCGCACAAGACGGATACGATTCCGCTGGAACAGCTTGCGCGGGAGTTGGGAATGGAGCTTCTAAAATAA\n",
      "\n",
      "Последовательность номер 101:\n",
      "ID: 853__A0A173YLW2__ERS852426_01035|k__Bacteria.p__Firmicutes.c__Clostridia.o__Clostridiales.f__Ruminococcaceae.g__Faecalibacterium.s__Faecalibacterium_prausnitzii|UniRef90_A0A173YLW2|UniRef50_A0A173YLW2|120\n",
      "Sequence: ATGCTGGAAATGCTGCATGAGGTCATTCGTCGTCCGCGTGCGGGTGCAGTGCAGGGAACCCGTGTAACTTTGTGTGGGAACACTTTGCAGATTTCGCAGGAGCAGAAGGCCGTGGTGTAG\n",
      "\n",
      "Последовательность номер 106:\n",
      "ID: 853__A0A173ZN83__ERS852426_01336|k__Bacteria.p__Firmicutes.c__Clostridia.o__Clostridiales.f__Ruminococcaceae.g__Faecalibacterium.s__Faecalibacterium_prausnitzii|UniRef90_A0A173ZN83|UniRef50_A0A173ZN83|144\n",
      "Sequence: ATGGCTCTGAACGACATGCTGACGTTGATCGCTGTGATCTTTACGTTTGCCGGGTTGTTGGTGAATATCGTGAACACGACGTTCAACATCACTTGGAAGATTGCCCATGAGCGCAAAGATGAAGACAGCAAAAAAAGCGAATGA\n",
      "\n",
      "Последовательность номер 109:\n",
      "ID: 853__A0A174A4K5__ERS852426_01512|k__Bacteria.p__Firmicutes.c__Clostridia.o__Clostridiales.f__Ruminococcaceae.g__Faecalibacterium.s__Faecalibacterium_prausnitzii|UniRef90_A0A174A4K5|UniRef50_A0A174A4K5|144\n",
      "Sequence: ATGGAGTCGATCTTCGACCTCGAACATCCGTATCAAACCTACTTCAAAATGATCCTGCCCTCGGTGCTGGGCATGGCACTGGCGCTGGAGCTGCTGGCCGCAAACCGCGATATCCTGACGGGGAGCAGGGAAGCTTCCCGCTGA\n",
      "\n",
      "Последовательность номер 110:\n",
      "ID: 853__A0A174AUM9__ERS852426_01746|k__Bacteria.p__Firmicutes.c__Clostridia.o__Clostridiales.f__Ruminococcaceae.g__Faecalibacterium.s__Faecalibacterium_prausnitzii|UniRef90_A0A174AUM9|UniRef50_A0A173UXX5|144\n",
      "Sequence: ATGACATTGTCTGAATTGCTGGCGCTGCTGACCCTTCTGGTCGCAGCAGCCGCGCTGATGGTCGAAGTGGCAAAAGCCGGGTTCGACATCGCGTGGAAAGTCGCACACGACAGATCAAACGATGACAACAAGAAAAGCAAGTAA\n",
      "\n",
      "Последовательность номер 113:\n",
      "ID: 853__A0A174C539__ERS852426_02173|k__Bacteria.p__Firmicutes.c__Clostridia.o__Clostridiales.f__Ruminococcaceae.g__Faecalibacterium.s__Faecalibacterium_prausnitzii|UniRef90_A0A174C539|UniRef50_R6QB76|111\n",
      "Sequence: ATGACATTTGAACAGGTCGTTCTCCTGCTCAGCCTGATCGGCGGGGCAGTGTACGTTACATTTCAGATCACATGGACCGTTTCTCACAGCGATGAACACAAGAAAAAATGA\n",
      "\n",
      "Последовательность номер 118:\n",
      "ID: 853__A0A174DI35__ERS852426_02578|k__Bacteria.p__Firmicutes.c__Clostridia.o__Clostridiales.f__Ruminococcaceae.g__Faecalibacterium.s__Faecalibacterium_prausnitzii|UniRef90_A0A174DI35|UniRef50_A0A174DI35|123\n",
      "Sequence: ATGGACATTGCGGAGATCGAGGCGGCGCTGAAAAAGCTGTACGTCGTCTCCAAGACCGAGAGCCGGGCGGGCTTCCCGCACTTCCGGAACGCAGCAGAAGGGGAGGCCACCGATGAAGCCTGA\n",
      "\n",
      "Последовательность номер 133:\n",
      "ID: 853__A0A173SLX4__ERS852582_01063|k__Bacteria.p__Firmicutes.c__Clostridia.o__Clostridiales.f__Ruminococcaceae.g__Faecalibacterium.s__Faecalibacterium_prausnitzii|UniRef90_A0A173SLX4|UniRef50_A0A173SLX4|117\n",
      "Sequence: ATGAGGTTGGATGAAAAAGACATGCAGCCAAAATCACTGAAGGGAAAGACCTTTGGAAAAACGATTCAAGAATACCGGTTGAGGAATGGCTGGACGCAGGATGAACTGTCGTGGTGA\n",
      "\n",
      "Последовательность номер 134:\n",
      "ID: 853__A0A173SLZ3__ERS852582_01064|k__Bacteria.p__Firmicutes.c__Clostridia.o__Clostridiales.f__Ruminococcaceae.g__Faecalibacterium.s__Faecalibacterium_prausnitzii|UniRef90_A0A173SLZ3|UniRef50_A0A173SLZ3|108\n",
      "Sequence: ATGGCATTCCGCGATTTGGAACAGCAGCTCATTATGAACATGACAGAAACAGAGCTGAAGCATGTCAGCAGTGCCATCAATGCCTTTACAGATCTCATCAAAAAGTAG\n",
      "\n",
      "Последовательность номер 146:\n",
      "ID: 853__A0A173VD38__ERS852582_02779|k__Bacteria.p__Firmicutes.c__Clostridia.o__Clostridiales.f__Ruminococcaceae.g__Faecalibacterium.s__Faecalibacterium_prausnitzii|UniRef90_A0A173VD38|UniRef50_A0A173VD38|117\n",
      "Sequence: ATGCTCCGGTATTTCTTTTTACACTGGGCAGCCCCTTGGGGATGCCTGCCGGAAGAGGCAAAGCCTTTCTATAAACTCTATTACCACTATGGATTTTTGAACAGTGAGAATTTTTAA\n",
      "\n",
      "Последовательность номер 147:\n",
      "ID: 853__A0A173VEB4__ERS852582_02825|k__Bacteria.p__Firmicutes.c__Clostridia.o__Clostridiales.f__Ruminococcaceae.g__Faecalibacterium.s__Faecalibacterium_prausnitzii|UniRef90_A0A173VEB4|UniRef50_A0A173VEB4|108\n",
      "Sequence: ATGAAAATAGAGTGTGCCGAGCAGGCGGTTGCAACGAGAAACAATGAAAAGTATTTTGTGAAGGTGATGGATGTTAAATGGGAGAAAAAGTATATAAGCCAATCATGA\n",
      "\n",
      "Последовательность номер 442:\n",
      "ID: 853__A8S8K4__FAEPRAM212_00793|k__Bacteria.p__Firmicutes.c__Clostridia.o__Clostridiales.f__Ruminococcaceae.g__Faecalibacterium.s__Faecalibacterium_prausnitzii|UniRef90_A8S8K4|UniRef50_A8S8K4|123\n",
      "Sequence: ATGCCTACCGTAAGCTGGCAGGAGGCTGACAACCGAAGGATCATTCTGCCCATGCCGGGCAATGACCACTTTTTGAAAAAGGGTACCCTTTTTTCGGGGGAAGCTGACGCTTCTCCCGAATAG\n",
      "\n",
      "Последовательность номер 457:\n",
      "ID: 853__A8S8X7__FAEPRAM212_00907|k__Bacteria.p__Firmicutes.c__Clostridia.o__Clostridiales.f__Ruminococcaceae.g__Faecalibacterium.s__Faecalibacterium_prausnitzii|UniRef90_A8S8X7|UniRef50_A8S8X7|102\n",
      "Sequence: ATGTTCCACAGTCCGGGCAGTACCATCTACCATCTGGCATCGGATCAACAGGTGATGGCGTTTGGTGTGCCTTTGCAGGAGTTTGATTGGATGATGCAGTAA\n",
      "\n",
      "Последовательность номер 535:\n",
      "ID: 853__A8SC19__FAEPRAM212_01827|k__Bacteria.p__Firmicutes.c__Clostridia.o__Clostridiales.f__Ruminococcaceae.g__Faecalibacterium.s__Faecalibacterium_prausnitzii|UniRef90_A8SC19|UniRef50_A8SC19|117\n",
      "Sequence: GTGGGAATCGTCACCCCACCCTTGCTCAAAAAAGAGAACGCCCGCCGCATTCGCAGCGGGTGTTCTCTTTTTTCGTGTTTTACACTTTGCGGCGGAATGATGCAAAACGGAACTTGA\n",
      "\n",
      "Последовательность номер 540:\n",
      "ID: 853__A8SCZ4__FAEPRAM212_01871|k__Bacteria.p__Firmicutes.c__Clostridia.o__Clostridiales.f__Ruminococcaceae.g__Faecalibacterium.s__Faecalibacterium_prausnitzii|UniRef90_A8SCZ4|UniRef50_A8SCZ4|111\n",
      "Sequence: ATGCCCACCAGCTTCAAGCCGGTGGGCATTCTCTTACTTGTACCGTATTACAGGCAGTTGCTTTATCTTGCAGCCAATCTTTTTGTAATCAAGTGCAAAAACCATATCTAG\n",
      "\n",
      "Последовательность номер 589:\n",
      "ID: 853__A8SDU5__FAEPRAM212_02332|k__Bacteria.p__Firmicutes.c__Clostridia.o__Clostridiales.f__Ruminococcaceae.g__Faecalibacterium.s__Faecalibacterium_prausnitzii|UniRef90_A8SDU5|UniRef50_A8SDU5|111\n",
      "Sequence: GTGTTAGGCTGGTACGGAGACATCAAAATCCCCGGAAAGGATATGACAAAACTTTTGCCGTATCTGTGCGCAAATGATAACCCTGTGATTACAATTGAATCTGCTCAGTGA\n",
      "\n",
      "Последовательность номер 590:\n",
      "ID: 853__A8SDV3__FAEPRAM212_02341|k__Bacteria.p__Firmicutes.c__Clostridia.o__Clostridiales.f__Ruminococcaceae.g__Faecalibacterium.s__Faecalibacterium_prausnitzii|UniRef90_A8SDV3|UniRef50_A8SDV3|129\n",
      "Sequence: TTGTTGAAAGCATGGGACTGCAGACCTCTTTTTTGTGATCGGGAATCTCTCGGTTCAGAAATCCTTAATATTTTATTCTATTATATAATACCCTTTTCGCAAAAAAAAGACCTGGAATTTCCAAAATAA\n",
      "\n",
      "Последовательность номер 591:\n",
      "ID: 853__A8SDW6__FAEPRAM212_02354|k__Bacteria.p__Firmicutes.c__Clostridia.o__Clostridiales.f__Ruminococcaceae.g__Faecalibacterium.s__Faecalibacterium_prausnitzii|UniRef90_A8SDW6|UniRef50_A8SDW6|132\n",
      "Sequence: ATGGAAGTGGAACCTGTTCAGAAGGGTGATCATACCGGCACCGTTGACATGGATTTTTCTTTTCTGGTTCTTATCAGCATTTGCATTTTTGAACAACAACTGGCTCTCGTACTCCTTTGTAAAATGGGTTGA\n",
      "\n",
      "Последовательность номер 594:\n",
      "ID: 853__A8SDZ2__FAEPRAM212_02379|k__Bacteria.p__Firmicutes.c__Clostridia.o__Clostridiales.f__Ruminococcaceae.g__Faecalibacterium.s__Faecalibacterium_prausnitzii|UniRef90_A8SDZ2|UniRef50_A8SDZ2|126\n",
      "Sequence: ATGATGCTTATGATTCTGATTCCTGTGATGAAGACTACACAGGCCAACCACCAGATGGTGACCAGTCGTTCATTGTGCCAAGGCGTGGTCTGGAACCTGACTCAGGCCCAGATGATGACCCCATGA\n",
      "\n",
      "Последовательность номер 645:\n",
      "ID: 853__A8SG28__FAEPRAM212_02929|k__Bacteria.p__Firmicutes.c__Clostridia.o__Clostridiales.f__Ruminococcaceae.g__Faecalibacterium.s__Faecalibacterium_prausnitzii|UniRef90_A8SG28|UniRef50_A8SG28|120\n",
      "Sequence: TTGCTGTTCGATATCATCCACGCCAAGCTAATCAATATGTCAACATATAGAAAGCAAGAATTTATAAAATATACATTGACATCTTTCTGTTTAACCATTTCTGACAAAAGATTTCTTTGA\n",
      "\n",
      "Последовательность номер 646:\n",
      "ID: 853__A8SG35__FAEPRAM212_02934|k__Bacteria.p__Firmicutes.c__Clostridia.o__Clostridiales.f__Ruminococcaceae.g__Faecalibacterium.s__Faecalibacterium_prausnitzii|UniRef90_A8SG35|UniRef50_A8SG35|150\n",
      "Sequence: ATGATTACACCGCTGATTTATATTCATTCTTCAAATCTATTTTTGATTTTTCTTGCAGGTACCCCCCCAGATTGTAAAAGGAGGAATTTCCTTTGTTACTACACTTCCTGCAGCGATGACGGCACCTTCATGAATATGCACACCTTTTAG\n",
      "\n",
      "Последовательность номер 690:\n",
      "ID: 853__A8SHQ6__FAEPRAM212_03439|k__Bacteria.p__Firmicutes.c__Clostridia.o__Clostridiales.f__Ruminococcaceae.g__Faecalibacterium.s__Faecalibacterium_prausnitzii|UniRef90_A8SHQ6|UniRef50_A8SHQ6|111\n",
      "Sequence: GTGCGGCCTTTTCACGCCCTGCGTCAGTCTGTCCTTGTGACAGTACAACGCAGGGCATTTTTTATTATTCGGAAAGAGGTGGCCTGCTATGAATTTGCCAAAACGAAATAG\n",
      "\n",
      "Последовательность номер 762:\n",
      "ID: 853__D4K796__FPR_02660|k__Bacteria.p__Firmicutes.c__Clostridia.o__Clostridiales.f__Ruminococcaceae.g__Faecalibacterium.s__Faecalibacterium_prausnitzii|UniRef90_D4K796|UniRef50_A0A139R4S9|120\n",
      "Sequence: ATGCGAAAGAAGGAAGAGACTCGTGAGAGCAGAGCAGAGCAGAGCAGAGCAGAGCAGAGCAGAGCAGAGCAGAGCAGAGCAGAGCAGAGCAGAGCAGAGCAGCGTCTTTGGATGTTTTGA\n",
      "\n",
      "Последовательность номер 798:\n",
      "ID: 853__E2ZEW9__HMPREF9436_00198|k__Bacteria.p__Firmicutes.c__Clostridia.o__Clostridiales.f__Ruminococcaceae.g__Faecalibacterium.s__Faecalibacterium_prausnitzii|UniRef90_E2ZEW9|UniRef50_E2ZEW9|141\n",
      "Sequence: ATGAGCGTCCCGGGAATTTTCCTCGGCTGGTTCAGTCGAGGAAAGACCCGGGGCTTTTTTCAGCTTTGTCCAAGGCCCGCCGAAAGCAGGGAAAAGGAAAGCTTTTCCATCCTTCCTCTGGACAGGCGCGCACGCTGTTAA\n",
      "\n",
      "Последовательность номер 868:\n",
      "ID: 853__E2ZHT7__HMPREF9436_01226|k__Bacteria.p__Firmicutes.c__Clostridia.o__Clostridiales.f__Ruminococcaceae.g__Faecalibacterium.s__Faecalibacterium_prausnitzii|UniRef90_E2ZHT7|UniRef50_E2ZHT7|129\n",
      "Sequence: GTGGGAGAGTTTGTACGCCTTTACCAACATTTTCGTCCGGCAAAGCATTGGTATGATGTGGTCTATGTTTTCACCCTGTCCGAAGTAAAGGAAGCGGCACATTTTTCCAAAATGTGGAATCCGATATAA\n",
      "\n"
     ]
    }
   ],
   "source": [
    "input_file = \"Faecalibacterium_prausnitzii.ffn\"\n",
    "output_file = \"filtered_sequences_prausnitzii_100_150.ffn\"\n",
    "# Номера уникальных последовательностей, проверенных в BLAST\n",
    "sequence_numbers = [14, 16, 19, 24, 75, 97, 99, 101, 106, 109, 110, 113, 118, 133, 134, 146, 147, 442, 457, 535, 540, 589, 590, 591, 594, 645, 646, 690, 762, 798, 868]\n",
    "\n",
    "sequences = list(SeqIO.parse(output_file, \"fasta\"))\n",
    "\n",
    "for num in sequence_numbers:\n",
    "    sequence_index = num - 1 \n",
    "    if sequence_index < len(sequences):\n",
    "        print(f\"Последовательность номер {num}:\")\n",
    "        print(f\"ID: {sequences[sequence_index].id}\")\n",
    "        print(f\"Sequence: {str(sequences[sequence_index].seq)}\\n\")"
   ]
  },
  {
   "cell_type": "markdown",
   "id": "4c73597f-8b9f-4578-ae98-cd6106913cc4",
   "metadata": {},
   "source": [
    "## Eggerthella lenta"
   ]
  },
  {
   "cell_type": "code",
   "execution_count": 38,
   "id": "830addbf-710f-4437-b064-11d8e7ce45e0",
   "metadata": {},
   "outputs": [
    {
     "name": "stdout",
     "output_type": "stream",
     "text": [
      "Количество последовательностей Eggerthella_lenta: 5902\n"
     ]
    }
   ],
   "source": [
    "input_file = \"Eggerthella_lenta.ffn\"\n",
    "\n",
    "count = sum(1 for record in SeqIO.parse(input_file, \"fasta\"))\n",
    "print(f\"Количество последовательностей Eggerthella_lenta: {count}\")"
   ]
  },
  {
   "cell_type": "code",
   "execution_count": 39,
   "id": "ac953e61-1501-4dc7-975f-a56cebc77b59",
   "metadata": {},
   "outputs": [
    {
     "name": "stdout",
     "output_type": "stream",
     "text": [
      "Количество последовательностей Eggerthella_lenta: 29\n"
     ]
    }
   ],
   "source": [
    "input_file = \"Eggerthella_lenta.ffn\"\n",
    "output_file = \"filtered_sequences_lenta_100_150.ffn\"\n",
    "\n",
    "with open(input_file, \"r\") as in_handle, open(output_file, \"w\") as out_handle:\n",
    "    for record in SeqIO.parse(in_handle, \"fasta\"):\n",
    "        if 100 <= len(record.seq) <= 150:\n",
    "            SeqIO.write(record, out_handle, \"fasta\")\n",
    "count = sum(1 for record in SeqIO.parse(output_file, \"fasta\"))\n",
    "print(f\"Количество последовательностей Eggerthella_lenta: {count}\")"
   ]
  },
  {
   "cell_type": "code",
   "execution_count": 40,
   "id": "5486adcf-1a4a-40d6-a416-b4d2659469fe",
   "metadata": {},
   "outputs": [
    {
     "name": "stdout",
     "output_type": "stream",
     "text": [
      "Нет уникальной последовательности в BLAST\n"
     ]
    }
   ],
   "source": [
    "input_file = \"Eggerthella_lenta.ffn\"\n",
    "output_file = \"filtered_sequences_lenta_100_150.ffn\"\n",
    "# Номера уникальных последовательностей, проверенных в BLAST\n",
    "sequence_numbers = []\n",
    "sequences = list(SeqIO.parse(output_file, \"fasta\"))\n",
    "\n",
    "for num in sequence_numbers:\n",
    "    sequence_index = num - 1 \n",
    "    if sequence_index < len(sequences):\n",
    "        print(f\"Последовательность номер {num}:\")\n",
    "        print(f\"ID: {sequences[sequence_index].id}\")\n",
    "        print(f\"Sequence: {str(sequences[sequence_index].seq)}\\n\")\n",
    "print (f\"Нет уникальной последовательности в BLAST\")"
   ]
  },
  {
   "cell_type": "markdown",
   "id": "7a4d746f-1c78-41b1-a296-00d03c5c8ea5",
   "metadata": {},
   "source": [
    "## Bacteroides caccae"
   ]
  },
  {
   "cell_type": "code",
   "execution_count": 47,
   "id": "a4587f92-0bef-4945-967a-0ef4daddb9ad",
   "metadata": {},
   "outputs": [
    {
     "name": "stdout",
     "output_type": "stream",
     "text": [
      "Количество последовательностей Bacteroides_caccae: 8292\n"
     ]
    }
   ],
   "source": [
    "input_file = \"Bacteroides_caccae.ffn\"\n",
    "\n",
    "count = sum(1 for record in SeqIO.parse(input_file, \"fasta\"))\n",
    "print(f\"Количество последовательностей Bacteroides_caccae: {count}\")"
   ]
  },
  {
   "cell_type": "markdown",
   "id": "6fd24cb8-f936-419b-98d9-8ba7094922a9",
   "metadata": {},
   "source": [
    "input_file = \"Bacteroides_caccae.ffn\"\n",
    "output_file = \"filtered_sequences_caccae_100_150.ffn\"\n",
    "\n",
    "with open(input_file, \"r\") as in_handle, open(output_file, \"w\") as out_handle:\n",
    "    for record in SeqIO.parse(in_handle, \"fasta\"):\n",
    "        if 100 <= len(record.seq) <= 150:\n",
    "            SeqIO.write(record, out_handle, \"fasta\")\n",
    "count = sum(1 for record in SeqIO.parse(output_file, \"fasta\"))\n",
    "print(f\"Количество последовательностей Bacteroides_caccae: {count}\")"
   ]
  },
  {
   "cell_type": "code",
   "execution_count": 49,
   "id": "b2bbe78b-97cc-451e-9edd-be94fd9d7f70",
   "metadata": {
    "scrolled": true
   },
   "outputs": [
    {
     "name": "stdout",
     "output_type": "stream",
     "text": [
      "Последовательность номер 14:\n",
      "ID: 47678__A5ZBW8__BACCAC_00355|k__Bacteria.p__Bacteroidetes.c__Bacteroidia.o__Bacteroidales.f__Bacteroidaceae.g__Bacteroides.s__Bacteroides_caccae|UniRef90_A5ZBW8|UniRef50_A5ZBW8|108\n",
      "Sequence: ATGAGCATAGCATATGGTATTAAAGGGAAGACTGCAGAAGAAGAGAAAGCATATAGCAAGAGAAAAATATGGAGTAGAGAGAAGAAAGAACAGGAAAGGGGGCTATGA\n",
      "\n",
      "Последовательность номер 118:\n",
      "ID: 47678__A5ZLE2__BACCAC_03742|k__Bacteria.p__Bacteroidetes.c__Bacteroidia.o__Bacteroidales.f__Bacteroidaceae.g__Bacteroides.s__Bacteroides_caccae|UniRef90_A5ZLE2|UniRef50_A5ZLE2|120\n",
      "Sequence: ATGGTAATCAAAAAAAGTAATAATCCCTTTGCCGGAAAGGCAAAACCCGGAGTCGGAAAGAAAAAACTTCGGGAAAAAGAGTCGGGAAGTCGAAACAGGAAAAGGCTAATAATCAGTTGA\n",
      "\n",
      "Последовательность номер 164:\n",
      "ID: 47678__A0A174KNB8__ERS852494_01580|k__Bacteria.p__Bacteroidetes.c__Bacteroidia.o__Bacteroidales.f__Bacteroidaceae.g__Bacteroides.s__Bacteroides_caccae|UniRef90_A0A174KNB8|UniRef50_A0A174KNB8|108\n",
      "Sequence: ATGGAAAAACAACAGTATCAAGTTACGATTCAGATTATGAGTACATTGATATTGTTTGGTAAAATGTGCACAGAGAAAATGAGTGCAATGAGCACTTTTTCTATCTAA\n",
      "\n"
     ]
    }
   ],
   "source": [
    "input_file = \"Bacteroides_caccae.ffn\"\n",
    "output_file = \"filtered_sequences_caccae_100_150.ffn\"\n",
    "# Номера уникальных последовательностей, проверенных в BLAST\n",
    "sequence_numbers = [14, 118, 164]\n",
    "sequences = list(SeqIO.parse(output_file, \"fasta\"))\n",
    "\n",
    "for num in sequence_numbers:\n",
    "    sequence_index = num - 1 \n",
    "    if sequence_index < len(sequences):\n",
    "        print(f\"Последовательность номер {num}:\")\n",
    "        print(f\"ID: {sequences[sequence_index].id}\")\n",
    "        print(f\"Sequence: {str(sequences[sequence_index].seq)}\\n\")\n"
   ]
  },
  {
   "cell_type": "markdown",
   "id": "1b5677ca-df03-4b2e-b269-b3a6e6a139db",
   "metadata": {},
   "source": [
    "## Roseburia intestinalis"
   ]
  },
  {
   "cell_type": "code",
   "execution_count": 50,
   "id": "d2266a3d-6ff9-4010-a043-7e65f563eebf",
   "metadata": {},
   "outputs": [
    {
     "name": "stdout",
     "output_type": "stream",
     "text": [
      "Количество последовательностей Roseburia_intestinalis: 6931\n"
     ]
    }
   ],
   "source": [
    "input_file = \"Roseburia_intestinalis.ffn\"\n",
    "\n",
    "count = sum(1 for record in SeqIO.parse(input_file, \"fasta\"))\n",
    "print(f\"Количество последовательностей Roseburia_intestinalis: {count}\")"
   ]
  },
  {
   "cell_type": "code",
   "execution_count": 51,
   "id": "65e90d6b-e914-4af8-b19c-e24c4ec7034e",
   "metadata": {},
   "outputs": [
    {
     "name": "stdout",
     "output_type": "stream",
     "text": [
      "Количество последовательностей Roseburia_intestinalis: 456\n"
     ]
    }
   ],
   "source": [
    "input_file = \"Roseburia_intestinalis.ffn\"\n",
    "output_file = \"filtered_sequences_intestinalis_100_150.ffn\"\n",
    "\n",
    "with open(input_file, \"r\") as in_handle, open(output_file, \"w\") as out_handle:\n",
    "    for record in SeqIO.parse(in_handle, \"fasta\"):\n",
    "        if 100 <= len(record.seq) <= 150:\n",
    "            SeqIO.write(record, out_handle, \"fasta\")\n",
    "count = sum(1 for record in SeqIO.parse(output_file, \"fasta\"))\n",
    "print(f\"Количество последовательностей Roseburia_intestinalis: {count}\")"
   ]
  },
  {
   "cell_type": "code",
   "execution_count": 52,
   "id": "7a8cc317-6f96-486a-abf2-9b6cff644c7f",
   "metadata": {
    "scrolled": true
   },
   "outputs": [
    {
     "name": "stdout",
     "output_type": "stream",
     "text": [
      "Последовательность номер 2:\n",
      "ID: 47678__A5ZB35__BACCAC_00060|k__Bacteria.p__Bacteroidetes.c__Bacteroidia.o__Bacteroidales.f__Bacteroidaceae.g__Bacteroides.s__Bacteroides_caccae|UniRef90_A5ZB35|UniRef50_A5ZB35|132\n",
      "Sequence: TTGAGGGAAAAAGAAAAGGCAGGCAAAAACGATACACTCACAAAGTTTGTCGTTTTTGCTTTTTTAGGTACTTTTGTAATCGAAAAAACCAAAATGCAGTATCTGCAAAAGAATTATGAAACATCCTCTTGA\n",
      "\n",
      "Последовательность номер 30:\n",
      "ID: 47678__A5ZDV5__BACCAC_01063|k__Bacteria.p__Bacteroidetes.c__Bacteroidia.o__Bacteroidales.f__Bacteroidaceae.g__Bacteroides.s__Bacteroides_caccae|UniRef90_A5ZDV5|UniRef50_A5ZDV5|129\n",
      "Sequence: ATGCATTTCCACCTGAACCGAGAAAAAAGAAATCAAGAGAAAGAGAAATATATTAAAAATGAAGATAAGAAAAACAATCCTCACGGCAGCTATTCTCATGGCTGCCGTTTGTTTGCCGGCACAGAATAA\n",
      "\n",
      "Последовательность номер 64:\n",
      "ID: 47678__A5ZGD1__BACCAC_01949|k__Bacteria.p__Bacteroidetes.c__Bacteroidia.o__Bacteroidales.f__Bacteroidaceae.g__Bacteroides.s__Bacteroides_caccae|UniRef90_A5ZGD1|UniRef50_A5ZGD1|144\n",
      "Sequence: TTGCTGGGCGCAAAATTATATGTTTTTTCTGAAAGTACCCCTGTTTTTGTAGGGGTATTTTTGAAAATAAGTGTGTTTTTTGAGAAATACCCCTACTTTTTTGTGGGGAAGGTAGACTTTTTTCTTGTATTTTATAAAATATAG\n",
      "\n",
      "Последовательность номер 88:\n",
      "ID: 47678__A5ZIX6__BACCAC_02856|k__Bacteria.p__Bacteroidetes.c__Bacteroidia.o__Bacteroidales.f__Bacteroidaceae.g__Bacteroides.s__Bacteroides_caccae|UniRef90_A5ZIX6|UniRef50_A5ZIX6|120\n",
      "Sequence: TTGTATAAGAAAAAAGCTCCGAATATTACTACTCGAAGCTTTCATCAATTACTCTTATTGTTGGGGGTGGAAGACCGGACTCGAACCGGCGACATTCAGAACCACAATCTGACGCTCTAA\n",
      "\n",
      "Последовательность номер 137:\n",
      "ID: 47678__R7KE58__ERS852494_00162|k__Bacteria.p__Bacteroidetes.c__Bacteroidia.o__Bacteroidales.f__Bacteroidaceae.g__Bacteroides.s__Bacteroides_caccae|UniRef90_R7KE58|UniRef50_R7KE58|108\n",
      "Sequence: ATGAACTCACATATATTCACTAACAAGAACGGCAACATACTGATGCGCGAATTTGAAAGAGTTCTTGATTTCATTATAAACAAAGACAAACTGTACAATAGTCTCTAA\n",
      "\n",
      "Последовательность номер 204:\n",
      "ID: 47678__A0A174THM0__ERS852494_03884|k__Bacteria.p__Bacteroidetes.c__Bacteroidia.o__Bacteroidales.f__Bacteroidaceae.g__Bacteroides.s__Bacteroides_caccae|UniRef90_A0A174THM0|UniRef50_A0A174THM0|135\n",
      "Sequence: ATGAGAATTTTTTCTCATAATAGTGAGAATACTTTGAGAAAAACCTTATCTCCTGTTTCGAATCTGAATCTCGGTGAAGCAGTTCGCCACTTGTTTATGATAAGTGTTACCGTTATTTCGACAAGCAGGAAATAA\n",
      "\n"
     ]
    }
   ],
   "source": [
    "input_file = \"Bacteroides_caccae.ffn\"\n",
    "output_file = \"filtered_sequences_caccae_100_150.ffn\"\n",
    "# Номера уникальных последовательностей, проверенных в BLAST\n",
    "sequence_numbers = [2, 30, 64, 88, 137, 204, 405]\n",
    "sequences = list(SeqIO.parse(output_file, \"fasta\"))\n",
    "\n",
    "for num in sequence_numbers:\n",
    "    sequence_index = num - 1 \n",
    "    if sequence_index < len(sequences):\n",
    "        print(f\"Последовательность номер {num}:\")\n",
    "        print(f\"ID: {sequences[sequence_index].id}\")\n",
    "        print(f\"Sequence: {str(sequences[sequence_index].seq)}\\n\")"
   ]
  },
  {
   "cell_type": "markdown",
   "id": "acccc720-8d91-4636-bad7-a13d54787c30",
   "metadata": {},
   "source": [
    "## Roseburia inulinivorans"
   ]
  },
  {
   "cell_type": "code",
   "execution_count": 54,
   "id": "bbca8165-f5a2-4ade-af2b-d9d2375cacd2",
   "metadata": {},
   "outputs": [
    {
     "name": "stdout",
     "output_type": "stream",
     "text": [
      "Количество последовательностей Roseburia_inulinivorans: 7449\n"
     ]
    }
   ],
   "source": [
    "input_file = \"Roseburia_inulinivorans.ffn\"\n",
    "\n",
    "count = sum(1 for record in SeqIO.parse(input_file, \"fasta\"))\n",
    "print(f\"Количество последовательностей Roseburia_inulinivorans: {count}\")"
   ]
  },
  {
   "cell_type": "code",
   "execution_count": 55,
   "id": "c9d951c8-fe99-4fe6-bd4c-634c04b1158e",
   "metadata": {},
   "outputs": [
    {
     "name": "stdout",
     "output_type": "stream",
     "text": [
      "Количество последовательностей Roseburia_inulinivorans: 329\n"
     ]
    }
   ],
   "source": [
    "input_file = \"Roseburia_inulinivorans.ffn\"\n",
    "output_file = \"filtered_sequences_inulinivorans_100_150.ffn\"\n",
    "\n",
    "with open(input_file, \"r\") as in_handle, open(output_file, \"w\") as out_handle:\n",
    "    for record in SeqIO.parse(in_handle, \"fasta\"):\n",
    "        if 100 <= len(record.seq) <= 150:\n",
    "            SeqIO.write(record, out_handle, \"fasta\")\n",
    "count = sum(1 for record in SeqIO.parse(output_file, \"fasta\"))\n",
    "print(f\"Количество последовательностей Roseburia_inulinivorans: {count}\")"
   ]
  },
  {
   "cell_type": "code",
   "execution_count": 59,
   "id": "6eeef7ec-71ba-4646-8f71-902a396f8fb2",
   "metadata": {},
   "outputs": [
    {
     "name": "stdout",
     "output_type": "stream",
     "text": [
      "Последовательность номер 5:\n",
      "ID: 360807__A0A174DHK0__DW813_06725|k__Bacteria.p__Firmicutes.c__Clostridia.o__Clostridiales.f__Lachnospiraceae.g__Roseburia.s__Roseburia_inulinivorans|UniRef90_A0A174DHK0|UniRef50_R9ML12|132\n",
      "Sequence: ATGGGAACATTCGTTGTATTAGTTGTTTTGATATCCGTAGTTGCTCTGATCGTCAGAGGCATTGTCCGGGACAAAAAGAGTGGAAAATCTTCCTGCGGTGGGGACTGTTCACATTGCAGAGGCTGCCATTAG\n",
      "\n",
      "Последовательность номер 6:\n",
      "ID: 360807__C0FZ45__DW813_07645|k__Bacteria.p__Firmicutes.c__Clostridia.o__Clostridiales.f__Lachnospiraceae.g__Roseburia.s__Roseburia_inulinivorans|UniRef90_C0FZ45|UniRef50_C0FZ45|150\n",
      "Sequence: ATGAAAGGTAAGTTATCAAAAGCGGTTGCAAAGGGAATGGTATCAGTTTTGAATACATTTCTGCGTGCTGATGCAAATTCAGCGGCATGTGCTATTACATATCAACCCAAAGCACCAAAAGAATTAGCAAGATACAGGAGAACGAAATGA\n",
      "\n",
      "Последовательность номер 7:\n",
      "ID: 360807__A0A0M6WIF1__DW813_07950|k__Bacteria.p__Firmicutes.c__Clostridia.o__Clostridiales.f__Lachnospiraceae.g__Roseburia.s__Roseburia_inulinivorans|UniRef90_A0A0M6WIF1|UniRef50_A0A173TPS9|126\n",
      "Sequence: ATGAACAGTATCTTTCACAGAGTAAGTATCAGAAAATATCAGGAAAAGAAAATTGAGCAGGAAAAAGTGGAACAACTGCTTCGAGCTGCAATGGCAGCGCCGTCTGCATGCAACCAGCAGCCGTGA\n",
      "\n",
      "Последовательность номер 8:\n",
      "ID: 360807__A0A174BSU0__DW813_08255|k__Bacteria.p__Firmicutes.c__Clostridia.o__Clostridiales.f__Lachnospiraceae.g__Roseburia.s__Roseburia_inulinivorans|UniRef90_A0A174BSU0|UniRef50_A0A174BSU0|141\n",
      "Sequence: ATGAGTAATAATATTAAGAAAGAGTTATTAGGCTTAATGCAAAAAGCTGTAAAACTTGAGGTAGAGAAGAATGGAAATGAAGCTTCTCGCTATTGCCCGGTTATTTTGCATCAGCCTAAAAGACCTAAAAAACTGAAATAG\n",
      "\n",
      "Последовательность номер 9:\n",
      "ID: 360807__A0A396AF81__DW813_08930|k__Bacteria.p__Firmicutes.c__Clostridia.o__Clostridiales.f__Lachnospiraceae.g__Roseburia.s__Roseburia_inulinivorans|UniRef90_A0A396AF81|UniRef50_A0A396AF81|129\n",
      "Sequence: TTGTTTAAAATAAATAATGCGACAAACATCAAGAATATTAAACACAATACCACCAGCAACAATATATTGGGCAAGTCTTGTGATGTAGTTAGAAATTCTTTTATCAAATGGGCTATGATCTATGGTTAA\n",
      "\n",
      "Последовательность номер 11:\n",
      "ID: 360807__A0A396ABT5__DW813_12085|k__Bacteria.p__Firmicutes.c__Clostridia.o__Clostridiales.f__Lachnospiraceae.g__Roseburia.s__Roseburia_inulinivorans|UniRef90_A0A396ABT5|UniRef50_A0A396ABT5|105\n",
      "Sequence: ATGGGAGAATGGAGAATGCTAAAGACCCTGATGGATTGGTATAATTATCCTGCCAACTATAGACCAGAATTGCTAAGTAATAATTGTAGTCATAAGTATGAATAA\n",
      "\n",
      "Последовательность номер 12:\n",
      "ID: 360807__A0A396AD96__DW813_13150|k__Bacteria.p__Firmicutes.c__Clostridia.o__Clostridiales.f__Lachnospiraceae.g__Roseburia.s__Roseburia_inulinivorans|UniRef90_A0A396AD96|UniRef50_A0A396AD96|138\n",
      "Sequence: ATTAAGAAATTTGTCATAATTATATACGATATTGACAATGAAATAGATGAAAGATATAAAGATCTCATTGTGAATGAGTTGACATTTATCCGCGAGAATACATCAAAGATAATCAAAAATGCAGTAGTCATGTCTTAA\n",
      "\n",
      "Последовательность номер 15:\n",
      "ID: 360807__A0A396AFK6__DW813_13775|k__Bacteria.p__Firmicutes.c__Clostridia.o__Clostridiales.f__Lachnospiraceae.g__Roseburia.s__Roseburia_inulinivorans|UniRef90_A0A396AFK6|UniRef50_A0A396AFK6|150\n",
      "Sequence: ATGCGAACTGTTACAGTAGATGCACCTGAACAAAACGCAAATCCAAATAGTGTTCCAGATGATTTACGCAAATATGCTGACCTCTTAAAAGAGGGACTCATTTCACAAGAAGAATATGACGCAATGAAAAAGAAAATTTTAGGATTATAG\n",
      "\n",
      "Последовательность номер 16:\n",
      "ID: 360807__C0FVQ8__DW813_14510|k__Bacteria.p__Firmicutes.c__Clostridia.o__Clostridiales.f__Lachnospiraceae.g__Roseburia.s__Roseburia_inulinivorans|UniRef90_C0FVQ8|UniRef50_C0FVQ8|132\n",
      "Sequence: ATGGACGTATCATATAACAAATTTTTCAAGATGCTGATTGACCGTAAAATGAAGAAAAAAGCCATTTGCGAGCAGGCTGGTATAGCTACCAGTACCATGGCAAAAATGGCGAAGGACGAGAAGGAACAATAA\n",
      "\n",
      "Последовательность номер 17:\n",
      "ID: 360807__A0A0M6WFN0__DW813_14575|k__Bacteria.p__Firmicutes.c__Clostridia.o__Clostridiales.f__Lachnospiraceae.g__Roseburia.s__Roseburia_inulinivorans|UniRef90_A0A0M6WFN0|UniRef50_D4L3E5|129\n",
      "Sequence: ATGTATACAATCGATCCAGCAATGTCTTTCGGTGAAGTAATTCTTTACTATGAGAAATACCTTACAGAGACAAAAGCAGAAGGTAAAAAACCAGTATCCTTCCTGCATTTCATTACAGGCAGATACTAA\n",
      "\n",
      "Последовательность номер 21:\n",
      "ID: 360807__R6QK58__ERS852392_00188|k__Bacteria.p__Firmicutes.c__Clostridia.o__Clostridiales.f__Lachnospiraceae.g__Roseburia.s__Roseburia_inulinivorans|UniRef90_R6QK58|UniRef50_A0A0Z9ET71|126\n",
      "Sequence: ATGGCAGTACACCACGGTGGAAAAGTAGGAAAAGCGGGTAAGACTCTTGCTAGTAAATCGTCTAGCAAACAGTCGAAAAGCAAGGCTGGAACTACATTAGCTAATCACAAAGCTAAATGTCATTAA\n",
      "\n",
      "Последовательность номер 22:\n",
      "ID: 360807__A0A173WF26__ERS852392_00191|k__Bacteria.p__Firmicutes.c__Clostridia.o__Clostridiales.f__Lachnospiraceae.g__Roseburia.s__Roseburia_inulinivorans|UniRef90_A0A173WF26|UniRef50_A0A173WF26|144\n",
      "Sequence: ATGGCAATCATTGCTGCTTGTGATGGGGATTATTCAGGAATTGCTACAATAGGTAAGTTTGTAGGATTTTTTGTATTGTTATTTGCAGTATTATGGTTATTTACCCAGCCTGTTTTATTGATAATTGTGTGGTACTGGTTTTAA\n",
      "\n",
      "Последовательность номер 25:\n",
      "ID: 360807__R5HX68__ERS852392_00732|k__Bacteria.p__Firmicutes.c__Clostridia.o__Clostridiales.f__Lachnospiraceae.g__Roseburia.s__Roseburia_inulinivorans|UniRef90_R5HX68|UniRef50_R5HX68|114\n",
      "Sequence: ATGTTGACCACACAGAATGGTTCCATAGAAGTTCAGAAGTATAAGCTGCCATTGGAATTAGAGGTTGGCGATATTTTGATCCAGAATGAATTCGGCATTTATGAGAAAAAATAA\n",
      "\n",
      "Последовательность номер 29:\n",
      "ID: 360807__A0A173Y3H2__ERS852392_00783|k__Bacteria.p__Firmicutes.c__Clostridia.o__Clostridiales.f__Lachnospiraceae.g__Roseburia.s__Roseburia_inulinivorans|UniRef90_A0A173Y3H2|UniRef50_A0A173Y3H2|138\n",
      "Sequence: ATGGTGCTAGAAAGCCTTTATGCCGATTATGTCAAGCTGAAAAAACAGGTACAGGAATATGACATTATCAAGCGGAACATAGACAGCATTTTACAGGCAGAGAAGCAGCCGGAACGAAAAAGAGAAACAGAACGGTAA\n",
      "\n",
      "Последовательность номер 31:\n",
      "ID: 360807__A0A173YSH6__ERS852392_01011|k__Bacteria.p__Firmicutes.c__Clostridia.o__Clostridiales.f__Lachnospiraceae.g__Roseburia.s__Roseburia_inulinivorans|UniRef90_A0A173YSH6|UniRef50_A0A173YSH6|132\n",
      "Sequence: ATGCTAAGACAGTATTTCCAGAGAATAGCTGATAATACAGATTTTATAGCATGGTATTTCGGACATTTCTACGAGGATACAGAAATCGATGGCAGATTTTATTGCTTATATGAAGATATTGTCGTGCTGTAA\n",
      "\n",
      "Последовательность номер 32:\n",
      "ID: 360807__A0A173YWX7__ERS852392_01050|k__Bacteria.p__Firmicutes.c__Clostridia.o__Clostridiales.f__Lachnospiraceae.g__Roseburia.s__Roseburia_inulinivorans|UniRef90_A0A173YWX7|UniRef50_A0A173YWX7|114\n",
      "Sequence: ATGAAATCACGAGATAATATTTTTCAGGTAGTACGGAAAAAGAGGACAAGTGCTTATGATGAGGGTATATATATGTCCGGACTGTGGGTGGATGCGCATGGTATCGCGGCGTAA\n",
      "\n",
      "Последовательность номер 33:\n",
      "ID: 360807__A0A173YZD3__ERS852392_01077|k__Bacteria.p__Firmicutes.c__Clostridia.o__Clostridiales.f__Lachnospiraceae.g__Roseburia.s__Roseburia_inulinivorans|UniRef90_A0A173YZD3|UniRef50_A0A0M6WJP4|132\n",
      "Sequence: ATGAAAAAGAAAATTTTTGCTATCACATTATGTGCACTTATTGCAGCCGCTTCTATTGTTGGAAGTACAGGAGTTGTGGATAACTCGAATGTAGTTGCTTCCATCTTTGGTCCAATATCTGGCGGATATTAA\n",
      "\n",
      "Последовательность номер 34:\n",
      "ID: 360807__A0A173ZK86__ERS852392_01277|k__Bacteria.p__Firmicutes.c__Clostridia.o__Clostridiales.f__Lachnospiraceae.g__Roseburia.s__Roseburia_inulinivorans|UniRef90_A0A173ZK86|UniRef50_A0A173ZK86|132\n",
      "Sequence: ATGATAAACTCCGGAAAAAGCGTAAGTGTTGCATTATATCTCACTATGAGTATGACAATTTTATTGCATGAAATTATAAAATATGTTATTAATAACAATATAGAGGACGAGATAAAGGAAATATGTCATTGA\n",
      "\n",
      "Последовательность номер 36:\n",
      "ID: 360807__A0A0M6WQF4__ERS852392_01495|k__Bacteria.p__Firmicutes.c__Clostridia.o__Clostridiales.f__Lachnospiraceae.g__Roseburia.s__Roseburia_inulinivorans|UniRef90_A0A0M6WQF4|UniRef50_A0A0M6WQF4|150\n",
      "Sequence: ATGTTAGTGGTGGAAAATAACAGTGTTTATGAGATAGATGAAGAGTGTCTCAAAAGAAGAAGTGTGCCAGAGGAATGTGAGGTATACAAGAAGATTGTCAGAGAGCGGGAAGTGGCAAAGAACAAAGAGAAAACGGAAAAACCAAAGTAA\n",
      "\n",
      "Последовательность номер 37:\n",
      "ID: 360807__C0FU85__ERS852392_01560|k__Bacteria.p__Firmicutes.c__Clostridia.o__Clostridiales.f__Lachnospiraceae.g__Roseburia.s__Roseburia_inulinivorans|UniRef90_C0FU85|UniRef50_C0FU85|114\n",
      "Sequence: ATGTATGATTTTGCAGTTAGTGACAGTATGGGAAACCATTATGTTGTAACATATAATAGTTATTGGCCGTTAAGTGAACAGAGTGTAGAAGATATTAAAGTAGAGAAGAAGTAA\n",
      "\n",
      "Последовательность номер 38:\n",
      "ID: 360807__A0A174AI48__ERS852392_01577|k__Bacteria.p__Firmicutes.c__Clostridia.o__Clostridiales.f__Lachnospiraceae.g__Roseburia.s__Roseburia_inulinivorans|UniRef90_A0A174AI48|UniRef50_A0A174AI48|117\n",
      "Sequence: ATGGTCAGTGTATTTCAGGAAATATGGAATGAAGGAGAGGCAAAAGGTATTATTGAAATGGGGCATGATTTTGGACTTTCTGAGGAGGATATTTTAGCAAGACTGCAAAAAAGTTGA\n",
      "\n",
      "Последовательность номер 39:\n",
      "ID: 360807__A0A0M6X190__ERS852392_01651|k__Bacteria.p__Firmicutes.c__Clostridia.o__Clostridiales.f__Lachnospiraceae.g__Roseburia.s__Roseburia_inulinivorans|UniRef90_A0A0M6X190|UniRef50_A0A0M6X190|117\n",
      "Sequence: ATGCTTGAAGCAAAATATAATATAAGTAATATGGCTTCTGGAAATTTATTGAAAAAGCTGGGCTTTCAAATTGATGGAGAGCTTAGAAACAGAAGAATTGGAATTGAAGATGTGTAA\n",
      "\n",
      "Последовательность номер 40:\n",
      "ID: 360807__A0A0M6WJM1__ERS852392_01661|k__Bacteria.p__Firmicutes.c__Clostridia.o__Clostridiales.f__Lachnospiraceae.g__Roseburia.s__Roseburia_inulinivorans|UniRef90_A0A0M6WJM1|UniRef50_A0A0M6WJM1|144\n",
      "Sequence: ATGAATATCGGATTAATTATTTTTGCAATTATTGGATCAATTATTGGTCTTGCCTCTACATTTTACATTGTGATCTCCATGTTTTGGATTCTTGGTGTTAAGATTGTGCGCAGGATCAAACATGGCACTCCACTGTATGATTAA\n",
      "\n",
      "Последовательность номер 41:\n",
      "ID: 360807__A0A0M6WNZ8__ERS852392_01696|k__Bacteria.p__Firmicutes.c__Clostridia.o__Clostridiales.f__Lachnospiraceae.g__Roseburia.s__Roseburia_inulinivorans|UniRef90_A0A0M6WNZ8|UniRef50_A0A0M6WNZ8|138\n",
      "Sequence: ATGACAGAAGGCGGTTTTTTAGTTTTCATGGGAATTTTATTACTTTTGGTTGTCATCGTTGTTGTGATAGCGGTTGTTTCATCTGTGGCAGGTGCGGCAGCAGCGATCGTTGATGATGAAGACAGCGAAGATGAATAG\n",
      "\n",
      "Последовательность номер 42:\n",
      "ID: 360807__A0A174B3E3__ERS852392_01749|k__Bacteria.p__Firmicutes.c__Clostridia.o__Clostridiales.f__Lachnospiraceae.g__Roseburia.s__Roseburia_inulinivorans|UniRef90_A0A174B3E3|UniRef50_C0B517|138\n",
      "Sequence: ATGGAAAAGGAAAAAATAGGAAAGTATATTAGAAAGAAGCGCATAGAAAAAGGTATGACACAACAGCAGCTGGCGGAGAAAATTCAGGTGACAGAGAAAGCTGTTTCACGGTGGGAAACTGGAGTTTCCCAAAGTTAA\n",
      "\n",
      "Последовательность номер 43:\n",
      "ID: 360807__C0FPR4__ERS852392_01777|k__Bacteria.p__Firmicutes.c__Clostridia.o__Clostridiales.f__Lachnospiraceae.g__Roseburia.s__Roseburia_inulinivorans|UniRef90_C0FPR4|UniRef50_C0FPR4|117\n",
      "Sequence: ATGAATTTTGTAAGGTTCTTGATGGAAAAAGATAAGGAAAAGCAGTTATCCGAATACATTTGGAATGGAATCAATACATTTTATAAAATATATGAAAATGAAACAATAAGAGGTTAG\n",
      "\n",
      "Последовательность номер 44:\n",
      "ID: 360807__A0A0M6WZM6__ERS852392_01778|k__Bacteria.p__Firmicutes.c__Clostridia.o__Clostridiales.f__Lachnospiraceae.g__Roseburia.s__Roseburia_inulinivorans|UniRef90_A0A0M6WZM6|UniRef50_A0A0M6WZM6|141\n",
      "Sequence: ATGGTAGAAGAAAAATTTTTAATTGATTCCAATTCATTTATGACACCATACAGACAATATTATGCATTTGATTTAGTGCCGACCTATTGGAAGGAATTAGCGAAACGTCTGGATACCGGAAGAATGATGATACAATCATAA\n",
      "\n",
      "Последовательность номер 45:\n",
      "ID: 360807__A0A0M6WN35__ERS852392_02020|k__Bacteria.p__Firmicutes.c__Clostridia.o__Clostridiales.f__Lachnospiraceae.g__Roseburia.s__Roseburia_inulinivorans|UniRef90_A0A0M6WN35|UniRef50_A6BG19|108\n",
      "Sequence: ATGAAGGGATATGTGATCGAAGCAGGCTATATGGGATATGTGGACGGAGCGTACATGCTTTTTGCAGATGAAGAAGATTATCAGGAATATTTTAGAGAGTGGCATTGA\n",
      "\n",
      "Последовательность номер 46:\n",
      "ID: 360807__A0A174CE88__ERS852392_02174|k__Bacteria.p__Firmicutes.c__Clostridia.o__Clostridiales.f__Lachnospiraceae.g__Roseburia.s__Roseburia_inulinivorans|UniRef90_A0A174CE88|UniRef50_A0A174CE88|123\n",
      "Sequence: ATGAGTGAATCAAAGGTATGTTTTAGGTGGAAACATGGACAGAAAATAACAGCAAATGATCTTGTACTTGCACTGAATGAGGCATATGGATTAGGGATGGATACGGATAATATTTTCAGCTGA\n",
      "\n",
      "Последовательность номер 47:\n",
      "ID: 360807__A0A174CEL9__ERS852392_02177|k__Bacteria.p__Firmicutes.c__Clostridia.o__Clostridiales.f__Lachnospiraceae.g__Roseburia.s__Roseburia_inulinivorans|UniRef90_A0A174CEL9|UniRef50_A0A174CEL9|111\n",
      "Sequence: ATGGAAGAAAAAGTTGTAGTTGAATTTATCAATGATATGAAACAGGAGAGAAAAAGTGACAAATTTTATATACATTTTCATGATTATAGCACTTATAGGGATAGGTGTTGA\n",
      "\n",
      "Последовательность номер 48:\n",
      "ID: 360807__A0A173V7M2__ERS852392_02317|k__Bacteria.p__Firmicutes.c__Clostridia.o__Clostridiales.f__Lachnospiraceae.g__Roseburia.s__Roseburia_inulinivorans|UniRef90_A0A173V7M2|UniRef50_A0A173V7M2|102\n",
      "Sequence: ATGTTTGAGATGAAACCAGAGTATTACATTGGAATAAAAATGATTGATGAACAACATAAACAGTTGTTTACATATGCGGATGAAGCATATAGCAGATTATGA\n",
      "\n",
      "Последовательность номер 49:\n",
      "ID: 360807__A0A0M6WDB6__ERS852392_02331|k__Bacteria.p__Firmicutes.c__Clostridia.o__Clostridiales.f__Lachnospiraceae.g__Roseburia.s__Roseburia_inulinivorans|UniRef90_A0A0M6WDB6|UniRef50_R5A4M5|147\n",
      "Sequence: ATGAATATCAAAAAACGCTCTGTCACAGGTATCTTACTTTTAGCTATCGGGGTTTTATTTATTTTAAATGGAATCCATCGAAATGAGCATACCACTGTACAGAATAAGTCAAATATCATCTGTCTGGAATGCATTGGCATCGGATAA\n",
      "\n",
      "Последовательность номер 50:\n",
      "ID: 360807__A0A173RPI8__ERS852392_02514|k__Bacteria.p__Firmicutes.c__Clostridia.o__Clostridiales.f__Lachnospiraceae.g__Roseburia.s__Roseburia_inulinivorans|UniRef90_A0A173RPI8|UniRef50_A0A173RPI8|123\n",
      "Sequence: ATGAAAACAGGAAATTTGCTCTGTCGGGGTTTGCGGGAAACGAAAGAAAATGGTATGATAAAGATACTTGGAAACAGAAATAAAGGGGAAGTTTTATGGTTACATACAGAATCAGAAAAATGA\n",
      "\n",
      "Последовательность номер 51:\n",
      "ID: 360807__R5HIE3__ERS852392_02543|k__Bacteria.p__Firmicutes.c__Clostridia.o__Clostridiales.f__Lachnospiraceae.g__Roseburia.s__Roseburia_inulinivorans|UniRef90_R5HIE3|UniRef50_R5HIE3|150\n",
      "Sequence: ATGGGTGAATTATCACTTAGTGTAGAGTCTCTTTTTGGTTTACATAGCAGAATAATGCAACTTACCTATCTTAAAACGCATCTTACCGCATCCCCTGTAGATTTCCAAAACAGATTATGTTATACCATGATCAGAGAGAAAAAGCGGTAA\n",
      "\n",
      "Последовательность номер 54:\n",
      "ID: 360807__A0A0M6WW08__ERS852392_02759|k__Bacteria.p__Firmicutes.c__Clostridia.o__Clostridiales.f__Lachnospiraceae.g__Roseburia.s__Roseburia_inulinivorans|UniRef90_A0A0M6WW08|UniRef50_G5FD51|105\n",
      "Sequence: ATGTATAATTTTGGTAAGAAAAAAAATCAAAAATTAATGGCTGCAATTGTGATCATTGTAGTCGCTGCAATGCTTATTACAACCGTGCTTGCCGCTTTCATGTAA\n",
      "\n",
      "Последовательность номер 55:\n",
      "ID: 360807__A0A174E2V1__ERS852392_02774|k__Bacteria.p__Firmicutes.c__Clostridia.o__Clostridiales.f__Lachnospiraceae.g__Roseburia.s__Roseburia_inulinivorans|UniRef90_A0A174E2V1|UniRef50_A0A174E2V1|111\n",
      "Sequence: ATGAAACACACAGGATTAAGCACACAGAAAAATCATATGATGTGTTGTTGCTGTTGTCAGGCTGTATGTATGAGTACGGTTTATTTTTTATATGCATTGTGTACCCGCTAA\n",
      "\n",
      "Последовательность номер 56:\n",
      "ID: 360807__A0A174E538__ERS852392_02797|k__Bacteria.p__Firmicutes.c__Clostridia.o__Clostridiales.f__Lachnospiraceae.g__Roseburia.s__Roseburia_inulinivorans|UniRef90_A0A174E538|UniRef50_A0A174E538|147\n",
      "Sequence: ATGAAAACATTTTTTAAAAAATTTTTATTGACATTAATTCTTATTACTATTTTTAACTTTAACCCGAATGTATTTACTAATTCATCTTTGCCTTCGACATGTCAATTAGAAGACTATTCAGATGCTGGTATCCTTTTACGTCCCTAA\n",
      "\n",
      "Последовательность номер 57:\n",
      "ID: 360807__A0A174E4W6__ERS852392_02798|k__Bacteria.p__Firmicutes.c__Clostridia.o__Clostridiales.f__Lachnospiraceae.g__Roseburia.s__Roseburia_inulinivorans|UniRef90_A0A174E4W6|UniRef50_A0A174E4W6|102\n",
      "Sequence: ATGGCTGAACTTGGAAAGGAATTAAAAAAATATATTAAGAGAAATGTAGAGAGCATACATGTAGCATGCCCAGGTGGTTCACCGTATAGACCAGTATTTTAA\n",
      "\n",
      "Последовательность номер 58:\n",
      "ID: 360807__A0A0M6WY83__ERS852392_02875|k__Bacteria.p__Firmicutes.c__Clostridia.o__Clostridiales.f__Lachnospiraceae.g__Roseburia.s__Roseburia_inulinivorans|UniRef90_A0A0M6WY83|UniRef50_A0A0M6WY83|129\n",
      "Sequence: ATGGATGAGAAAAAACAGGTAAAAAATTTACCAGAGGAAACAGAGTTACAAATTGAAAATGCGAACATTGACATTAATAAGGAAGAAGAAAATCCAGGTATCGCATATGAAGTTGTTATTGGTCCATAG\n",
      "\n",
      "Последовательность номер 59:\n",
      "ID: 360807__A0A174E9K2__ERS852392_02879|k__Bacteria.p__Firmicutes.c__Clostridia.o__Clostridiales.f__Lachnospiraceae.g__Roseburia.s__Roseburia_inulinivorans|UniRef90_A0A174E9K2|UniRef50_A0A174E9K2|150\n",
      "Sequence: ATGAAGAAAAATCTGAAAAACAAAATCAAAAAGATGGTTGCAGGAATGATGCTTGCCTGTTCACTGCTTACATTGTTTGGTGGAGTAAGCAGTGATGGGATTGTGCCTTATGGAGAAACTGTAATTGATGGGGTTCAATGGATTGCCTAA\n",
      "\n",
      "Последовательность номер 60:\n",
      "ID: 360807__A0A174EH49__ERS852392_02923|k__Bacteria.p__Firmicutes.c__Clostridia.o__Clostridiales.f__Lachnospiraceae.g__Roseburia.s__Roseburia_inulinivorans|UniRef90_A0A174EH49|UniRef50_A0A174EH49|102\n",
      "Sequence: ATGCTGGTTCTGGCGTTTTTTTTGTTTGCACGTTTTGATAGGAAAAATAAGATGTATGAGCAACGGCAATACTGCACTAGAACATTTATGGCAGAAAACTGA\n",
      "\n",
      "Последовательность номер 61:\n",
      "ID: 360807__A0A174EWV5__ERS852392_03075|k__Bacteria.p__Firmicutes.c__Clostridia.o__Clostridiales.f__Lachnospiraceae.g__Roseburia.s__Roseburia_inulinivorans|UniRef90_A0A174EWV5|UniRef50_A0A174EWV5|132\n",
      "Sequence: ATGAGCAGTGTTCATAATGTGAGGAATAAATTTGACTGCTTGCAGGCAATAATTTATTCCTTATATTATGAAGAGGGCGAATGCCCGACAGCCTGGAAAATCGCAGATTTTCCAGGCTACACTGCGGAGTAA\n",
      "\n",
      "Последовательность номер 62:\n",
      "ID: 360807__A0A0M6WYY5__ERS852392_03108|k__Bacteria.p__Firmicutes.c__Clostridia.o__Clostridiales.f__Lachnospiraceae.g__Roseburia.s__Roseburia_inulinivorans|UniRef90_A0A0M6WYY5|UniRef50_A0A0M6WYY5|147\n",
      "Sequence: ATGAAAATGCTGAAGTCGGGGAAAAGATCAGGATTACCCCATGTTAATATGATAGAGATAAAGGGACATTTTGGGACAGAGTTAACTCGAAATAGAATGTCTGTAATGTACAATGAAAATCGTGAAAAGGAAATGACAATATCATAG\n",
      "\n",
      "Последовательность номер 63:\n",
      "ID: 360807__A0A173VTL0__ERS852392_03127|k__Bacteria.p__Firmicutes.c__Clostridia.o__Clostridiales.f__Lachnospiraceae.g__Roseburia.s__Roseburia_inulinivorans|UniRef90_A0A173VTL0|UniRef50_A0A173VTL0|102\n",
      "Sequence: ATGGGCAAAAATTTCGCTTATCTTGTAAGTGAGAAATTTGCTACTTCTGATAATGATGAAAACTTTTTAAGTGAAGAATTTTCTAATGATTTGTCAGAATAA\n",
      "\n",
      "Последовательность номер 67:\n",
      "ID: 360807__A0A173RHS4__ERS852444_00395|k__Bacteria.p__Firmicutes.c__Clostridia.o__Clostridiales.f__Lachnospiraceae.g__Roseburia.s__Roseburia_inulinivorans|UniRef90_A0A173RHS4|UniRef50_A0A173RHS4|102\n",
      "Sequence: ATGGAAGTTATTACTAAAATGCAACCTATCAGCACACTGACAAATAATATGGCACGCATTGACATTGTTGTAAATATTGTGGCTGGATGCGGTTGTAAATAA\n",
      "\n",
      "Последовательность номер 69:\n",
      "ID: 360807__C0FNH1__ERS852444_00991|k__Bacteria.p__Firmicutes.c__Clostridia.o__Clostridiales.f__Lachnospiraceae.g__Roseburia.s__Roseburia_inulinivorans|UniRef90_C0FNH1|UniRef50_C0FNH1|132\n",
      "Sequence: ATGTTAAAATTGTTAGTTTACCTTATGTTTTTTCCTATTATTATTGCATTTAAAATGATGGGCTGGATTGTAAAAGGAATTTTGGGAATCTTTAAAATGATTGGCGTAGCGGATTTCTTCTGGAAATTATAA\n",
      "\n",
      "Последовательность номер 72:\n",
      "ID: 360807__A0A173ST89__ERS852444_01137|k__Bacteria.p__Firmicutes.c__Clostridia.o__Clostridiales.f__Lachnospiraceae.g__Roseburia.s__Roseburia_inulinivorans|UniRef90_A0A173ST89|UniRef50_A0A173ST89|105\n",
      "Sequence: ATGGCAAAGAAGAATAACGGAAAAGACTTTCTATTTTCCGATGACTGCGGATTTATAAATGGTGCTGATGGCAACGCTGAATACATATGCGCATGTAAATCTTGA\n",
      "\n",
      "Последовательность номер 73:\n",
      "ID: 360807__A0A173T8B1__ERS852444_01359|k__Bacteria.p__Firmicutes.c__Clostridia.o__Clostridiales.f__Lachnospiraceae.g__Roseburia.s__Roseburia_inulinivorans|UniRef90_A0A173T8B1|UniRef50_A0A173T8B1|135\n",
      "Sequence: ATGTGTGAAGCATTAAAAGAATTGTTTGCGGACGACCTGCGTGAATCAAGGGAACAGGGCATCATCGAAGGCAGGATCGAGGGCAGGAATGCCGGCAGGATTGAGGGTAGAATCGAAGGCAGATATTACCTGTAA\n",
      "\n",
      "Последовательность номер 74:\n",
      "ID: 360807__A0A173TMK1__ERS852444_01617|k__Bacteria.p__Firmicutes.c__Clostridia.o__Clostridiales.f__Lachnospiraceae.g__Roseburia.s__Roseburia_inulinivorans|UniRef90_A0A173TMK1|UniRef50_A0A173TMK1|147\n",
      "Sequence: ATGGGGACTTTTTGTGATTATAATGGAAACATGACAATTCCGGACGAATTCAAAGACGAATTTAATGAGAATATGATAAAAATTCTTCAGAGGGGCGGAATGATGCAGTTTAAAATGTACACATGTATGGGAAGGAAATTCATCTGA\n",
      "\n",
      "Последовательность номер 75:\n",
      "ID: 360807__A0A173UNF2__ERS852444_02141|k__Bacteria.p__Firmicutes.c__Clostridia.o__Clostridiales.f__Lachnospiraceae.g__Roseburia.s__Roseburia_inulinivorans|UniRef90_A0A173UNF2|UniRef50_D4KVQ6|129\n",
      "Sequence: ATGAAAATCATAGGAATCGTCGTAAGCATTATAACGGGTGCTCTGCTTCTTATGGCTCTAGCAGCCTGTATTGCAGTTGTCAGGGCTGAGGAATGTATGAGAGCAATAGAAGAAATGAAAAGATTATAG\n",
      "\n",
      "Последовательность номер 76:\n",
      "ID: 360807__A0A173UQC6__ERS852444_02171|k__Bacteria.p__Firmicutes.c__Clostridia.o__Clostridiales.f__Lachnospiraceae.g__Roseburia.s__Roseburia_inulinivorans|UniRef90_A0A173UQC6|UniRef50_A0A173UQC6|123\n",
      "Sequence: ATGAAAAGAGAAGTGCTTCAGGTGTTAGCAAAAGTGGCGAATAGTGCTGCGAAGAGAGCAGATGGTAGAGCTTCTGAGTTTGGAATGCATCAGCCGAAGAGACCGAAGAAAAACAAAAAATAG\n",
      "\n",
      "Последовательность номер 78:\n",
      "ID: 360807__A0A173V590__ERS852444_02445|k__Bacteria.p__Firmicutes.c__Clostridia.o__Clostridiales.f__Lachnospiraceae.g__Roseburia.s__Roseburia_inulinivorans|UniRef90_A0A173V590|UniRef50_A0A0M6WN24|150\n",
      "Sequence: ATGGTGATTAAATTGAAAGTTGTAAAAATGATGGCTGATATTGTATATCGAATGGCAGAAAAAAGTGTTGATGAAGCTTCTGCATGGTATGAATATCAACCGGAAGTACCAGAAAAATTAAAACAGAGAAATAGTTGCAAACAATCATAG\n",
      "\n",
      "Последовательность номер 79:\n",
      "ID: 360807__A0A173V845__ERS852444_02534|k__Bacteria.p__Firmicutes.c__Clostridia.o__Clostridiales.f__Lachnospiraceae.g__Roseburia.s__Roseburia_inulinivorans|UniRef90_A0A173V845|UniRef50_A0A2X1LFW1|102\n",
      "Sequence: ATGATAACACTGACGGAACTTATTCAGTTCACTAGTTTATTGATAAGCGTTGCCGGATTATTTTACCTCATCGGGAAAGATAATCACGGCAGAAAAAAATAA\n",
      "\n",
      "Последовательность номер 80:\n",
      "ID: 360807__A0A173V922__ERS852444_02695|k__Bacteria.p__Firmicutes.c__Clostridia.o__Clostridiales.f__Lachnospiraceae.g__Roseburia.s__Roseburia_inulinivorans|UniRef90_A0A173V922|UniRef50_A0A0M6WJP4|132\n",
      "Sequence: ATGAAAAAGAAAATTTTTGCTATCACATTATGTGCACTTATTGCAGCCGCTTCTATTGTTGGAAGTACAGGAGTTGTGGATAACTCTTATGAAGTTGCTTCTGCTTTCGGTCCTAGAGCTGGCGGATATTAA\n",
      "\n",
      "Последовательность номер 83:\n",
      "ID: 360807__C0FZT0__ERS852444_02922|k__Bacteria.p__Firmicutes.c__Clostridia.o__Clostridiales.f__Lachnospiraceae.g__Roseburia.s__Roseburia_inulinivorans|UniRef90_C0FZT0|UniRef50_C0FZT0|141\n",
      "Sequence: ATGGATACGATTTCAGAAAAAGACACACAAAGTGCAGATGATAAAAAGAAGGAGAAAATTTCTTGCATAGAGGCGATACCTGAATGGCAAGCTTTACGTCGGGAATATAGAAGTCAATTACTTGCGCATTGTGTCGGATAG\n",
      "\n",
      "Последовательность номер 85:\n",
      "ID: 360807__A0A173VKI3__ERS852444_03084|k__Bacteria.p__Firmicutes.c__Clostridia.o__Clostridiales.f__Lachnospiraceae.g__Roseburia.s__Roseburia_inulinivorans|UniRef90_A0A173VKI3|UniRef50_A0A227LTR1|150\n",
      "Sequence: ATGAAAAAAACAGAAAAAAGAATAGTATTGGCAAATGCCATGTCAAGTATAGCAAAATTTTCAATAAGAGAAGCAGCTAATAGCAGATGTGCATTTGTTTTTCATCAACCTAAACAACCATGTGACTTAAAAAAATATAGAAAATTTTAG\n",
      "\n",
      "Последовательность номер 89:\n",
      "ID: 360807__A0A173VXF0__ERS852444_03500|k__Bacteria.p__Firmicutes.c__Clostridia.o__Clostridiales.f__Lachnospiraceae.g__Roseburia.s__Roseburia_inulinivorans|UniRef90_A0A173VXF0|UniRef50_S0ISY1|150\n",
      "Sequence: ATGAAAGAAATAGATGAAAGATTATTGAATACATTAACCTTCGAAGTCCTTAGCGCAGAACGCAGAAACCTCAGAAGCAAAGCATTGACAGACCAGAAAATGTCGGAGGAGATACAAAAAATAATTATTGATAACTTAAGAACAAGGTAG\n",
      "\n",
      "Последовательность номер 90:\n",
      "ID: 360807__A0A173VVZ7__ERS852444_03601|k__Bacteria.p__Firmicutes.c__Clostridia.o__Clostridiales.f__Lachnospiraceae.g__Roseburia.s__Roseburia_inulinivorans|UniRef90_A0A173VVZ7|UniRef50_A0A173VVZ7|135\n",
      "Sequence: ATGAATTTACAGCGAAAACCGTTAGAATTTTATAATCTGATCAAGAAAAAAGTAAACGATGAAGAGGTATTTCATAGTTTTTCGATGGATGATAAAAATGGAAATTGCAACACCATTTTATCATATAGTAGATAG\n",
      "\n",
      "Последовательность номер 91:\n",
      "ID: 360807__A0A173VXG2__ERS852444_03605|k__Bacteria.p__Firmicutes.c__Clostridia.o__Clostridiales.f__Lachnospiraceae.g__Roseburia.s__Roseburia_inulinivorans|UniRef90_A0A173VXG2|UniRef50_H3NQI3|132\n",
      "Sequence: ATGCAGGAAAGTCAGTTTTTAGAGCGTATATGGGAGAAGTACAAGGAAGAAAATACATACAGCGAAGGAATCGCATTTGCTGATACATTAGATATTGTATCGTGGATCGGCAGGGAACTGGAAAAGTATTGA\n",
      "\n",
      "Последовательность номер 103:\n",
      "ID: 360807__A0A0M6WCS8__RIL183_13051|k__Bacteria.p__Firmicutes.c__Clostridia.o__Clostridiales.f__Lachnospiraceae.g__Roseburia.s__Roseburia_inulinivorans|UniRef90_A0A0M6WCS8|UniRef50_A0A0M6WCS8|135\n",
      "Sequence: ATGATGAATGCTGTTAGAGTATATTGGAAATATAGCTTTAGAGGCAAAATTTTCATTGAAGCACGAAAAATGTTTTATAGAACGGAATGGAGAAGGGAGTTAGATTATGAAAAAGAAGAAGTATCTTCAAATTGA\n",
      "\n",
      "Последовательность номер 104:\n",
      "ID: 360807__A0A0M6WJP4__RIL183_19231|k__Bacteria.p__Firmicutes.c__Clostridia.o__Clostridiales.f__Lachnospiraceae.g__Roseburia.s__Roseburia_inulinivorans|UniRef90_A0A0M6WJP4|UniRef50_A0A0M6WJP4|132\n",
      "Sequence: ATGAAAAAGAAAATTTTTGCTATCACATTATGTGCACTTATTGCAGCCGCTTCTATTGTTGGAAGTACAGGAGTTGTGGATAACTCGAATGTAGCTGCTTCTGTTCTTGGTCCTATGGTAGGTGGTTATTAA\n",
      "\n",
      "Последовательность номер 105:\n",
      "ID: 360807__A0A0M6WIP7__RIL183_19691|k__Bacteria.p__Firmicutes.c__Clostridia.o__Clostridiales.f__Lachnospiraceae.g__Roseburia.s__Roseburia_inulinivorans|UniRef90_A0A0M6WIP7|UniRef50_A0A0M6WIP7|129\n",
      "Sequence: ATGTGTGAAGCATTAAAAGAATTGTTTGCGGACGACCTGCGTGAATCAAGGGAACAGGGCATCATCGAAGGCAGGATCGAGGGCAGGAATGCCGGCAGGATTGAGGGTAGAATCGAAGGCAGATGTTAA\n",
      "\n",
      "Последовательность номер 106:\n",
      "ID: 360807__A0A0M6WMA1__RIL183_22101|k__Bacteria.p__Firmicutes.c__Clostridia.o__Clostridiales.f__Lachnospiraceae.g__Roseburia.s__Roseburia_inulinivorans|UniRef90_A0A0M6WMA1|UniRef50_A0A0M6WMA1|147\n",
      "Sequence: ATGTATTACAATACATTGGTAAAAGTGGTGAGCATGGATGTGGAAACCATAGCTGTCATTAAGAAGAATAGCAAAAATAACAATACGAAAGGATGTGTCAGGGTAATGGAAGAATTATCGGGATATATCCTTTTGTATTTGGATTGA\n",
      "\n",
      "Последовательность номер 107:\n",
      "ID: 360807__A0A0M6WMC8__RIL183_22261|k__Bacteria.p__Firmicutes.c__Clostridia.o__Clostridiales.f__Lachnospiraceae.g__Roseburia.s__Roseburia_inulinivorans|UniRef90_A0A0M6WMC8|UniRef50_A0A0M6WMC8|123\n",
      "Sequence: ATGCAGTCGAAAGAGATAGAGCAGCTTGATTCTGAGTTTGAAAAATGCCAGAGAATACTCATTGCGCTTGGCGATGAAAACAGGCTTCACATGATTCCGGAAAAGATGAATAAAACCGCATAA\n",
      "\n",
      "Последовательность номер 108:\n",
      "ID: 360807__A0A0M6WPU2__RIL183_23981|k__Bacteria.p__Firmicutes.c__Clostridia.o__Clostridiales.f__Lachnospiraceae.g__Roseburia.s__Roseburia_inulinivorans|UniRef90_A0A0M6WPU2|UniRef50_A0A0M6WPU2|147\n",
      "Sequence: ATGAAAAAATTTCAAAAATTAATATTTACACTTTGTCTTACACTATTTTCACTTAATATCTTGTTATCATTTTCTTCAAAAAAATATGAAGATATTCCCTGTCCAACTCGTATCGAAAATGATGTTGATATAAATGAAATAGCCTAA\n",
      "\n",
      "Последовательность номер 109:\n",
      "ID: 360807__A0A0M6WT72__RIL183_26281|k__Bacteria.p__Firmicutes.c__Clostridia.o__Clostridiales.f__Lachnospiraceae.g__Roseburia.s__Roseburia_inulinivorans|UniRef90_A0A0M6WT72|UniRef50_A0A0M6WT72|108\n",
      "Sequence: ATGATCAGCTGTTTTTTGATTTCGTTTTTAATTTCACAGCTCATAAATCAGGGCATTATTTCAGTAAAAGCACATTCTAAAGAAGGGGAGATTTTAAATAAAAAATAA\n",
      "\n",
      "Последовательность номер 114:\n",
      "ID: 360807__A0A0M6WWX8__RIL183_30821|k__Bacteria.p__Firmicutes.c__Clostridia.o__Clostridiales.f__Lachnospiraceae.g__Roseburia.s__Roseburia_inulinivorans|UniRef90_A0A0M6WWX8|UniRef50_A0A174E9K2|147\n",
      "Sequence: ATGAAGAAAAATCTGAAAAACAAAATCAAAAAGATGGTTGCAGGAATGATGCTTGCCTGTTCACTGCTTACATTGTTTGGTGGAGTAAGCAGTGAAGGGATTGCAACGTGTGGTGAAGTTGTGATTGAGAATGAAATTACAAATTAG\n",
      "\n",
      "Последовательность номер 115:\n",
      "ID: 360807__C0FUC5__RIL183_30921|k__Bacteria.p__Firmicutes.c__Clostridia.o__Clostridiales.f__Lachnospiraceae.g__Roseburia.s__Roseburia_inulinivorans|UniRef90_C0FUC5|UniRef50_C0FUC5|135\n",
      "Sequence: ATGTTAAAAGTGCGAAATCAGCTTGCGCATGATTATGATGGAAGTTTTGCATGCGAGATGTTTGCGGATATTGTGAATGTGTACTGTCCGTTGTTCGAGAAATTCCGTGACAGCGCAGCAAAATATTATGAGTAA\n",
      "\n",
      "Последовательность номер 116:\n",
      "ID: 360807__A0A0M6WX48__RIL183_31321|k__Bacteria.p__Firmicutes.c__Clostridia.o__Clostridiales.f__Lachnospiraceae.g__Roseburia.s__Roseburia_inulinivorans|UniRef90_A0A0M6WX48|UniRef50_A0A0M6WX48|117\n",
      "Sequence: ATGAATTTTGTAAGGTTCTTGATGGAAAAAGATAAGGAAAAGCAGTTATCCGAATACATTAGGAATGGAATCAATACATTTTATAAAATATATGAAAATGAAACAATAAGAGGTTAG\n",
      "\n",
      "Последовательность номер 120:\n",
      "ID: 360807__A0A0M6X1B3__RIL183_34411|k__Bacteria.p__Firmicutes.c__Clostridia.o__Clostridiales.f__Lachnospiraceae.g__Roseburia.s__Roseburia_inulinivorans|UniRef90_A0A0M6X1B3|UniRef50_A0A0M6X1B3|114\n",
      "Sequence: ATGGCACGAATCAAGAATATGAAGACGATTGATTTGAAGATTGCTGAAAATGAGGAAAATCTTAGGAAGTTAGCACTGATATGCTTTTTTTCAATTTATCAAAATCTACTATAA\n",
      "\n",
      "Последовательность номер 122:\n",
      "ID: 360807__C0FMR0__ROSEINA2194_00003|k__Bacteria.p__Firmicutes.c__Clostridia.o__Clostridiales.f__Lachnospiraceae.g__Roseburia.s__Roseburia_inulinivorans|UniRef90_C0FMR0|UniRef50_C0FMR0|144\n",
      "Sequence: GTGTCTGTTTATGAAAATAAATTAAAAGAATGCTTACAAAATGGAGTGATAGAAGAAAGCAGGCTTTTACCAGACGTATATGTAGCTAAAAATTATGATATGGAAAAAGGACTGCTCAATGAACTTGTATTACAATATTATTGA\n",
      "\n",
      "Последовательность номер 124:\n",
      "ID: 360807__C0FN09__ROSEINA2194_00104|k__Bacteria.p__Firmicutes.c__Clostridia.o__Clostridiales.f__Lachnospiraceae.g__Roseburia.s__Roseburia_inulinivorans|UniRef90_C0FN09|UniRef50_C0FN09|132\n",
      "Sequence: TTGTATTTCCATATTTTCACATTCACCTTTCTCATTAATGGATTAATTTTAACAAAAATATTTTCCCAATGCAACTCCCCTCAACAGCAGAAAACAGAACAAAAAAGAACTGCTATGTTTTCAAAATTATAA\n",
      "\n",
      "Последовательность номер 125:\n",
      "ID: 360807__C0FN12__ROSEINA2194_00106|k__Bacteria.p__Firmicutes.c__Clostridia.o__Clostridiales.f__Lachnospiraceae.g__Roseburia.s__Roseburia_inulinivorans|UniRef90_C0FN12|UniRef50_C0FN12|126\n",
      "Sequence: GTGTTATCCACTGTCATTTTGACGAATAGCAGAAACGTCCGGATTCGCTTTTTTCTTCTGTTTCTGATAAAATCATACTATCAGAAACAGAGAAGGGAGGCGGTCATGAATGGGCGGAAATTATGA\n",
      "\n",
      "Последовательность номер 127:\n",
      "ID: 360807__C0FN26__ROSEINA2194_00120|k__Bacteria.p__Firmicutes.c__Clostridia.o__Clostridiales.f__Lachnospiraceae.g__Roseburia.s__Roseburia_inulinivorans|UniRef90_C0FN26|UniRef50_C0FN26|129\n",
      "Sequence: TTGCCAGATTGCAGCAGAACAGATAGGATATACACAGGAAGTCGTTGCTTTAATAGCAGATTATTTGGAAAAGAATTTATAAAAAAAAAGAAGAGAATGGATATAATAGATACAATAGTTATGGATTGA\n",
      "\n",
      "Последовательность номер 128:\n",
      "ID: 360807__C0FN29__ROSEINA2194_00123|k__Bacteria.p__Firmicutes.c__Clostridia.o__Clostridiales.f__Lachnospiraceae.g__Roseburia.s__Roseburia_inulinivorans|UniRef90_C0FN29|UniRef50_C0FN29|126\n",
      "Sequence: GTGATTTTTTGTATAACAAAACAAGCTAAAGCTCATAAAAAAAGAGAAAAAGAGAAGTCGTTAGACTTTGGCTTTTTCTCTATGATCATTTTTTTCACTTATTCTTTACAATTTCATTTTTCCTGA\n",
      "\n",
      "Последовательность номер 131:\n",
      "ID: 360807__C0FNA7__ROSEINA2194_00201|k__Bacteria.p__Firmicutes.c__Clostridia.o__Clostridiales.f__Lachnospiraceae.g__Roseburia.s__Roseburia_inulinivorans|UniRef90_C0FNA7|UniRef50_C0FNA7|150\n",
      "Sequence: ATGTGTATTGCCGGAAGAAAAACAAGAAATCATACCACCACAAAATCAGATGTCTTTCTTGCAAGCATTGCCAGCCAGCTGACTTTCATCGTTGCTTATGCAATTAATTGTCCACAATGCATTCGAAGCCTAAAACCTTTAATTGCCTGA\n",
      "\n",
      "Последовательность номер 132:\n",
      "ID: 360807__C0FNB9__ROSEINA2194_00213|k__Bacteria.p__Firmicutes.c__Clostridia.o__Clostridiales.f__Lachnospiraceae.g__Roseburia.s__Roseburia_inulinivorans|UniRef90_C0FNB9|UniRef50_C0FNB9|135\n",
      "Sequence: ATGAAAAAGCAAAAACACCTTCCGGATTTTACCAGACTCTGCAAACCGGAGCAGAATACAATACAAAATATTCTCTCACTTATGATTTTTTCTTTTTCACAGGCTCTGTCTGCGGTTATGTGTGGGAGGTTCTGA\n",
      "\n",
      "Последовательность номер 133:\n",
      "ID: 360807__C0FNC2__ROSEINA2194_00216|k__Bacteria.p__Firmicutes.c__Clostridia.o__Clostridiales.f__Lachnospiraceae.g__Roseburia.s__Roseburia_inulinivorans|UniRef90_C0FNC2|UniRef50_D4KSV8|141\n",
      "Sequence: ATGTTTGAATTAGATAAAAAATTCGTGAAATTTAAACTATTATACGAAGAAAAAGAATATGCTATTATAATCACACGACGTGCAGCCGAACAGCGATCGCAGAGATTGTTGTCCGGCTGCATTTTTGTCTGTGAAAAATAA\n",
      "\n",
      "Последовательность номер 134:\n",
      "ID: 360807__C0FND6__ROSEINA2194_00231|k__Bacteria.p__Firmicutes.c__Clostridia.o__Clostridiales.f__Lachnospiraceae.g__Roseburia.s__Roseburia_inulinivorans|UniRef90_C0FND6|UniRef50_C0FND6|126\n",
      "Sequence: TTGAGGAGAAAAAATGAAAACGTAGTACACATTATAATCCATAATGTACTGACAGAATTGACAAAAGATACTTCCAAGATGGATGGTTTTATTGAAGAATATAATAGATCGCATGCAGAAGAATAA\n",
      "\n",
      "Последовательность номер 135:\n",
      "ID: 360807__C0FNF1__ROSEINA2194_00246|k__Bacteria.p__Firmicutes.c__Clostridia.o__Clostridiales.f__Lachnospiraceae.g__Roseburia.s__Roseburia_inulinivorans|UniRef90_C0FNF1|UniRef50_C0FNF1|147\n",
      "Sequence: TTGGAGCGTGCGGGAATCCATGCGGAGGTACTGCACGAAGAGCCGTTTACGACCGCAAAGGATACGCTGGATTTTCATGTGTATGTCATGCAATTGAAAAAAGGCGTAATAAACAGAAAAGTTTTGATCGAGGAAATTTCAGAATAA\n",
      "\n",
      "Последовательность номер 135:\n",
      "ID: 360807__C0FNF1__ROSEINA2194_00246|k__Bacteria.p__Firmicutes.c__Clostridia.o__Clostridiales.f__Lachnospiraceae.g__Roseburia.s__Roseburia_inulinivorans|UniRef90_C0FNF1|UniRef50_C0FNF1|147\n",
      "Sequence: TTGGAGCGTGCGGGAATCCATGCGGAGGTACTGCACGAAGAGCCGTTTACGACCGCAAAGGATACGCTGGATTTTCATGTGTATGTCATGCAATTGAAAAAAGGCGTAATAAACAGAAAAGTTTTGATCGAGGAAATTTCAGAATAA\n",
      "\n",
      "Последовательность номер 136:\n",
      "ID: 360807__C0FNL2__ROSEINA2194_00311|k__Bacteria.p__Firmicutes.c__Clostridia.o__Clostridiales.f__Lachnospiraceae.g__Roseburia.s__Roseburia_inulinivorans|UniRef90_C0FNL2|UniRef50_C0FNL2|141\n",
      "Sequence: TTGATTCCTGGTAAACAAAAATACTTGCAACTGTCATACATCAATGCTATACTAAAGCAAAGTTTAAAGGAAAATTGTTATGCTGTAAAAAGAAAAAACAGCGATCATGATGGAGGAAGAGATTATGTTCAAAGTAAATGA\n",
      "\n",
      "Последовательность номер 137:\n",
      "ID: 360807__C0FNU1__ROSEINA2194_00390|k__Bacteria.p__Firmicutes.c__Clostridia.o__Clostridiales.f__Lachnospiraceae.g__Roseburia.s__Roseburia_inulinivorans|UniRef90_C0FNU1|UniRef50_C0FNU1|141\n",
      "Sequence: ATGATACAATATTGTAAACGCTGCTGTCTGCCGAGTACAAAACCACATTTGTCATTTGATGAAGAAGGAATTTGTAATGCATGCAGAAATTATGAAAATCGAAAGAATGTAGATTGGGACGAACGAAAAAAGAATTATTAG\n",
      "\n",
      "Последовательность номер 138:\n",
      "ID: 360807__C0FNZ0__ROSEINA2194_00439|k__Bacteria.p__Firmicutes.c__Clostridia.o__Clostridiales.f__Lachnospiraceae.g__Roseburia.s__Roseburia_inulinivorans|UniRef90_C0FNZ0|UniRef50_C0FNZ0|129\n",
      "Sequence: ATGTGGAGTGTACGACGACTGGATTTTGCTTGGATATGGATGAAAAACAGGGAGTATTCGATTGCTTTTCATATTAACCCAGCTTTCTTTTTCATGGAAGCCGGGGTACATAGATCGTGCCGGATGTGA\n",
      "\n",
      "Последовательность номер 140:\n",
      "ID: 360807__C0FP34__ROSEINA2194_00486|k__Bacteria.p__Firmicutes.c__Clostridia.o__Clostridiales.f__Lachnospiraceae.g__Roseburia.s__Roseburia_inulinivorans|UniRef90_C0FP34|UniRef50_C0FP34|120\n",
      "Sequence: GTGTTCATCAAAGTTATACATATTTTACCATATTTTTCATGCTTATGGTATCCGAATTTACTGATTTTTCATATTTTCTTTGACTATTTCCAAGAAATACTATACAATGCAATCGTTTGA\n",
      "\n",
      "Последовательность номер 141:\n",
      "ID: 360807__C0FP56__ROSEINA2194_00507|k__Bacteria.p__Firmicutes.c__Clostridia.o__Clostridiales.f__Lachnospiraceae.g__Roseburia.s__Roseburia_inulinivorans|UniRef90_C0FP56|UniRef50_C0FP56|144\n",
      "Sequence: ATGAAATTTCTCCTTTTGAAAGTATATGGCAAAAAATCAGTAAAAAATAAAATAACAGCATATAAAAACAGTATGAATACTTATTTTAAAGTTATATCATGGAACTATAGAAAAAGTAAAGTTATTTACATGAGGAGAAGATAA\n",
      "\n",
      "Последовательность номер 142:\n",
      "ID: 360807__C0FP68__ROSEINA2194_00520|k__Bacteria.p__Firmicutes.c__Clostridia.o__Clostridiales.f__Lachnospiraceae.g__Roseburia.s__Roseburia_inulinivorans|UniRef90_C0FP68|UniRef50_C0FP68|123\n",
      "Sequence: TTGATATCCAAAAATGAGGATGGAACCATAGAAAACCTTGGTGAAAAATATGGAAACAAATCCAAAAAAGCTTTCGTAAGGAACATCTTGCAATCCGAAATGCAATGTCAGAGAAAGAGGTAG\n",
      "\n",
      "Последовательность номер 143:\n",
      "ID: 360807__C0FPB2__ROSEINA2194_00564|k__Bacteria.p__Firmicutes.c__Clostridia.o__Clostridiales.f__Lachnospiraceae.g__Roseburia.s__Roseburia_inulinivorans|UniRef90_C0FPB2|UniRef50_C0FPB2|123\n",
      "Sequence: ATGACGAATTTCATTTTTATCTGGCTTCCAGATTTTTATAACGCAGATATATTTTTTAAAATGAGCAGAATTGTACTTTTTCTGGTTAAAATAGTGCAAGTTTTTCAGGGAAAAATAATATAA\n",
      "\n",
      "Последовательность номер 144:\n",
      "ID: 360807__C0FPC0__ROSEINA2194_00572|k__Bacteria.p__Firmicutes.c__Clostridia.o__Clostridiales.f__Lachnospiraceae.g__Roseburia.s__Roseburia_inulinivorans|UniRef90_C0FPC0|UniRef50_C0FPC0|123\n",
      "Sequence: GTGGGTGGAGATTCGGAAATAATCAGAGGGTACCGTTCACCAGGCAGTAAAACACTTGCTGTTTTGCTGTGTAAGAAAATGGATTTTATGATAGTATCCGTTATGTTACTCATAAGAAAGTAA\n",
      "\n",
      "Последовательность номер 145:\n",
      "ID: 360807__C0FPF3__ROSEINA2194_00605|k__Bacteria.p__Firmicutes.c__Clostridia.o__Clostridiales.f__Lachnospiraceae.g__Roseburia.s__Roseburia_inulinivorans|UniRef90_C0FPF3|UniRef50_A0A173U4Q5|150\n",
      "Sequence: ATGATTCAGACATTAGCGGAAGTGTTAGAGCGCATAAAGGAATTAGAGACAGAGAATGAGGGGGTAATCAGCCGGAGGACGGCATACCGGTATAAGGTTTATTATGACGAGTTGAAAAAAGTCGGGGAGCGGGAGAATGGGAGAGAATAG\n",
      "\n"
     ]
    }
   ],
   "source": [
    "input_file = \"Roseburia_inulinivorans.ffn\"\n",
    "output_file = \"filtered_sequences_inulinivorans_100_150.ffn\"\n",
    "# Номера уникальных последовательностей, проверенных в BLAST\n",
    "sequence_numbers = [5, 6, 7, 8, 9, 11, 12, 15, 16, 17, 21, 22, 25, 29, 31, 32, 33, 34, 36, 37, 38, 39, 40, 41, 42, 43, 44, 45, 46, 47, 48, 49, 50, 51, 54, 55, 56, 57, 58, 59, 60, 61, 62, 63, 67, 69, 72, 73, 74, 75, 76, 78, 79, 80, 83, 85, 89, 90, 91, 103, 104, 105, 106, 107, 108, 109, 114, 115, 116, 120, 122, 124, 125, 127, 128, 131, 132, 133, 134, 135, 135, 136, 137, 138, 140, 141, 142, 143, 144, 145]\n",
    "sequences = list(SeqIO.parse(output_file, \"fasta\"))\n",
    "\n",
    "for num in sequence_numbers:\n",
    "    sequence_index = num - 1 \n",
    "    if sequence_index < len(sequences):\n",
    "        print(f\"Последовательность номер {num}:\")\n",
    "        print(f\"ID: {sequences[sequence_index].id}\")\n",
    "        print(f\"Sequence: {str(sequences[sequence_index].seq)}\\n\")"
   ]
  },
  {
   "cell_type": "markdown",
   "id": "90520362-05c3-44b9-b2de-6a72e6a32855",
   "metadata": {},
   "source": [
    "## Akkermansia muciniphila"
   ]
  },
  {
   "cell_type": "code",
   "execution_count": 56,
   "id": "19000925-b6e2-400a-a0e5-8d4991c278c1",
   "metadata": {},
   "outputs": [
    {
     "name": "stdout",
     "output_type": "stream",
     "text": [
      "Количество последовательностей Akkermansia_muciniphila: 9121\n"
     ]
    }
   ],
   "source": [
    "input_file = \"Akkermansia_muciniphila.ffn\"\n",
    "\n",
    "count = sum(1 for record in SeqIO.parse(input_file, \"fasta\"))\n",
    "print(f\"Количество последовательностей Akkermansia_muciniphila: {count}\")"
   ]
  },
  {
   "cell_type": "code",
   "execution_count": 57,
   "id": "7145bdb8-0ca9-4eb1-881e-151148db8fb5",
   "metadata": {},
   "outputs": [
    {
     "name": "stdout",
     "output_type": "stream",
     "text": [
      "Количество последовательностей Akkermansia_muciniphila: 36\n"
     ]
    }
   ],
   "source": [
    "input_file = \"Akkermansia_muciniphila.ffn\"\n",
    "output_file = \"filtered_sequences_muciniphila_100_150.ffn\"\n",
    "\n",
    "with open(input_file, \"r\") as in_handle, open(output_file, \"w\") as out_handle:\n",
    "    for record in SeqIO.parse(in_handle, \"fasta\"):\n",
    "        if 100 <= len(record.seq) <= 150:\n",
    "            SeqIO.write(record, out_handle, \"fasta\")\n",
    "count = sum(1 for record in SeqIO.parse(output_file, \"fasta\"))\n",
    "print(f\"Количество последовательностей Akkermansia_muciniphila: {count}\")"
   ]
  },
  {
   "cell_type": "code",
   "execution_count": 58,
   "id": "960ed195-c161-4fea-91e5-51d141ed044f",
   "metadata": {
    "scrolled": true
   },
   "outputs": [
    {
     "name": "stdout",
     "output_type": "stream",
     "text": [
      "Последовательность номер 28:\n",
      "ID: 239935__A0A2N8HZG7__CXU09_11590|k__Bacteria.p__Verrucomicrobia.c__Verrucomicrobiae.o__Verrucomicrobiales.f__Akkermansiaceae.g__Akkermansia.s__Akkermansia_muciniphila|UniRef90_A0A2N8HZG7|UniRef50_A0A2N8HZG7|122\n",
      "Sequence: GATTAGGTAAAAAAGCCCATATTTTTCTCCATGTTAAAGAATGCGAATACCGCTTCAACCATAGAGGTGAAGACCTTTATACTCTTATTTTAACCAACCTGCGAAATTCTCCGATCAACTAG\n",
      "\n",
      "Последовательность номер 32:\n",
      "ID: 239935__A0A2N8HSB4__CXU17_09605|k__Bacteria.p__Verrucomicrobia.c__Verrucomicrobiae.o__Verrucomicrobiales.f__Akkermansiaceae.g__Akkermansia.s__Akkermansia_muciniphila|UniRef90_A0A2N8HSB4|UniRef50_B4VNM0|108\n",
      "Sequence: TTGCTAGGTAAGAGGGGTAAGAGGGGTAAGAGGGGTAAGAGGGGTAAGAGGGGTAAGAGGGGTAAGAGGGGTAAGAGGGGTAAGAGGGGTAAGAGGGGTAAGAGGGGT\n",
      "\n",
      "Последовательность номер 33:\n",
      "ID: 239935__A0A2N8HQN2__CXU17_11555|k__Bacteria.p__Verrucomicrobia.c__Verrucomicrobiae.o__Verrucomicrobiales.f__Akkermansiaceae.g__Akkermansia.s__Akkermansia_muciniphila|UniRef90_A0A2N8HQN2|UniRef50_A0A1U3K2S1|121\n",
      "Sequence: TGATAGGGGTGATAGGGGTGATAGGGGTGATAGGGGTGATAGGGGTGATAGGGGTGATAGGGGTGATAGGGGTGATAGGGGTGATAGGGGTGATAGGGGTGATGATGGGAATTCCCTATAA\n",
      "\n",
      "Последовательность номер 34:\n",
      "ID: 239935__A0A2N8HPT6__CXU19_02420|k__Bacteria.p__Verrucomicrobia.c__Verrucomicrobiae.o__Verrucomicrobiales.f__Akkermansiaceae.g__Akkermansia.s__Akkermansia_muciniphila|UniRef90_A0A2N8HPT6|UniRef50_U3AKX9|113\n",
      "Sequence: GTGAGAGGGGTGAGAGGGGTGAGAGGGGTGAGAGGGGTGAGAGGGGTGAGAGGGGTGAGAGGGGTGAGAGGGGTGAGAGGGGTGAGAGGGGTGATGATGGGAATTCCCTATAA\n",
      "\n",
      "Последовательность номер 35:\n",
      "ID: 239935__A0A2N8HHN3__CXU19_13075|k__Bacteria.p__Verrucomicrobia.c__Verrucomicrobiae.o__Verrucomicrobiales.f__Akkermansiaceae.g__Akkermansia.s__Akkermansia_muciniphila|UniRef90_A0A2N8HHN3|UniRef50_A0A090RWX2|104\n",
      "Sequence: ATAGAGAGTGGAGAGTGGAGAGTGGAGAGTGGAGAGTGGAGAGTGGAGAGTGGAGAGTGGAGAGTGGAGAGTGGAGAGTGGAGAGTGGAGAGTGGAGAGTGGAG\n",
      "\n"
     ]
    }
   ],
   "source": [
    "input_file = \"Akkermansia_muciniphila.ffn\"\n",
    "output_file = \"filtered_sequences_muciniphila_100_150.ffn\"\n",
    "# Номера уникальных последовательностей, проверенных в BLAST\n",
    "sequence_numbers = [28, 32, 33, 34, 35]\n",
    "\n",
    "sequences = list(SeqIO.parse(output_file, \"fasta\"))\n",
    "\n",
    "for num in sequence_numbers:\n",
    "    sequence_index = num - 1 \n",
    "    if sequence_index < len(sequences):\n",
    "        print(f\"Последовательность номер {num}:\")\n",
    "        print(f\"ID: {sequences[sequence_index].id}\")\n",
    "        print(f\"Sequence: {str(sequences[sequence_index].seq)}\\n\")"
   ]
  },
  {
   "cell_type": "markdown",
   "id": "b87c545b-8ea9-4c2b-a115-e43dc2276c7f",
   "metadata": {},
   "source": [
    "## Acidaminococcus sp"
   ]
  },
  {
   "cell_type": "code",
   "execution_count": 60,
   "id": "7738bfa4-063a-4e77-90c6-cbea62c61219",
   "metadata": {},
   "outputs": [
    {
     "name": "stdout",
     "output_type": "stream",
     "text": [
      "Количество последовательностей Acidaminococcus_sp: 1846\n"
     ]
    }
   ],
   "source": [
    "input_file = \"Acidaminococcus_sp.ffn\"\n",
    "\n",
    "count = sum(1 for record in SeqIO.parse(input_file, \"fasta\"))\n",
    "print(f\"Количество последовательностей Acidaminococcus_sp: {count}\")"
   ]
  },
  {
   "cell_type": "code",
   "execution_count": 61,
   "id": "1b0f3fcf-c6e7-4251-afce-04d1763ba31a",
   "metadata": {},
   "outputs": [
    {
     "name": "stdout",
     "output_type": "stream",
     "text": [
      "Количество последовательностей Acidaminococcus_sp: 16\n"
     ]
    }
   ],
   "source": [
    "input_file = \"Acidaminococcus_sp.ffn\"\n",
    "output_file = \"filtered_sequences_acidaminococcus_100_150.ffn\"\n",
    "\n",
    "with open(input_file, \"r\") as in_handle, open(output_file, \"w\") as out_handle:\n",
    "    for record in SeqIO.parse(in_handle, \"fasta\"):\n",
    "        if 100 <= len(record.seq) <= 150:\n",
    "            SeqIO.write(record, out_handle, \"fasta\")\n",
    "count = sum(1 for record in SeqIO.parse(output_file, \"fasta\"))\n",
    "print(f\"Количество последовательностей Acidaminococcus_sp: {count}\")"
   ]
  },
  {
   "cell_type": "code",
   "execution_count": 62,
   "id": "a551b6a1-147c-41d0-801e-495946669508",
   "metadata": {
    "scrolled": true
   },
   "outputs": [
    {
     "name": "stdout",
     "output_type": "stream",
     "text": [
      "Последовательность номер 1:\n",
      "ID: 1262687__R7LTX7__BN701_00041|k__Bacteria.p__Firmicutes.c__Negativicutes.o__Acidaminococcales.f__Acidaminococcaceae.g__Acidaminococcus.s__Acidaminococcus_sp_CAG_542|UniRef90_R7LTX7|UniRef50_D2RJA9|123\n",
      "Sequence: ATGATGAATCTGATGAACGTGGAACCGGTATTCTGGATCGGAATGGGAGCCGTGGCGGCAGTGATCTGCCTGATGCAGGCAGTCTGCTGGACCCGGGAACCGAAGATGCGGAAGAATGGATGA\n",
      "\n",
      "Последовательность номер 3:\n",
      "ID: 1262687__R7M008__BN701_00090|k__Bacteria.p__Firmicutes.c__Negativicutes.o__Acidaminococcales.f__Acidaminococcaceae.g__Acidaminococcus.s__Acidaminococcus_sp_CAG_542|UniRef90_R7M008|UniRef50_R7M008|144\n",
      "Sequence: ATGACTCCTTCCAGAAAAATTTCCTTTTCTCTTTTCCTGGCGGTGCTGGGAATGGTTTCTTCCGGGTTCCGGCCTTTGCCGGCTCTGGCCCGGGAGGATGCCGCCAAAATCTCCCACGCCCGGAAAAGCTGGCCAACAATGTGA\n",
      "\n",
      "Последовательность номер 5:\n",
      "ID: 1262687__R7M073__BN701_00231|k__Bacteria.p__Firmicutes.c__Negativicutes.o__Acidaminococcales.f__Acidaminococcaceae.g__Acidaminococcus.s__Acidaminococcus_sp_CAG_542|UniRef90_R7M073|UniRef50_R7M073|147\n",
      "Sequence: ATGGTCAAGGTGATCAGTGGCCTGAAGAACGCAGACCTGGAGCAGGCCCTGGCAGGAGATTTGTGCGTTATGCCGCTGAAAACCCGGAAAGAGTACCGGAATGCGGTGAGAGAAGTTCTGAAAAGCCGGTATTCGTCCCTCACCTAG\n",
      "\n",
      "Последовательность номер 7:\n",
      "ID: 1262687__R7M2R9__BN701_00694|k__Bacteria.p__Firmicutes.c__Negativicutes.o__Acidaminococcales.f__Acidaminococcaceae.g__Acidaminococcus.s__Acidaminococcus_sp_CAG_542|UniRef90_R7M2R9|UniRef50_R7CMB9|123\n",
      "Sequence: ATGGATTCCGTAACCGCAGCCCTGCAGCTTCTCGTCATCGCCTACCCCACCCTGTTCCTGGTCATGGCCCTGTTCGCCGGCCTGACATGGGGTCTGACGAAACTGTTTCCGGCGAAAGAATAA\n",
      "\n",
      "Последовательность номер 8:\n",
      "ID: 1262687__R7LY84__BN701_00750|k__Bacteria.p__Firmicutes.c__Negativicutes.o__Acidaminococcales.f__Acidaminococcaceae.g__Acidaminococcus.s__Acidaminococcus_sp_CAG_542|UniRef90_R7LY84|UniRef50_R7LY84|141\n",
      "Sequence: ATGGGTACATTTGTTGTGGGCCTGGTGCTCTTTCTCATCGTTGCGGCAGTGATCCGCAAGATGTACAAAGACCACAAGGCAGGGAAAAGTTGCTGCGGAGGAAACTGCGGAAGCTGTGGACTTTGCAGGGGGAAGAAATAA\n",
      "\n",
      "Последовательность номер 10:\n",
      "ID: 1262687__R7LZF1__BN701_00992|k__Bacteria.p__Firmicutes.c__Negativicutes.o__Acidaminococcales.f__Acidaminococcaceae.g__Acidaminococcus.s__Acidaminococcus_sp_CAG_542|UniRef90_R7LZF1|UniRef50_R7LZF1|150\n",
      "Sequence: ATGAAATGTCTGGGAAAATCCACGGCCCTGGCAGCCCTGTGCCTGCTGCTGGTCCTTCTGGCAGGGTGCAGGGTGGACCAGAGGCAGCGGGACGGAAAGACCGGGGCGTCACCGGTGAGGATCAGTGAGCTTACAGTCACTAGTCTCTAG\n",
      "\n",
      "Последовательность номер 11:\n",
      "ID: 1262687__R7M024__BN701_00996|k__Bacteria.p__Firmicutes.c__Negativicutes.o__Acidaminococcales.f__Acidaminococcaceae.g__Acidaminococcus.s__Acidaminococcus_sp_CAG_542|UniRef90_R7M024|UniRef50_R7M024|144\n",
      "Sequence: ATGAAACTGAAAACCACTGATATCCTTATGACAATTTGTGTACTGGGATCCACTCACAAGATTGACACGTTGAGTTATATCATCTGGGGCTTGTATGTTATTTATATGTTTTGCAGATTTTTGGATTGGAAAAAGAAAAAATGA\n",
      "\n",
      "Последовательность номер 13:\n",
      "ID: 1262687__R7LZ99__BN701_01632|k__Bacteria.p__Firmicutes.c__Negativicutes.o__Acidaminococcales.f__Acidaminococcaceae.g__Acidaminococcus.s__Acidaminococcus_sp_CAG_542|UniRef90_R7LZ99|UniRef50_R7LZ99|117\n",
      "Sequence: TTGGCCAAGACCCTGAAAATTGTCCTGGATACCCCTCTCCTCCGGGAAGACGGGACCCTGACCCCGGAATCGGAAAAAATGCTGGCACAGGGCCTGGACCATGTTTCCCTGCAGTAA\n",
      "\n",
      "Последовательность номер 15:\n",
      "ID: 1262687__R7M1U3__BN701_01770|k__Bacteria.p__Firmicutes.c__Negativicutes.o__Acidaminococcales.f__Acidaminococcaceae.g__Acidaminococcus.s__Acidaminococcus_sp_CAG_542|UniRef90_R7M1U3|UniRef50_R7M1U3|102\n",
      "Sequence: ATGAAGAATATGAAAACTATGGCCCTGGCTCTGGCAGCCGGTGTGGAACGCGGCTTTCCAGACTTTGAAAAAGTGCGCAAATTTTGCTCTGCTGATTTTTGA\n",
      "\n",
      "Последовательность номер 16:\n",
      "ID: 1262687__R7M127__BN701_01820|k__Bacteria.p__Firmicutes.c__Negativicutes.o__Acidaminococcales.f__Acidaminococcaceae.g__Acidaminococcus.s__Acidaminococcus_sp_CAG_542|UniRef90_R7M127|UniRef50_R7M127|138\n",
      "Sequence: ATGGTAACCCTGCCCACTCACGCCGCTCAGGCGGATTCCATCTGCTATTCCTTTGTAAAAACCGCCGGAGACATGGAACGACTCCAGCAGGAACTGCACCAGCGAGTTCAAGGGGTTGAAAAGAGCAAAAAAGTATAG\n",
      "\n"
     ]
    }
   ],
   "source": [
    "input_file = \"Acidaminococcus_sp.ffn\"\n",
    "output_file = \"filtered_sequences_acidaminococcus_100_150.ffn\"\n",
    "# Номера уникальных последовательностей, проверенных в BLAST\n",
    "sequence_numbers = [1, 3, 5, 7, 8, 10, 11, 13, 15, 16]\n",
    "\n",
    "sequences = list(SeqIO.parse(output_file, \"fasta\"))\n",
    "\n",
    "for num in sequence_numbers:\n",
    "    sequence_index = num - 1 \n",
    "    if sequence_index < len(sequences):\n",
    "        print(f\"Последовательность номер {num}:\")\n",
    "        print(f\"ID: {sequences[sequence_index].id}\")\n",
    "        print(f\"Sequence: {str(sequences[sequence_index].seq)}\\n\")"
   ]
  },
  {
   "cell_type": "markdown",
   "id": "aa7b71e7-1a2f-4d95-81e8-d5b9ab3a04b0",
   "metadata": {},
   "source": [
    "## Blautia wexlerae"
   ]
  },
  {
   "cell_type": "code",
   "execution_count": 63,
   "id": "095f0ad3-c6ec-4e20-9463-cdac84ec7087",
   "metadata": {},
   "outputs": [
    {
     "name": "stdout",
     "output_type": "stream",
     "text": [
      "Количество последовательностей Blautia_wexlerae: 5413\n"
     ]
    }
   ],
   "source": [
    "input_file = \"Blautia_wexlerae.ffn\"\n",
    "\n",
    "count = sum(1 for record in SeqIO.parse(input_file, \"fasta\"))\n",
    "print(f\"Количество последовательностей Blautia_wexlerae: {count}\")"
   ]
  },
  {
   "cell_type": "code",
   "execution_count": 64,
   "id": "debac0ce-5762-4dc3-96cc-78bf0d1491f2",
   "metadata": {},
   "outputs": [
    {
     "name": "stdout",
     "output_type": "stream",
     "text": [
      "Количество последовательностей Blautia_wexlerae: 104\n"
     ]
    }
   ],
   "source": [
    "input_file = \"Blautia_wexlerae.ffn\"\n",
    "output_file = \"filtered_sequences_wexlerae_100_150.ffn\"\n",
    "\n",
    "with open(input_file, \"r\") as in_handle, open(output_file, \"w\") as out_handle:\n",
    "    for record in SeqIO.parse(in_handle, \"fasta\"):\n",
    "        if 100 <= len(record.seq) <= 150:\n",
    "            SeqIO.write(record, out_handle, \"fasta\")\n",
    "count = sum(1 for record in SeqIO.parse(output_file, \"fasta\"))\n",
    "print(f\"Количество последовательностей Blautia_wexlerae: {count}\")"
   ]
  },
  {
   "cell_type": "code",
   "execution_count": 67,
   "id": "b885b07a-7414-4d82-ae57-c580bf24cdaa",
   "metadata": {
    "scrolled": true
   },
   "outputs": [
    {
     "name": "stdout",
     "output_type": "stream",
     "text": [
      "Последовательность номер 14:\n",
      "ID: 418240__A0A174CFY6__ERS852478_01853|k__Bacteria.p__Firmicutes.c__Clostridia.o__Clostridiales.f__Lachnospiraceae.g__Blautia.s__Blautia_wexlerae|UniRef90_A0A174CFY6|UniRef50_A0A174CFY6|120\n",
      "Sequence: ATGGAAAGAACCTGTGTACCAATTCCATCAAGTGATATAAATGCAATTATGCACCTGGAAATCTGTGCACCGGAAAATAAGAATAATCTCAAAGGACTCATCAGATCTGTCATGGTATGA\n",
      "\n",
      "Последовательность номер 16:\n",
      "ID: 418240__A0A174W4T9__ERS852478_01888|k__Bacteria.p__Firmicutes.c__Clostridia.o__Clostridiales.f__Lachnospiraceae.g__Blautia.s__Blautia_wexlerae|UniRef90_A0A174W4T9|UniRef50_R5ZDS4|138\n",
      "Sequence: ATGGAAGCAGTACAGAGAATTCGATTGATCCGAATCATAGAAAAAATGGAGAAAAATCCGGAATTCTGTAATAAGTTTGGAATAAAGAATACATCTGAATATATAGCAGAAAAAGAATCAAAAAAAGGCATATATTAG\n",
      "\n",
      "Последовательность номер 41:\n",
      "ID: 418240__A0A174WAG5__ERS852478_03570|k__Bacteria.p__Firmicutes.c__Clostridia.o__Clostridiales.f__Lachnospiraceae.g__Blautia.s__Blautia_wexlerae|UniRef90_A0A174WAG5|UniRef50_A0A174WAG5|138\n",
      "Sequence: ATGATGCAGGGAGGGAAGGATATGAGTAAAGAAGAGGTGCTGCTGGAAAGCATTAGAAACTATTTCCATGTAAGAAAGGGGCTGTTTAGTCTGGATATTGTCTTAGCGGATGGAAGAAAATTAGAAAGATATATTTAG\n",
      "\n",
      "Последовательность номер 60:\n",
      "ID: 418240__A0A174P8Z0__ERS852523_02119|k__Bacteria.p__Firmicutes.c__Clostridia.o__Clostridiales.f__Lachnospiraceae.g__Blautia.s__Blautia_wexlerae|UniRef90_A0A174P8Z0|UniRef50_A0A174P8Z0|144\n",
      "Sequence: ATGTGTAATAATTCAAAAAACACTACTAAAGAATCCTCAAATAATACCAACGAGGAAAATACCTCTAGTAGTAAGTTTGAAAATAATCTTGACGATGAAATTGATTCAGAAACCTTAATTCCTATCATGCAGCTTCTTTTATAA\n",
      "\n",
      "Последовательность номер 61:\n",
      "ID: 418240__A0A174P9L7__ERS852523_02127|k__Bacteria.p__Firmicutes.c__Clostridia.o__Clostridiales.f__Lachnospiraceae.g__Blautia.s__Blautia_wexlerae|UniRef90_A0A174P9L7|UniRef50_R5R4C4|105\n",
      "Sequence: ATGAAATTTCTTGCTATGTGTATAGAAGCTTGTGCAATATGGGGAGCAAATTGTGCATCTGTTTGTCTTTCATATCAGCCTAAATTACCGGAATGTCTGAAATAA\n",
      "\n",
      "Последовательность номер 62:\n",
      "ID: 418240__A0A174PJ14__ERS852523_02134|k__Bacteria.p__Firmicutes.c__Clostridia.o__Clostridiales.f__Lachnospiraceae.g__Blautia.s__Blautia_wexlerae|UniRef90_A0A174PJ14|UniRef50_A0A174PJ14|150\n",
      "Sequence: ATGAAAATTAATGAATTTAAAGAAAATAACGAAACAAAAAAAGAGGTTATGGATCAGAAAATGGAGGCCTTAAAACTGGAAAATATTAACAGCATGTGGTACTTCATTGTCGCTACCCTTAAAGCTGTCGTTGGTAGTAAAGGACACTAA\n",
      "\n",
      "Последовательность номер 69:\n",
      "ID: 418240__A0A174PED2__ERS852523_02904|k__Bacteria.p__Firmicutes.c__Clostridia.o__Clostridiales.f__Lachnospiraceae.g__Blautia.s__Blautia_wexlerae|UniRef90_A0A174PED2|UniRef50_A0A174PED2|129\n",
      "Sequence: ATGTTTGAACCATTATCAATGTTAAACGGAACATCATTAGACGAGGCTATGTTGACAGACTTTGTCCCTGCGGCAAGTGCGGGAGGCGCAATTTTAAGTATTATTGTAATTGCGATTGTTCCTATGTAG\n",
      "\n",
      "Последовательность номер 83:\n",
      "ID: 418240__A0A174TJV6__ERS852523_03882|k__Bacteria.p__Firmicutes.c__Clostridia.o__Clostridiales.f__Lachnospiraceae.g__Blautia.s__Blautia_wexlerae|UniRef90_A0A174TJV6|UniRef50_A0A1V0QDR7|120\n",
      "Sequence: ATGGCATCAGTATTAACATCTATTGCAACATTAGTTGAGAAAATTGCTAACTTGGGAGCTGGCCTTGCTTCTTATGGTGGCATGTATCAGCCACAAAAGCCAGATTGTCTTATTAAGTAG\n",
      "\n",
      "Последовательность номер 84:\n",
      "ID: 418240__A0A174TS74__ERS852523_03944|k__Bacteria.p__Firmicutes.c__Clostridia.o__Clostridiales.f__Lachnospiraceae.g__Blautia.s__Blautia_wexlerae|UniRef90_A0A174TS74|UniRef50_A0A174TPY3|132\n",
      "Sequence: ATGACTAAAGAAAGAGAAGAAGTTGTTATGGAGAACGAGGAAATCGAAGGTTACACCTACTGCCCGAGTACAGCACAGAGATGTCTGAATGATTGCATCGGTGGTGGTCCAGTTCTTTCTTCTGCTAACTAA\n",
      "\n",
      "Последовательность номер 85:\n",
      "ID: 418240__A0A174TRA2__ERS852523_03961|k__Bacteria.p__Firmicutes.c__Clostridia.o__Clostridiales.f__Lachnospiraceae.g__Blautia.s__Blautia_wexlerae|UniRef90_A0A174TRA2|UniRef50_A0A174TRA2|135\n",
      "Sequence: ATGGAAAAAACGAACGATTTTGAAGAAGAAGTAGATACTATTGATGGATATAGCACGTGTAGCACAACAAAACAACAGTGCTTAACCGATTGTGTTCCACCATTTGAGGCACCAGTATTATCTGATGTAAATTAG\n",
      "\n",
      "Последовательность номер 86:\n",
      "ID: 418240__A0A174TPY3__ERS852523_03962|k__Bacteria.p__Firmicutes.c__Clostridia.o__Clostridiales.f__Lachnospiraceae.g__Blautia.s__Blautia_wexlerae|UniRef90_A0A174TPY3|UniRef50_A0A174TPY3|144\n",
      "Sequence: ATGAATGATGAAAATGTAAAAGAAAACGAGCAGAAAGAAATAGAAGTTGAACTATATGAATATTGTGCTTCCACGAAGAAAAGATGCTTGAACGATTGTATTGAACCTTGGCGCGGAACACCGGTATTATCTGATGTAAATTAA\n",
      "\n",
      "Последовательность номер 96:\n",
      "ID: 418240__A0A174UJB3__ERS852523_04348|k__Bacteria.p__Firmicutes.c__Clostridia.o__Clostridiales.f__Lachnospiraceae.g__Blautia.s__Blautia_wexlerae|UniRef90_A0A174UJB3|UniRef50_A0A174UJB3|132\n",
      "Sequence: ATGAGCAAGAATACGGCTTTAAGCTTTTTGGGGGAATTTGTCTGTGAAATAGTCGGTCTTGATGTGAATACAGCTAAAGATACTTTCTCAGAGTACCTTGAGAGCAATAACCTTTACAACTGGCAGATATAA\n",
      "\n",
      "Последовательность номер 97:\n",
      "ID: 418240__A0A174V1Q4__ERS852523_04410|k__Bacteria.p__Firmicutes.c__Clostridia.o__Clostridiales.f__Lachnospiraceae.g__Blautia.s__Blautia_wexlerae|UniRef90_A0A174V1Q4|UniRef50_A0A174V1Q4|144\n",
      "Sequence: ATGGAGAAAGAAAAAAGAGAGCAGGAGAGCTGCACAAGCTGCGCTTATAGGAAAGATTGGTATTGTCCCGTTGCCGGAGACCGTGTAAAGAGAGAGGGGCACTGTTCTGAATACGAGAAAAGTGAGATTGCGAAGGAAAAGTAG\n",
      "\n",
      "Последовательность номер 102:\n",
      "ID: 418240__A0A174LYJ4__bglA_2|k__Bacteria.p__Firmicutes.c__Clostridia.o__Clostridiales.f__Lachnospiraceae.g__Blautia.s__Blautia_wexlerae|UniRef90_A0A174LYJ4|UniRef50_A0A174LYJ4|141\n",
      "Sequence: ATGGATAATTTTGAATGGTCAAAAGGTTATTCGGAACGTTTCGGACTTATATATGTAGATTTCAGAAATCAGCAGCGGATTCTGAAAGATTCCGCATACTGGTATCGAGATGTAATACAGACGAATGGAGAAATGCTGTAA\n",
      "\n"
     ]
    }
   ],
   "source": [
    "input_file = \"Blautia_wexlerae.ffn\"\n",
    "output_file = \"filtered_sequences_wexlerae_100_150.ffn\"\n",
    "# Номера уникальных последовательностей, проверенных в BLAST\n",
    "sequence_numbers = [14, 16, 41, 60, 61, 62, 69, 83, 84, 85, 86, 96, 97, 102]\n",
    "\n",
    "sequences = list(SeqIO.parse(output_file, \"fasta\"))\n",
    "\n",
    "for num in sequence_numbers:\n",
    "    sequence_index = num - 1 \n",
    "    if sequence_index < len(sequences):\n",
    "        print(f\"Последовательность номер {num}:\")\n",
    "        print(f\"ID: {sequences[sequence_index].id}\")\n",
    "        print(f\"Sequence: {str(sequences[sequence_index].seq)}\\n\")"
   ]
  },
  {
   "cell_type": "markdown",
   "id": "e91ef508-2fa6-42e5-837d-5d490d5542d0",
   "metadata": {},
   "source": [
    "## Dorea longicatena"
   ]
  },
  {
   "cell_type": "code",
   "execution_count": 68,
   "id": "591036f8-05ce-4593-878e-72a3b73bb009",
   "metadata": {},
   "outputs": [
    {
     "name": "stdout",
     "output_type": "stream",
     "text": [
      "Количество последовательностей Dorea_longicatena: 14095\n"
     ]
    }
   ],
   "source": [
    "input_file = \"Dorea_longicatena.ffn\"\n",
    "\n",
    "count = sum(1 for record in SeqIO.parse(input_file, \"fasta\"))\n",
    "print(f\"Количество последовательностей Dorea_longicatena: {count}\")"
   ]
  },
  {
   "cell_type": "code",
   "execution_count": 69,
   "id": "83d07fed-f1b9-45dc-bf08-9f2303b154dd",
   "metadata": {},
   "outputs": [
    {
     "name": "stdout",
     "output_type": "stream",
     "text": [
      "Количество последовательностей Dorea_longicatena: 417\n"
     ]
    }
   ],
   "source": [
    "input_file = \"Dorea_longicatena.ffn\"\n",
    "output_file = \"filtered_sequences_longicatena_100_150.ffn\"\n",
    "\n",
    "with open(input_file, \"r\") as in_handle, open(output_file, \"w\") as out_handle:\n",
    "    for record in SeqIO.parse(in_handle, \"fasta\"):\n",
    "        if 100 <= len(record.seq) <= 150:\n",
    "            SeqIO.write(record, out_handle, \"fasta\")\n",
    "count = sum(1 for record in SeqIO.parse(output_file, \"fasta\"))\n",
    "print(f\"Количество последовательностей Dorea_longicatena: {count}\")"
   ]
  },
  {
   "cell_type": "code",
   "execution_count": 70,
   "id": "b562130a-d99f-44f6-921b-d1d1c59e10af",
   "metadata": {},
   "outputs": [
    {
     "name": "stdout",
     "output_type": "stream",
     "text": [
      "Последовательность номер 147:\n",
      "ID: 88431__C5EQA4__DW690_13830|k__Bacteria.p__Firmicutes.c__Clostridia.o__Clostridiales.f__Lachnospiraceae.g__Dorea.s__Dorea_longicatena|UniRef90_C5EQA4|UniRef50_A0A174IKU1|150\n",
      "Sequence: ATGGCATCCTATGTTTCCCCGAAAATACGGGACAAATTTGAAAGTCTTTCCATAGACCTGAAGAATGACATATTGAAGCGCAATGTGCACCTGGAAACCTTGCAGGATTTAATTCAGGTTCTGGAAAAGATCGTGAAAGAAGGCAGCTGA\n",
      "\n",
      "Последовательность номер 185:\n",
      "ID: 88431__A0A173XWM2__ERS852423_00844|k__Bacteria.p__Firmicutes.c__Clostridia.o__Clostridiales.f__Lachnospiraceae.g__Dorea.s__Dorea_longicatena|UniRef90_A0A173XWM2|UniRef50_A0A173XWM2|120\n",
      "Sequence: ATGAAGACGAAGAAAGAAAAAGAGATAAAACTGATATTTGTATTGATTGCAATTCTTTTTGCGGCATTTCTGATTATTCCGGTTGTCAGACTTCTGGGAAAATCTGTGATTGGTGAATAG\n",
      "\n",
      "Последовательность номер 189:\n",
      "ID: 88431__A0A174AQ39__ERS852423_01721|k__Bacteria.p__Firmicutes.c__Clostridia.o__Clostridiales.f__Lachnospiraceae.g__Dorea.s__Dorea_longicatena|UniRef90_A0A174AQ39|UniRef50_A0A174AQ39|144\n",
      "Sequence: ATGAGCAATGATCTTCTGAGACCGGACTGTTATTTTCTGTTAAAAGATAATAAAATAAAAGCAATTTCTGATCTGACAGAAAAGGAATTACGTCAGGCTCATAATCTGCAGCAGATGTATAAGGCAGGTGCATTTAATTGGTAA\n",
      "\n",
      "Последовательность номер 201:\n",
      "ID: 88431__A0A174ETU5__ERS852482_00506|k__Bacteria.p__Firmicutes.c__Clostridia.o__Clostridiales.f__Lachnospiraceae.g__Dorea.s__Dorea_longicatena|UniRef90_A0A174ETU5|UniRef50_A0A174ETU5|144\n",
      "Sequence: ATGGCTTTATCCAGTTCTCTATCTGAACAGGAACGTCTGCTGGCAGAACAGAATGGTCAAAAAGATTTTACCGAAATAGAAGAACGTGAGCAGGAGCGGGTTATTAATTTCAAAGCACTCATCCGCAGCTTTTCAACTTTATAA\n",
      "\n",
      "Последовательность номер 202:\n",
      "ID: 88431__A0A174F7J5__ERS852482_00583|k__Bacteria.p__Firmicutes.c__Clostridia.o__Clostridiales.f__Lachnospiraceae.g__Dorea.s__Dorea_longicatena|UniRef90_A0A174F7J5|UniRef50_A0A174F7J5|117\n",
      "Sequence: ATGATTGTATTATATAATACAGATATTATAGGGACAATAGAAAATGTGTTATATGTCATATCGGAAAAACCGATGACAGAAAATGAGGAGTATATGGTATCGGGACAAGGAAAATAG\n",
      "\n",
      "Последовательность номер 206:\n",
      "ID: 88431__A0A174H1H0__ERS852482_01116|k__Bacteria.p__Firmicutes.c__Clostridia.o__Clostridiales.f__Lachnospiraceae.g__Dorea.s__Dorea_longicatena|UniRef90_A0A174H1H0|UniRef50_A0A174H1H0|141\n",
      "Sequence: ATGAAGCAGTTGATGATTATCTGGAATTATGTGCAGGAAAATGAATTGAGCCGGAAAAAGCCTACAAAGGCTCTTTCAATGTTCGAATCTCGCCAGATCTTTATCGTTCCATTGCTATCCATGCCATTCAAGATGGAATGA\n",
      "\n",
      "Последовательность номер 209:\n",
      "ID: 88431__A0A174HWP1__ERS852482_01343|k__Bacteria.p__Firmicutes.c__Clostridia.o__Clostridiales.f__Lachnospiraceae.g__Dorea.s__Dorea_longicatena|UniRef90_A0A174HWP1|UniRef50_A0A174HWP1|135\n",
      "Sequence: ATGTGGCCAGTGCAAGACGGTGGTTTAGGAATGAAGCGTGTCTTAGAATATATGGAAATTCCATTTGAAACATGGGAATCTGTAGGACAGATGCGGATGGAATTTGACAAAGAAGGGGAAATGAAAACAGCGTGA\n",
      "\n",
      "Последовательность номер 210:\n",
      "ID: 88431__A0A174HSD1__ERS852482_01358|k__Bacteria.p__Firmicutes.c__Clostridia.o__Clostridiales.f__Lachnospiraceae.g__Dorea.s__Dorea_longicatena|UniRef90_A0A174HSD1|UniRef50_A0A174HSD1|150\n",
      "Sequence: GTGATAGAACATCCATATTTCCCAGGGCAGCTTACACTTGTCCGGGACTATGTAGGAATGATGAGCTATTCACAAAAAGAAGACGAAAGACATGTCGAAGGATGTGTGACATTGGAGAATGCTTATTTGGTGGCATACAGATTAACATAA\n",
      "\n",
      "Последовательность номер 232:\n",
      "ID: 88431__A0A174PNK8__ERS852482_03156|k__Bacteria.p__Firmicutes.c__Clostridia.o__Clostridiales.f__Lachnospiraceae.g__Dorea.s__Dorea_longicatena|UniRef90_A0A174PNK8|UniRef50_A0A174PNK8|141\n",
      "Sequence: ATGGATTGTGACGGCGAAGAGTGCCGGGTAGTGATCAGTTACTGGGAGCAGTTATATTTAAGGGCAAAGAGGCTGGAGACCGGACATCAGATATATATTATCCGGTTTTCGAACGGAAACTACGATATTGTGAGAAAATGA\n",
      "\n",
      "Последовательность номер 233:\n",
      "ID: 88431__A0A174PP85__ERS852482_03168|k__Bacteria.p__Firmicutes.c__Clostridia.o__Clostridiales.f__Lachnospiraceae.g__Dorea.s__Dorea_longicatena|UniRef90_A0A174PP85|UniRef50_A0A174PP85|132\n",
      "Sequence: ATGGTATTGATTATGCATTACCAGAGAACAAAGAACTGGAAATACGGTCATCTGAATTTAGTGTCGTTTCTCAAGTGGCTTATGGAGGTAGTGAAGGGATTTATCTGGATATCTATTTGGATGGATCCATAG\n",
      "\n",
      "Последовательность номер 236:\n",
      "ID: 88431__A0A174Q145__ERS852482_03197|k__Bacteria.p__Firmicutes.c__Clostridia.o__Clostridiales.f__Lachnospiraceae.g__Dorea.s__Dorea_longicatena|UniRef90_A0A174Q145|UniRef50_A0A174Q145|123\n",
      "Sequence: GTGATCCAGTATCAGGCAATATCCGAATGGCTGCATAAGCACAGACCAGATATGTATCTGTTAAGAGAAGAGATGAATCCACAGACAGATAAAAAAGATATCGAATACCTTAAAAATCTATAA\n",
      "\n",
      "Последовательность номер 237:\n",
      "ID: 88431__R5XSV2__ERS852482_03254|k__Bacteria.p__Firmicutes.c__Clostridia.o__Clostridiales.f__Lachnospiraceae.g__Dorea.s__Dorea_longicatena|UniRef90_R5XSV2|UniRef50_C0CZM1|144\n",
      "Sequence: ATGAAGGAAGAAAATCCGAAATTGAATGAGGAAATAAGACGATTGGAAGCAGCTATTTACAGACAGAAAAATTGTTATGAGGATGATATTCGATACATGATTCGTTCGTTGGAGAAAATCCGAAAAATGATGGGAGAGTTATAA\n",
      "\n",
      "Последовательность номер 238:\n",
      "ID: 88431__A0A174QBY3__ERS852482_03261|k__Bacteria.p__Firmicutes.c__Clostridia.o__Clostridiales.f__Lachnospiraceae.g__Dorea.s__Dorea_longicatena|UniRef90_A0A174QBY3|UniRef50_A0A174QBY3|123\n",
      "Sequence: ATGAAAACAGGAGGGCTGGTACATTGTGAAATGAGCCAGTGGGGGACTATAAGTTTTAAAATATATGGCTATATGAAGTATTTCGTATATAAAAACAGGAGAAAAAGTACATTAAAGAGCTGA\n",
      "\n",
      "Последовательность номер 239:\n",
      "ID: 88431__A0A174QKP9__ERS852482_03263|k__Bacteria.p__Firmicutes.c__Clostridia.o__Clostridiales.f__Lachnospiraceae.g__Dorea.s__Dorea_longicatena|UniRef90_A0A174QKP9|UniRef50_A0A174QKP9|126\n",
      "Sequence: ATGATGATTGCCAGATCATCATGCAGCGCATATTTAAGGGGAGATATACCTGGGATTACATTTGGTGGTGTGACCGGAATGAGCTGCAATGATAGCTATGGCAAAGTACAGGAGATACGAAGTTGA\n",
      "\n",
      "Последовательность номер 240:\n",
      "ID: 88431__R5YG60__ERS852482_03281|k__Bacteria.p__Firmicutes.c__Clostridia.o__Clostridiales.f__Lachnospiraceae.g__Dorea.s__Dorea_longicatena|UniRef90_R5YG60|UniRef50_R5YG60|126\n",
      "Sequence: ATGGTTAGTGAGACACTTCAGATACAAATTGCAATTAATTATGAAAATATGTCAGAAAAATATGGAATTCAAGTAGGTCCAAACTGGACAATAGAGATGGAGCTTTGTGAAAAAGGGGAAAAATAG\n",
      "\n",
      "Последовательность номер 241:\n",
      "ID: 88431__A0A174QN59__ERS852482_03287|k__Bacteria.p__Firmicutes.c__Clostridia.o__Clostridiales.f__Lachnospiraceae.g__Dorea.s__Dorea_longicatena|UniRef90_A0A174QN59|UniRef50_A0A174QN59|114\n",
      "Sequence: ATGGTTGCAACTGCGGCATCACCGATTGCGTTAGCAGGAATCTTAGATACGAATGCAGCATCATTTCCAAATTGTGCTAAAGAAGCAGCAACATTGGCTTCAGCACCGCCGTAA\n",
      "\n",
      "Последовательность номер 243:\n",
      "ID: 88431__A0A174QZG1__ERS852482_03329|k__Bacteria.p__Firmicutes.c__Clostridia.o__Clostridiales.f__Lachnospiraceae.g__Dorea.s__Dorea_longicatena|UniRef90_A0A174QZG1|UniRef50_A0A174QZG1|147\n",
      "Sequence: ATGTTCAAGTTGAAATGCGTGATCAGAATAGTGTATTGGTGGCAGATGACAATCAGAAAATCACACTGTCTGTTGACGGAGAAGTGGAAGTGCTTGGATTTGGAAGCGGGAATCCTAAACCAAATTATAACTTCAATGAAGGCGTGA\n",
      "\n",
      "Последовательность номер 246:\n",
      "ID: 88431__A0A174RL56__ERS852482_03363|k__Bacteria.p__Firmicutes.c__Clostridia.o__Clostridiales.f__Lachnospiraceae.g__Dorea.s__Dorea_longicatena|UniRef90_A0A174RL56|UniRef50_G2SZR0|135\n",
      "Sequence: ATGGAAACAGAAAAATATTCGATTATATTTAGCAGTTCAACAGGGAATACAAAGGAACTTGCGGATACAATTTACGAGGTACTTCCAAAAGAAAAATCTTATCTAGTTATGGACATTTATTACTCTATTTTGTAA\n",
      "\n",
      "Последовательность номер 247:\n",
      "ID: 88431__A0A174RF76__ERS852482_03366|k__Bacteria.p__Firmicutes.c__Clostridia.o__Clostridiales.f__Lachnospiraceae.g__Dorea.s__Dorea_longicatena|UniRef90_A0A174RF76|UniRef50_A0A174RF76|105\n",
      "Sequence: ATGTGTTGGACGAAGACGAAGATTTCCGCCGGATGGACACTGCAAATGCCAGAAGCAGTTTTGAAAAAGCTGCTAATTCTGCTGACAGAGCTTTGGAGATATTGA\n",
      "\n",
      "Последовательность номер 249:\n",
      "ID: 88431__A0A174RRG9__ERS852482_03372|k__Bacteria.p__Firmicutes.c__Clostridia.o__Clostridiales.f__Lachnospiraceae.g__Dorea.s__Dorea_longicatena|UniRef90_A0A174RRG9|UniRef50_A0A174RRG9|144\n",
      "Sequence: ATGAATGAAGAAAAGATGGATGACTATTACAGCAGTTGTAATGGCAACGACATTCATGATATGTGCATGTGGAAAACAGCAGGAGCAGACAACAACATTTACCGGAAAAGAAACGGAAAAGCCAGAATACCAAGGGAATCTTAA\n",
      "\n",
      "Последовательность номер 250:\n",
      "ID: 88431__R5XMV0__ERS852482_03373|k__Bacteria.p__Firmicutes.c__Clostridia.o__Clostridiales.f__Lachnospiraceae.g__Dorea.s__Dorea_longicatena|UniRef90_R5XMV0|UniRef50_A5KQD0|147\n",
      "Sequence: ATGAAGATTTATTGTAAGAAGAGTGATACTGCAAGACAGTATGTAGAACAGTGGCTTCCAATCGTTGCAGCAGCTCAGCTGGCGAAGGAGAATGAATTAGAAAAAGAATTCCTTATGAAATGGATTGATGTTGTAGATTATCAGTAG\n",
      "\n",
      "Последовательность номер 254:\n",
      "ID: 88431__A0A174SMA6__ERS852482_03461|k__Bacteria.p__Firmicutes.c__Clostridia.o__Clostridiales.f__Lachnospiraceae.g__Dorea.s__Dorea_longicatena|UniRef90_A0A174SMA6|UniRef50_A0A174SMA6|105\n",
      "Sequence: ATGCTGGAAAGAAGCAATGAAGTTGTTAAATTAAGTGGCAAGATGTTTTTAGCACAGGGCATGAAATTGGAAGCAATCAATCCGATTTTGATAACAATAAAATAA\n",
      "\n",
      "Последовательность номер 256:\n",
      "ID: 88431__A0A174STE0__ERS852482_03472|k__Bacteria.p__Firmicutes.c__Clostridia.o__Clostridiales.f__Lachnospiraceae.g__Dorea.s__Dorea_longicatena|UniRef90_A0A174STE0|UniRef50_A0A174STE0|117\n",
      "Sequence: ATGAAATCTTTTAATAGTTTATTTGATAAAAGTATAAAATTAGGAAAAGAATTTAGGTTTTATTCCGGTGCTGTATTATTTCTTTCCACTATCTTTTCTTGCTATTTTATCACATGA\n",
      "\n",
      "Последовательность номер 257:\n",
      "ID: 88431__A0A174TGA2__ERS852482_03510|k__Bacteria.p__Firmicutes.c__Clostridia.o__Clostridiales.f__Lachnospiraceae.g__Dorea.s__Dorea_longicatena|UniRef90_A0A174TGA2|UniRef50_A0A174TGA2|144\n",
      "Sequence: ATGACAGGGCAAAAGACGGAAGAGGTAGAAAAAATGGTGCATGAAATAAACATGGAGCATGTTCCGCTGGGAGAACAATTATCGAACGAAGTATACCTCTATGGCGATACCAGAGAGGTTACGCTGGCAAATCCATTTAGGTAA\n",
      "\n",
      "Последовательность номер 258:\n",
      "ID: 88431__A0A174T8V9__ERS852482_03512|k__Bacteria.p__Firmicutes.c__Clostridia.o__Clostridiales.f__Lachnospiraceae.g__Dorea.s__Dorea_longicatena|UniRef90_A0A174T8V9|UniRef50_U5RV69|138\n",
      "Sequence: ATGGTCGATGCAGGGATTTGTGATACGGATATTTGCGGAGAAGCTTCAAGATGTCTGCAGTGCGATCTGAGAATGGATATTACAAGATCAAAAATCTGGAGTGACTATGACGGAGAGGAGGGAGAGAAAACATGTTAA\n",
      "\n",
      "Последовательность номер 261:\n",
      "ID: 88431__A0A174TNS8__ERS852482_03527|k__Bacteria.p__Firmicutes.c__Clostridia.o__Clostridiales.f__Lachnospiraceae.g__Dorea.s__Dorea_longicatena|UniRef90_A0A174TNS8|UniRef50_A0A174TNS8|129\n",
      "Sequence: ATGCTATTCGAGGAATTCGAAAACGTATACAAGAAGAAGGCGCTGATCTTTATATATTCAGTTGTTATGGCGGAGAAAAAGAAGATCTGTTGTACAATCAGGGAGAGTATCAGATTTTTTCATTATTAG\n",
      "\n",
      "Последовательность номер 262:\n",
      "ID: 88431__A0A174TUW2__ERS852482_03534|k__Bacteria.p__Firmicutes.c__Clostridia.o__Clostridiales.f__Lachnospiraceae.g__Dorea.s__Dorea_longicatena|UniRef90_A0A174TUW2|UniRef50_A0A174TUW2|111\n",
      "Sequence: ATGCTGTATGAGATTGTGTCAAACACAAAAGGAATAGAACCAGAATATATAGATATTTTAGCTGCACTGAATCATACTGTACGTTTTAATATGTCAGGTGATGTACGATGA\n",
      "\n",
      "Последовательность номер 263:\n",
      "ID: 88431__R5XIJ2__ERS852482_03548|k__Bacteria.p__Firmicutes.c__Clostridia.o__Clostridiales.f__Lachnospiraceae.g__Dorea.s__Dorea_longicatena|UniRef90_R5XIJ2|UniRef50_A0A2V2C5D2|126\n",
      "Sequence: ATGGAGAGTTTTACAGAGTTGTTATGGAACAGCCTGAATGAAGAAAATAAAGTTTCATTATTTGTCCGCTACATCGATATTGAGACAGGAAAATACGAGACAAAGATTGTAAATAAAAATAACTAA\n",
      "\n",
      "Последовательность номер 264:\n",
      "ID: 88431__A0A174TT64__ERS852482_03549|k__Bacteria.p__Firmicutes.c__Clostridia.o__Clostridiales.f__Lachnospiraceae.g__Dorea.s__Dorea_longicatena|UniRef90_A0A174TT64|UniRef50_A0A174TT64|147\n",
      "Sequence: ATGAGTGAATTAATGACACCTATGTCGTTCGAACATCTTTTAAACTGGATTTTAAAAGAACACAAACAGTATGGAACAGTTTTTGGGGAACATGATCCAGATACGATCTGGAAGGAATTAAGAGTGAGAAGATTGATACATTCTTAA\n",
      "\n",
      "Последовательность номер 265:\n",
      "ID: 88431__A0A174TVM2__ERS852482_03551|k__Bacteria.p__Firmicutes.c__Clostridia.o__Clostridiales.f__Lachnospiraceae.g__Dorea.s__Dorea_longicatena|UniRef90_A0A174TVM2|UniRef50_A0A174TVM2|150\n",
      "Sequence: ATGATGGATACGAACATTGGAAGTCCTTTGATGCTGATCTGTGTGCCGCTGGCAAGCAATGAGACCATAAGTGGTGTCATGACTGGGGAAAGCAGTGTAGAAACTGTTGTCATTCCGACAGAAAATGCGACGTCCCCACCGCACAGATAA\n",
      "\n",
      "Последовательность номер 268:\n",
      "ID: 88431__A0A174TY27__ERS852482_03560|k__Bacteria.p__Firmicutes.c__Clostridia.o__Clostridiales.f__Lachnospiraceae.g__Dorea.s__Dorea_longicatena|UniRef90_A0A174TY27|UniRef50_A0A174TY27|144\n",
      "Sequence: ATGCTGGGTTATATGAGTCCTTTGTTATGCGTTAGTACATGGGTTTCTGGAATTGAAAATGCTCAGATTTATAAGTGGGGGATTATTATTTTGGTACATATTTTGGGAATAGGAATTCCTGTACTTGTTAAAAAGAAAAAGTAG\n",
      "\n",
      "Последовательность номер 269:\n",
      "ID: 88431__R5XF02__ERS852482_03561|k__Bacteria.p__Firmicutes.c__Clostridia.o__Clostridiales.f__Lachnospiraceae.g__Dorea.s__Dorea_longicatena|UniRef90_R5XF02|UniRef50_G5GIX9|141\n",
      "Sequence: ATGGATGTAAATGTAGTCGAGAGCCCAAATCATCCGGAATGTATCCGATGTGGCGAATGTATCAAAGCATGTCCTACAGACGCACTTTGTTATAAATACGGATTTAGTAATAAATCCACAAAGAAGAATACAAACAATTAA\n",
      "\n",
      "Последовательность номер 270:\n",
      "ID: 88431__A0A174UK06__ERS852482_03585|k__Bacteria.p__Firmicutes.c__Clostridia.o__Clostridiales.f__Lachnospiraceae.g__Dorea.s__Dorea_longicatena|UniRef90_A0A174UK06|UniRef50_A0A174UK06|147\n",
      "Sequence: GTGGCAGATGGTCAATGTATGATTATTGTAGAACAGGGAAAAGTAGTAGAGGTATGTGCAGAATCCGGACAGTTTACATATGATACATCTACAGAGCCAAGTATTTTCTCCGGTAATCTTGGAGATAGTATTTCGTCTGGATATTGA\n",
      "\n",
      "Последовательность номер 272:\n",
      "ID: 88431__R5XRY6__ERS852482_03641|k__Bacteria.p__Firmicutes.c__Clostridia.o__Clostridiales.f__Lachnospiraceae.g__Dorea.s__Dorea_longicatena|UniRef90_R5XRY6|UniRef50_A0A174UJZ2|141\n",
      "Sequence: ATGAACGGAAGAAATGTGATTATCGGATGCTGCATGATGGTTGGTGTGAATGCTATCAGTGAGATGGTTGCATCTACAGTTATCACAGGTGCAATAGGAGCGGCACTTTCCAAAGCACGTTTGTTGCCTTCGGAGAAATAG\n",
      "\n",
      "Последовательность номер 273:\n",
      "ID: 88431__A0A174VLF7__ERS852482_03652|k__Bacteria.p__Firmicutes.c__Clostridia.o__Clostridiales.f__Lachnospiraceae.g__Dorea.s__Dorea_longicatena|UniRef90_A0A174VLF7|UniRef50_A0A174VLF7|129\n",
      "Sequence: ATGGGTGTAAAGGGTGTAGATGATATGTCTGTAGAAGAGTACCGCAAAGCAGCAGTAGATGCTGTTTCCTGGCAGAGTCTGCTCATGCAGATGCTTGTGCACCGGGTAATCCAAAAGATGCAAGCGTAG\n",
      "\n",
      "Последовательность номер 276:\n",
      "ID: 88431__R5YF13__ERS852482_03679|k__Bacteria.p__Firmicutes.c__Clostridia.o__Clostridiales.f__Lachnospiraceae.g__Dorea.s__Dorea_longicatena|UniRef90_R5YF13|UniRef50_R5YF13|126\n",
      "Sequence: ATGCGTGATAACTTGGAAGTATCAAGAAAAACCGCTAAAATATGGATAGAATATTTAGATAAAATCAAGATTACAATGCGTTGTGGAAATGAGACAGAGCGCGTAGCATTTGGCTTAAAAGAATAA\n",
      "\n",
      "Последовательность номер 279:\n",
      "ID: 88431__R5XM92__ERS852482_03697|k__Bacteria.p__Firmicutes.c__Clostridia.o__Clostridiales.f__Lachnospiraceae.g__Dorea.s__Dorea_longicatena|UniRef90_R5XM92|UniRef50_R9JPA1|138\n",
      "Sequence: ATGGTAGCAATGCGTGACGGAGAGATTACAAAGGTTCCGTTGGAAGAGGTTGCCGGAAAGCTGAAGTATGTCGATCCAAAATGTAGTTTTATTCAGGAAGCAAAAATGATAGGAATTAGCTTCGGAGATGAATTATGA\n",
      "\n",
      "Последовательность номер 280:\n",
      "ID: 88431__A0A174W1J2__ERS852482_03710|k__Bacteria.p__Firmicutes.c__Clostridia.o__Clostridiales.f__Lachnospiraceae.g__Dorea.s__Dorea_longicatena|UniRef90_A0A174W1J2|UniRef50_A0A174W1J2|102\n",
      "Sequence: ATGTATAAAAATATACAGTACTGCTGTTTTTATGTTAATATGAAGAAAGAATTAAAGCCACCTATGGATCATTATGTATATAAGGAGACGAAGTATGATTAA\n",
      "\n",
      "Последовательность номер 281:\n",
      "ID: 88431__R5XHW6__ERS852482_03715|k__Bacteria.p__Firmicutes.c__Clostridia.o__Clostridiales.f__Lachnospiraceae.g__Dorea.s__Dorea_longicatena|UniRef90_R5XHW6|UniRef50_R5XHW6|150\n",
      "Sequence: ATGGAAGATGTGGATGGAGTTTCTGTGCAAACTTCAAAAGTAATAAAATCATATCTTTCGGATACGGACTCTCTGGTCATTGGAGTGGTAAAGAATTCCAATGATGTAGACGAAAAAAGGGCAACCTTCAATTACTTGATTCAACAATAG\n",
      "\n",
      "Последовательность номер 282:\n",
      "ID: 88431__A0A174WB53__ERS852482_03732|k__Bacteria.p__Firmicutes.c__Clostridia.o__Clostridiales.f__Lachnospiraceae.g__Dorea.s__Dorea_longicatena|UniRef90_A0A174WB53|UniRef50_A0A174WB53|135\n",
      "Sequence: ATGAGTAATACATTTGAAAAAAGAAAAAAAGTCATTTACGATTTCATCTGCGATGATTTTTATGTGCCGATGAAGTTTAAAGAAATTGCTATGATCATTTCAGGGAGATATTATGTCAATCGTGAAATCATTTGA\n",
      "\n",
      "Последовательность номер 284:\n",
      "ID: 88431__R5XZW3__ERS852482_03769|k__Bacteria.p__Firmicutes.c__Clostridia.o__Clostridiales.f__Lachnospiraceae.g__Dorea.s__Dorea_longicatena|UniRef90_R5XZW3|UniRef50_W3ARR1|147\n",
      "Sequence: ATGAAAATCTATACAAACACTTCCGGAATACGTGATCTTGAACAGGCAGCTGAACATATTGCAGCGCACACACTCTATCAAATTGAAGTGAATCACGTTACTTCTGTTACATTTACAGCAGATATGATTCGAAAACTGCTTGTATAA\n",
      "\n",
      "Последовательность номер 285:\n",
      "ID: 88431__A0A174WID9__ERS852482_03788|k__Bacteria.p__Firmicutes.c__Clostridia.o__Clostridiales.f__Lachnospiraceae.g__Dorea.s__Dorea_longicatena|UniRef90_A0A174WID9|UniRef50_A0A174WID9|147\n",
      "Sequence: ATGGCTGTTCTTTCGCAATTTTCGGAACAAGATTCTGAGTTTTACGATTGGTTATTAAAAAACGGAGAAGGTTATCAGATGTATTTGGATGAAAAAGAATGGAAAGAGGGGCGAAAGAAAGTGCTGAGGGGGATTAAAAAGCTATGA\n",
      "\n",
      "Последовательность номер 286:\n",
      "ID: 88431__A0A174WYF9__ERS852482_03808|k__Bacteria.p__Firmicutes.c__Clostridia.o__Clostridiales.f__Lachnospiraceae.g__Dorea.s__Dorea_longicatena|UniRef90_A0A174WYF9|UniRef50_A0A174WYF9|132\n",
      "Sequence: ATGCAATCCAGCGAAGTGGAGTCGGGCTTGCCCGACGAAGCTGAGCAGGAGTGCATAGTCTTTTTCTTGCTTGGAAGTTATCGCGAACTAAATAGCAAACCCGCAGTTGCCGTAATCCTTAAAACATGGTAG\n",
      "\n",
      "Последовательность номер 287:\n",
      "ID: 88431__R5XHT7__ERS852482_03813|k__Bacteria.p__Firmicutes.c__Clostridia.o__Clostridiales.f__Lachnospiraceae.g__Dorea.s__Dorea_longicatena|UniRef90_R5XHT7|UniRef50_A0A173ZH94|105\n",
      "Sequence: ATGCCTGTTTTGAGAAAGGCAATGTTGGAACATGGATTTGGAGAGAAACTGACCGAGAAAGTGTTTTTTGAAAATGCGAGGGCGTTTATTGGCAGGAATCTGTGA\n",
      "\n",
      "Последовательность номер 288:\n",
      "ID: 88431__R5XDR9__ERS852482_03816|k__Bacteria.p__Firmicutes.c__Clostridia.o__Clostridiales.f__Lachnospiraceae.g__Dorea.s__Dorea_longicatena|UniRef90_R5XDR9|UniRef50_B9Y6U0|135\n",
      "Sequence: ATGAGTCAGTGTGCAGAAATCAGTGCATCACTGGATGAGCGTATGCAGAAAGTAAAAGACATGCTTATACAGTCGGAACAAGAGTCGAAAGAACCGGCGAAGCCAACACGATTACTGAACTTGATAAACCGGTAG\n",
      "\n",
      "Последовательность номер 290:\n",
      "ID: 88431__R5XII4__ERS852482_03850|k__Bacteria.p__Firmicutes.c__Clostridia.o__Clostridiales.f__Lachnospiraceae.g__Dorea.s__Dorea_longicatena|UniRef90_R5XII4|UniRef50_R5XII4|150\n",
      "Sequence: ATGGATGATGAGACGCAAGATATGATCTATAAGTATATGGCAGAACGATATCATGATATTTCATCAGCTCAGGGGATGATTCAAGAGGAATATACAGAGAACGCACAGAAGAAGTATGAAGAATTGTTAAAAAGTAGGGATGCAGGATGA\n",
      "\n",
      "Последовательность номер 291:\n",
      "ID: 88431__R5XGC7__ERS852482_03854|k__Bacteria.p__Firmicutes.c__Clostridia.o__Clostridiales.f__Lachnospiraceae.g__Dorea.s__Dorea_longicatena|UniRef90_R5XGC7|UniRef50_A0A2N5P3W7|141\n",
      "Sequence: ATGTTTGGAAGAAATATTGATCTGAGCAGTTATATATTCGGATTTTTAATCACAATTGGTTTTTCAATGTTTGTAAATGGTGTAATGTATTTTAAGTTGAAAAAGATAGATATGGTAGAATCACTCAAGAGTGTTGAGTAA\n",
      "\n",
      "Последовательность номер 293:\n",
      "ID: 88431__A0A174X0Y7__ERS852482_03859|k__Bacteria.p__Firmicutes.c__Clostridia.o__Clostridiales.f__Lachnospiraceae.g__Dorea.s__Dorea_longicatena|UniRef90_A0A174X0Y7|UniRef50_A0A174X0Y7|147\n",
      "Sequence: ATGGACAAGCTGCAATGTTTAATTATTTTGGAGAGTCCTGTAATGGCTTTCATGTGCATACATTTCGTGATGCAATGGAAGCTATTGAAGAAGGTTCAGCAGATTATGCTGTACTTCCGATTGAAAATTCATCTGCAGGGGCAGTGA\n",
      "\n",
      "Последовательность номер 301:\n",
      "ID: 88431__R5XT04__ERS852482_03946|k__Bacteria.p__Firmicutes.c__Clostridia.o__Clostridiales.f__Lachnospiraceae.g__Dorea.s__Dorea_longicatena|UniRef90_R5XT04|UniRef50_R9MEA1|138\n",
      "Sequence: ATGCTGTCATTGAAAGATACAATTGATACTGTCATGTGTCAGACAAAAGAAGATGATATTATTGTTGCATTTGGATCATTATCGTATCTTGGAGATGTAATGAGACTTGTTGGAAAAGAAGAAAAGATTGAAAAATGA\n",
      "\n",
      "Последовательность номер 303:\n",
      "ID: 88431__A0A174XJU8__ERS852482_03977|k__Bacteria.p__Firmicutes.c__Clostridia.o__Clostridiales.f__Lachnospiraceae.g__Dorea.s__Dorea_longicatena|UniRef90_A0A174XJU8|UniRef50_A0A174XJU8|150\n",
      "Sequence: ATGCCGAAGATTGATATGTCAGAATACGATCCGAAAAAAGAGTATCCCCCTAGGACAGAATTCGTTTTGAATGATAAGCCTCCAGAAGTTCCGATTCCGGAATTCCTGAAGAAAAAAGATAAAAAAAGAAATGATACCACTGGTCAATAG\n",
      "\n",
      "Последовательность номер 305:\n",
      "ID: 88431__R5YBZ3__ERS852482_03981|k__Bacteria.p__Firmicutes.c__Clostridia.o__Clostridiales.f__Lachnospiraceae.g__Dorea.s__Dorea_longicatena|UniRef90_R5YBZ3|UniRef50_D4S3Y7|129\n",
      "Sequence: ATGAGAAACTGGGAAGATGATTGCAGGGAGGCAGGAATAGAACTTGCCTGCGACAGTGTTGTATGCAATGATGCACCAGATGAGGATGCAATTACAGCTTGCAAGGAGTTGGGAGCGGCACTTGCATAA\n",
      "\n",
      "Последовательность номер 307:\n",
      "ID: 88431__A0A174XQT9__ERS852482_03997|k__Bacteria.p__Firmicutes.c__Clostridia.o__Clostridiales.f__Lachnospiraceae.g__Dorea.s__Dorea_longicatena|UniRef90_A0A174XQT9|UniRef50_A0A174XQT9|126\n",
      "Sequence: ATGGATTTGGGGGGATTGAAGATGCAAAATTTTGATGAGGAGCATCCACACGTTATCGAAAAGAAGAGCAAGTTGCAGATACATTGGGCAAGGAAAGAGCATCTGCAACAGAGAATATCAAGGTAG\n",
      "\n",
      "Последовательность номер 308:\n",
      "ID: 88431__A0A174XUC8__ERS852482_04022|k__Bacteria.p__Firmicutes.c__Clostridia.o__Clostridiales.f__Lachnospiraceae.g__Dorea.s__Dorea_longicatena|UniRef90_A0A174XUC8|UniRef50_A0A174XUC8|147\n",
      "Sequence: ATGCATGTAAAAGCTAAGAAAATTGCGATTGGCGGTTTGATGCTGGCATTTTCAATTGTCAGTATGTTACTAGGCAATATATTGGAAGTCTTTAGGCATGACGATTGGAGGGTTGATTGCCGGTCAGATTGGCTTATTTATCTATGA\n",
      "\n",
      "Последовательность номер 309:\n",
      "ID: 88431__A0A174XYE8__ERS852482_04026|k__Bacteria.p__Firmicutes.c__Clostridia.o__Clostridiales.f__Lachnospiraceae.g__Dorea.s__Dorea_longicatena|UniRef90_A0A174XYE8|UniRef50_A0A174XYE8|123\n",
      "Sequence: GTGGGAGTTCAAGATCGTGTAGAAATCTGGGATAAAGGACTTTGGGAAGAACGCAGTATGGTCAGTGAAGAAGATTTGGATGCAATTGCAGAACGAATGGAAGCAATTGGAATCAGGATATAA\n",
      "\n",
      "Последовательность номер 310:\n",
      "ID: 88431__A0A174XV86__ERS852482_04033|k__Bacteria.p__Firmicutes.c__Clostridia.o__Clostridiales.f__Lachnospiraceae.g__Dorea.s__Dorea_longicatena|UniRef90_A0A174XV86|UniRef50_A0A174XV86|114\n",
      "Sequence: ATGAAATTAAAAGCAGAGAATGCATACAATAAAAATGCAGTTGATTATCTTGCTGCTAAGAAAAGGAAATTCAAACAGATTGCCAAATTAAATAAACATAATTATAAACAATAA\n",
      "\n",
      "Последовательность номер 311:\n",
      "ID: 88431__A0A174XUU1__ERS852482_04037|k__Bacteria.p__Firmicutes.c__Clostridia.o__Clostridiales.f__Lachnospiraceae.g__Dorea.s__Dorea_longicatena|UniRef90_A0A174XUU1|UniRef50_A0A3E3DCW3|102\n",
      "Sequence: ATGGAAGCTATGGCAGCCGGAGCAATCCGCGTATTAAATGGAGAAGAAAATTTAAAAGTTTATACCGGTAAAAAAGTATGGGACGGATTTGATTGGGAGTAA\n",
      "\n",
      "Последовательность номер 315:\n",
      "ID: 88431__A0A174XQB6__ERS852482_04067|k__Bacteria.p__Firmicutes.c__Clostridia.o__Clostridiales.f__Lachnospiraceae.g__Dorea.s__Dorea_longicatena|UniRef90_A0A174XQB6|UniRef50_G5HEM9|117\n",
      "Sequence: ATGGAAAAAAAGAAAATAGAGTGCCTATATAGGCTTTTGGAGCGTGCGGAGAGTGAACATGATACGGAGACGGTAGCTGCGTTACGATGGGCAATTCTCCAACTTGAAAACAAGTAA\n",
      "\n",
      "Последовательность номер 320:\n",
      "ID: 88431__A0A174XTH2__ERS852482_04093|k__Bacteria.p__Firmicutes.c__Clostridia.o__Clostridiales.f__Lachnospiraceae.g__Dorea.s__Dorea_longicatena|UniRef90_A0A174XTH2|UniRef50_A0A174XTH2|120\n",
      "Sequence: ATGGATCAGCTTGCAGAAGCACAGGTGGTAGGACCCGAAGAAGGTACAAAACCGAGGAAGGTATTGATGACCAAAGAAGAATTTGAAGAGTATTTAGGAACAGGTAAGAAGGAGGATTAG\n",
      "\n",
      "Последовательность номер 322:\n",
      "ID: 88431__A0A174Y4M8__ERS852482_04127|k__Bacteria.p__Firmicutes.c__Clostridia.o__Clostridiales.f__Lachnospiraceae.g__Dorea.s__Dorea_longicatena|UniRef90_A0A174Y4M8|UniRef50_E0S250|123\n",
      "Sequence: ATGACACAGGAAGATATTTATTCTAATTCTGTAAAATGTCAGGAACTCGCTATTGAAAAATCTTCAAATGAAGAAGAATTAGAAACCCTTTATGAACAATGGGCTGATTTAGCCGAAGAATAG\n",
      "\n",
      "Последовательность номер 323:\n",
      "ID: 88431__R5YCR7__ERS852482_04134|k__Bacteria.p__Firmicutes.c__Clostridia.o__Clostridiales.f__Lachnospiraceae.g__Dorea.s__Dorea_longicatena|UniRef90_R5YCR7|UniRef50_P39814|132\n",
      "Sequence: ATGTCTTGGCAGAAACCATCGAAAAAGAAGTGTCCGAAATGTGGAGGATACATGGTTGAAAAGGGAAATAAGCTGGTTTGTGCCGATGAAAAATGCGGATACGTAGAGACGATTGAAAAAGAGAACGCATAA\n",
      "\n",
      "Последовательность номер 328:\n",
      "ID: 88431__A0A174YBF7__ERS852482_04174|k__Bacteria.p__Firmicutes.c__Clostridia.o__Clostridiales.f__Lachnospiraceae.g__Dorea.s__Dorea_longicatena|UniRef90_A0A174YBF7|UniRef50_A0A174YBF7|147\n",
      "Sequence: ATGATAAAACCGGGGATAATCATTATGACACAATTTCAGCATTTATTAAAAGTATGCGTGGATCGGATCCTGATGCCGCTGTTTACTATCTTGCAAAAATGCTTTACGCAGGTGAAGATGTTAAATTCATTGCCAGACGAATTATGA\n",
      "\n",
      "Последовательность номер 330:\n",
      "ID: 88431__R5YCU6__ERS852482_04189|k__Bacteria.p__Firmicutes.c__Clostridia.o__Clostridiales.f__Lachnospiraceae.g__Dorea.s__Dorea_longicatena|UniRef90_R5YCU6|UniRef50_A0A099S0G8|117\n",
      "Sequence: ATGAAAGATGGAGATATTGTAGAACAGGGCAATCACGAAGAGCTGCTTGCAAAAAATGGATTCTATGCAGATTTGTATAACTCACAGTTTGAAAATACAACAGAACAAGCATCATAA\n",
      "\n",
      "Последовательность номер 337:\n",
      "ID: 88431__A0A174Y992__ERS852482_04236|k__Bacteria.p__Firmicutes.c__Clostridia.o__Clostridiales.f__Lachnospiraceae.g__Dorea.s__Dorea_longicatena|UniRef90_A0A174Y992|UniRef50_A0A174Y992|138\n",
      "Sequence: ATGAGATACAATCAGGTTGTGTGTTATGAAAAACAGGAAAACTGGGAAGAAGCTAAGAATGCGGCAAATGAGTATATTGCAGACTACCCGAATGACAAGGATATAGAAAAAGAAGTAGAATTTTTGGAGACAAGATAG\n",
      "\n",
      "Последовательность номер 339:\n",
      "ID: 88431__R5XHC8__ERS852482_04245|k__Bacteria.p__Firmicutes.c__Clostridia.o__Clostridiales.f__Lachnospiraceae.g__Dorea.s__Dorea_longicatena|UniRef90_R5XHC8|UniRef50_A0A174Z465|126\n",
      "Sequence: ATGTGTTTGGGAGAAGGAAGCGGTGCAGTAGCAGCAATGCCTTTACTGGATATGGGCTTGCAGGTATATCGACAAATGGGAACATTTGCAGATATTAAAGTAGAACAATATGAGGTTTTGGAATAG\n",
      "\n",
      "Последовательность номер 347:\n",
      "ID: 88431__A0A174KJJ6__ERS852526_00474|k__Bacteria.p__Firmicutes.c__Clostridia.o__Clostridiales.f__Lachnospiraceae.g__Dorea.s__Dorea_longicatena|UniRef90_A0A174KJJ6|UniRef50_A0A174KJJ6|117\n",
      "Sequence: ATGAGCAATAATGATGTACAAGCAGAGAATGTCCTGTTTTTCAATTTAAGTGTATTGGCAAAAGAATGCAAGATGAACAAGTATCAGGGAACATTAAAAAAGGAACGGACAATGTGA\n",
      "\n",
      "Последовательность номер 354:\n",
      "ID: 88431__A0A174N4M3__ERS852526_01140|k__Bacteria.p__Firmicutes.c__Clostridia.o__Clostridiales.f__Lachnospiraceae.g__Dorea.s__Dorea_longicatena|UniRef90_A0A174N4M3|UniRef50_D4LV86|147\n",
      "Sequence: ATGAAACAGGTATTAATTATAGCGGTTGTAGCAATTATTGCAGCAGTTAATTTTGTGATGTATTGCTGTCTGAGAGTAGCATCACAGGAAGATCAGATGTTGGAAAAACTGAGCAGGAGAAAGGAGTCAGAAAGCGATGGCGATTAG\n",
      "\n",
      "Последовательность номер 355:\n",
      "ID: 88431__A0A174N4I9__ERS852526_01143|k__Bacteria.p__Firmicutes.c__Clostridia.o__Clostridiales.f__Lachnospiraceae.g__Dorea.s__Dorea_longicatena|UniRef90_A0A174N4I9|UniRef50_R5R324|138\n",
      "Sequence: ATGAGCCGAGAAGAATATCTGGAATTTATCACACATCAGCCCTATGACGCAATGGGAGATTTTAGTTTCCTGGTAGATGAAAAGTCTGATAAGGCTGAAAACACTACAATAGAAAATGACAATATGAACACTGATTAA\n",
      "\n",
      "Последовательность номер 359:\n",
      "ID: 88431__A0A174PED2__ERS852526_01414|k__Bacteria.p__Firmicutes.c__Clostridia.o__Clostridiales.f__Lachnospiraceae.g__Dorea.s__Dorea_longicatena|UniRef90_A0A174PED2|UniRef50_A0A174PED2|129\n",
      "Sequence: ATGTTTGAACCATTATCAATGTTAAACGGAACATCATTAGACGAGGCTATGTTGACAGACTTTGTCCCTGCGGCAAGTGCGGGAGGCGCAATTTTAAGTATTATTGTAATTGCGATTGTTCCTATGTAG\n",
      "\n",
      "Последовательность номер 360:\n",
      "ID: 88431__A0A174P8Z0__ERS852526_01438|k__Bacteria.p__Firmicutes.c__Clostridia.o__Clostridiales.f__Lachnospiraceae.g__Dorea.s__Dorea_longicatena|UniRef90_A0A174P8Z0|UniRef50_A0A174P8Z0|144\n",
      "Sequence: ATGTGTAATAATTCAAAAAACACTACTAAAGAATCCTCAAATAATACCAACGAGGAAAATACCTCTAGTAGTAAGTTTGAAAATAATCTTGACGATGAAATTGATTCAGAAACCTTAATTCCTATCATGCAGCTTCTTTTATAA\n",
      "\n",
      "Последовательность номер 361:\n",
      "ID: 88431__A0A174P9L7__ERS852526_01446|k__Bacteria.p__Firmicutes.c__Clostridia.o__Clostridiales.f__Lachnospiraceae.g__Dorea.s__Dorea_longicatena|UniRef90_A0A174P9L7|UniRef50_R5R4C4|105\n",
      "Sequence: ATGAAATTTCTTGCTATGTGTATAGAAGCTTGTGCAATATGGGGAGCAAATTGTGCATCTGTTTGTCTTTCATATCAGCCTAAATTACCGGAATGTCTGAAATAA\n",
      "\n",
      "Последовательность номер 362:\n",
      "ID: 88431__A0A174PJ14__ERS852526_01453|k__Bacteria.p__Firmicutes.c__Clostridia.o__Clostridiales.f__Lachnospiraceae.g__Dorea.s__Dorea_longicatena|UniRef90_A0A174PJ14|UniRef50_A0A174PJ14|150\n",
      "Sequence: ATGAAAATTAATGAATTTAAAGAAAATAACGAAACAAAAAAAGAGGTTATGGATCAGAAAATGGAGGCCTTAAAACTGGAAAATATTAACAGCATGTGGTACTTCATTGTCGCTACCCTTAAAGCTGTCGTTGGTAGTAAAGGACACTAA\n",
      "\n",
      "Последовательность номер 364:\n",
      "ID: 88431__A0A174PUV3__ERS852526_01625|k__Bacteria.p__Firmicutes.c__Clostridia.o__Clostridiales.f__Lachnospiraceae.g__Dorea.s__Dorea_longicatena|UniRef90_A0A174PUV3|UniRef50_A0A174PUV3|150\n",
      "Sequence: ATGGAATATCTTTCAATCAGTCAAACAGTTGAAAAATGGGGACTGTCGAAACGACGAGTGCAGGTACTTTGCTCTGAAAATAGGATTCCTGGGGTAATGCGTGTCGGCAGCTATTGGGCAATTCCGGCAGATGAGATGATGGGAAGTTGA\n",
      "\n",
      "Последовательность номер 368:\n",
      "ID: 88431__A0A174Q804__ERS852526_01739|k__Bacteria.p__Firmicutes.c__Clostridia.o__Clostridiales.f__Lachnospiraceae.g__Dorea.s__Dorea_longicatena|UniRef90_A0A174Q804|UniRef50_D4JD43|120\n",
      "Sequence: ATGCAAATCGTCCCCAAGTTGGGGATGCTTACCATTGTAGAGATTGAAGCTGAATTAATGAATAACTTCACGTTTGTAGAGATGACAGTCAGCTATTCTATGATTAGGAAAAAAAGATAA\n",
      "\n",
      "Последовательность номер 369:\n",
      "ID: 88431__A0A174R670__ERS852526_02035|k__Bacteria.p__Firmicutes.c__Clostridia.o__Clostridiales.f__Lachnospiraceae.g__Dorea.s__Dorea_longicatena|UniRef90_A0A174R670|UniRef50_A0A174R670|132\n",
      "Sequence: ATGGAACATCAGGATACAAAAAAGTTGGAGATGAAACCACTTTTGATAAAGATGTTATTCATAAATAATAAAATCAATCATTCGACATACAAGAAAGTTGTGAAACAGTACAGGAGGAAGGAACGAGCATAA\n",
      "\n",
      "Последовательность номер 371:\n",
      "ID: 88431__A0A174SM81__ERS852526_02414|k__Bacteria.p__Firmicutes.c__Clostridia.o__Clostridiales.f__Lachnospiraceae.g__Dorea.s__Dorea_longicatena|UniRef90_A0A174SM81|UniRef50_A0A174SM81|126\n",
      "Sequence: ATGGCAGCAAATTTAGAAAGTATGTTTTATGTAAGAGAGACACCGTGGCACGGATTAGGGACAAAGGTACAGGAAGCACCGACATCGAACCGGAGATTTATGACAGATTTAAAAGAACGTCTATAA\n",
      "\n",
      "Последовательность номер 380:\n",
      "ID: 88431__A0A174V1Q4__ERS852526_03267|k__Bacteria.p__Firmicutes.c__Clostridia.o__Clostridiales.f__Lachnospiraceae.g__Dorea.s__Dorea_longicatena|UniRef90_A0A174V1Q4|UniRef50_A0A174V1Q4|144\n",
      "Sequence: ATGGAGAAAGAAAAAAGAGAGCAGGAGAGCTGCACAAGCTGCGCTTATAGGAAAGATTGGTATTGTCCCGTTGCCGGAGACCGTGTAAAGAGAGAGGGGCACTGTTCTGAATACGAGAAAAGTGAGATTGCGAAGGAAAAGTAG\n",
      "\n",
      "Последовательность номер 389:\n",
      "ID: 88431__A0A173SCA3__ERS852573_00935|k__Bacteria.p__Firmicutes.c__Clostridia.o__Clostridiales.f__Lachnospiraceae.g__Dorea.s__Dorea_longicatena|UniRef90_A0A173SCA3|UniRef50_A0A173SCA3|135\n",
      "Sequence: ATGAAGAAAAGAAAAATAGACCTTGATGATGTGGCAATCATCTGTGGTCTACTCTCAATCATTATCAATGTGGCATTTTCTGGAAAAGAGTTATTAACCAATGTACGTTGGTTGTTATCTTATCTAGGTTTGTAA\n",
      "\n",
      "Последовательность номер 393:\n",
      "ID: 88431__A0A173TZ08__ERS852573_01825|k__Bacteria.p__Firmicutes.c__Clostridia.o__Clostridiales.f__Lachnospiraceae.g__Dorea.s__Dorea_longicatena|UniRef90_A0A173TZ08|UniRef50_A0A173TZ08|129\n",
      "Sequence: ATGCTGGAATGCATGAATGTAGCCCATAATCATATTGGTAAGCCAGAGGAAATCAGTAAGGAAAAATTTAATATGAAAACACTTAAGAGCAAACCGCGTGGAATGGAACTCACGACTGAGAGAGCCTGA\n",
      "\n",
      "Последовательность номер 400:\n",
      "ID: 88431__A0A174S2K6__fabG_4|k__Bacteria.p__Firmicutes.c__Clostridia.o__Clostridiales.f__Lachnospiraceae.g__Dorea.s__Dorea_longicatena|UniRef90_A0A174S2K6|UniRef50_A0A174S2K6|141\n",
      "Sequence: ATGGATCCAATTCCGCTTCGCAGATTATCTGAGCCAAAAGATATTGCGAATACAGTAGTATTTCTGGCAAGTGAGCAGGCAAGAATGATCACAGGTCAGACAATTGTGATTGATGGCGGAAGCTCTATTGTCGGATACTAA\n",
      "\n",
      "Последовательность номер 404:\n",
      "ID: 88431__A0A174WLR5__nrdD_2|k__Bacteria.p__Firmicutes.c__Clostridia.o__Clostridiales.f__Lachnospiraceae.g__Dorea.s__Dorea_longicatena|UniRef90_A0A174WLR5|UniRef50_A0A174WLR5|147\n",
      "Sequence: ATGGATGAGTTCTGGAGAATTTTGGATGAGCGTCTTGAATTGTGTCATAGAGCACTTCGTTGCAGACATGAGCGTCTGAAAGGAACAATTTCCGATGTAGCTCCGATTTTGTGGCAGAATGGTGCAAGTTATGCAGCATTTGAATGA\n",
      "\n",
      "Последовательность номер 405:\n",
      "ID: 88431__R5Y2I5__nrdR_2|k__Bacteria.p__Firmicutes.c__Clostridia.o__Clostridiales.f__Lachnospiraceae.g__Dorea.s__Dorea_longicatena|UniRef90_R5Y2I5|UniRef50_Q3JZR3|114\n",
      "Sequence: ATGGAAAAATTAAAAGATCTCGATCCGGTTGCATATGTAAGATTCGCATCTGTGTATCGTCAGTTTAAAGATGTTAATACATTTATGGATGAGCTTAAGACGTTCTTAGAGTAA\n",
      "\n",
      "Последовательность номер 406:\n",
      "ID: 88431__A0A174XK78__ptsG_2|k__Bacteria.p__Firmicutes.c__Clostridia.o__Clostridiales.f__Lachnospiraceae.g__Dorea.s__Dorea_longicatena|UniRef90_A0A174XK78|UniRef50_D4CFD5|114\n",
      "Sequence: ATGATGTTTGGTATCCCTGGAGCAGCATTGGCAATGATTCAGTGTGCTAAAGATAACAAGAAAAAAGTTGCAATCGGTCTTGTAGCATCAGCAGCACTTTGTGCATTTGTTTAA\n",
      "\n",
      "Последовательность номер 414:\n",
      "ID: 88431__A0A174XA46__spoVG_2|k__Bacteria.p__Firmicutes.c__Clostridia.o__Clostridiales.f__Lachnospiraceae.g__Dorea.s__Dorea_longicatena|UniRef90_A0A174XA46|UniRef50_A7FPK3|147\n",
      "Sequence: ATGCCAAGCAAAAAAGCAATGGATGGGGAATATCGTGATATAGCACATCCAATTAACTCAGGTACTCGTGACAGAATTCAGAGTACAATTTTAGAAAAATACAAACAGGCTTTGGAAGAAGAACCAGAGGCAGCAGTAGAAATCTAA\n",
      "\n",
      "Последовательность номер 417:\n",
      "ID: 88431__A0A174UL09__ytcD_2|k__Bacteria.p__Firmicutes.c__Clostridia.o__Clostridiales.f__Lachnospiraceae.g__Dorea.s__Dorea_longicatena|UniRef90_A0A174UL09|UniRef50_A0A174UL09|123\n",
      "Sequence: ATGCAACTGTCAAGACAGCTAAAAGCACTGGAAGAAGATGGTTTGATTATCAGAACTGAATATGCGAAGATTCCGCCAAAAGTAGAATATAGTTTAAGTGATATTGGAATGAAAGTTTATTAA\n",
      "\n"
     ]
    }
   ],
   "source": [
    "input_file = \"Dorea_longicatena.ffn\"\n",
    "output_file = \"filtered_sequences_longicatena_100_150.ffn\"\n",
    "# Номера уникальных последовательностей, проверенных в BLAST\n",
    "sequence_numbers = [147, 185, 189, 201, 202, 206, 209, 210, 232, 233, 236, 237, 238, 239, 240, 241, 243, 246, 247, 249, 250, 254, 256, 257, 258, 261, 262, 263, 264, 265, 268, 269, 270, 272, 273, 276, 279, 280, 281, 282, 284, 285, 286, 287, 288, 290, 291, 293, 301, 303, 305, 307, 308, 309, 310, 311, 315, 320, 322, 323, 328, 330, 337, 339, 347, 354, 355, 359, 360, 361, 362, 364, 368, 369, 371, 380, 389, 393, 400, 404, 405, 406, 414, 417]\n",
    "\n",
    "sequences = list(SeqIO.parse(output_file, \"fasta\"))\n",
    "\n",
    "for num in sequence_numbers:\n",
    "    sequence_index = num - 1 \n",
    "    if sequence_index < len(sequences):\n",
    "        print(f\"Последовательность номер {num}:\")\n",
    "        print(f\"ID: {sequences[sequence_index].id}\")\n",
    "        print(f\"Sequence: {str(sequences[sequence_index].seq)}\\n\")"
   ]
  }
 ],
 "metadata": {
  "kernelspec": {
   "display_name": "Python 3 (ipykernel)",
   "language": "python",
   "name": "python3"
  },
  "language_info": {
   "codemirror_mode": {
    "name": "ipython",
    "version": 3
   },
   "file_extension": ".py",
   "mimetype": "text/x-python",
   "name": "python",
   "nbconvert_exporter": "python",
   "pygments_lexer": "ipython3",
   "version": "3.11.5"
  }
 },
 "nbformat": 4,
 "nbformat_minor": 5
}
