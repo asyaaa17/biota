{
 "cells": [
  {
   "cell_type": "markdown",
   "id": "68a55e76-876d-4fad-bcd1-a82e316dd4cf",
   "metadata": {},
   "source": [
    "Proteus_mirabilis  нет уникальных "
   ]
  },
  {
   "cell_type": "code",
   "execution_count": 2,
   "id": "5fee9bd0-9210-4471-ab0f-070468bcc02b",
   "metadata": {},
   "outputs": [
    {
     "name": "stdout",
     "output_type": "stream",
     "text": [
      "Количество последовательностей Proteus_mirabilis: 15438\n"
     ]
    }
   ],
   "source": [
    "from Bio import SeqIO\n",
    "\n",
    "input_file = \"Proteus_mirabilis.ffn\"\n",
    "\n",
    "count = sum(1 for record in SeqIO.parse(input_file, \"fasta\"))\n",
    "print(f\"Количество последовательностей Proteus_mirabilis: {count}\")"
   ]
  },
  {
   "cell_type": "code",
   "execution_count": 3,
   "id": "cdb9a3ed-fe26-43cc-9d1f-671d8a277d52",
   "metadata": {},
   "outputs": [
    {
     "name": "stdout",
     "output_type": "stream",
     "text": [
      "Количество последовательностей Proteus_mirabilis: 347\n"
     ]
    }
   ],
   "source": [
    "input_file = \"Proteus_mirabilis.ffn\"\n",
    "output_file = \"Proteus_mirabilis_filtered_sequences_100_150.ffn\"\n",
    "\n",
    "with open(input_file, \"r\") as in_handle, open(output_file, \"w\") as out_handle:\n",
    "    for record in SeqIO.parse(in_handle, \"fasta\"):\n",
    "        if 100 <= len(record.seq) <= 150:\n",
    "            SeqIO.write(record, out_handle, \"fasta\")\n",
    "count = sum(1 for record in SeqIO.parse(output_file, \"fasta\"))\n",
    "print(f\"Количество последовательностей Proteus_mirabilis: {count}\")"
   ]
  },
  {
   "cell_type": "code",
   "execution_count": 5,
   "id": "e654a4fd-a26f-4d89-aee0-45c7f65a454c",
   "metadata": {},
   "outputs": [],
   "source": [
    "input_file = \"Proteus_mirabilis_filtered_sequences_100_150.ffn\"\n",
    "\n",
    "# Номера интересующих последовательностей (начиная с 1)\n",
    "sequence_numbers = []\n",
    "# Считывание всех последовательностей из файла\n",
    "sequences = list(SeqIO.parse(input_file, \"fasta\"))\n",
    "\n",
    "\n",
    "for num in sequence_numbers:\n",
    "    sequence_index = num - 1  # Перевод в индексацию Python (начинается с 0)\n",
    "    if sequence_index < len(sequences):\n",
    "        print(f\"Последовательность номер {num}:\")\n",
    "        print(f\"ID: {sequences[sequence_index].id}\")\n",
    "        print(f\"Sequence: {str(sequences[sequence_index].seq)}\\n\")\n",
    "    else:\n",
    "        print(f\"Последовательность номер {num} не найдена.\")"
   ]
  },
  {
   "cell_type": "markdown",
   "id": "2ff405da-e8c8-4c6b-93de-0784ea6841c6",
   "metadata": {},
   "source": [
    "Bacteroides fragilis (информация в UC)"
   ]
  },
  {
   "cell_type": "raw",
   "id": "7ed03529-7b7c-443b-b3ac-d9e188930624",
   "metadata": {},
   "source": [
    "Mycobacterium avium subspecies paratuberculosis (MAP) (информация в UC)"
   ]
  },
  {
   "cell_type": "raw",
   "id": "8b2d4ee0-1bb9-4c10-9b0d-284ac7246f94",
   "metadata": {},
   "source": [
    "Fusobacterium varium (информация в UC)"
   ]
  },
  {
   "cell_type": "raw",
   "id": "bb103072-3df4-46e8-b99f-6db785b20fe2",
   "metadata": {},
   "source": [
    "Adherent-Invasive Escherichia coli (AIEC) (информация в UC)"
   ]
  }
 ],
 "metadata": {
  "kernelspec": {
   "display_name": "Python 3 (ipykernel)",
   "language": "python",
   "name": "python3"
  },
  "language_info": {
   "codemirror_mode": {
    "name": "ipython",
    "version": 3
   },
   "file_extension": ".py",
   "mimetype": "text/x-python",
   "name": "python",
   "nbconvert_exporter": "python",
   "pygments_lexer": "ipython3",
   "version": "3.12.0"
  }
 },
 "nbformat": 4,
 "nbformat_minor": 5
}
